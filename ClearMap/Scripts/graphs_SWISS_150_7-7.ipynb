{
 "cells": [
  {
   "cell_type": "code",
   "execution_count": null,
   "metadata": {
    "ExecuteTime": {
     "end_time": "2023-05-19T13:27:58.555033Z",
     "start_time": "2023-05-19T13:27:57.483313Z"
    }
   },
   "outputs": [],
   "source": [
    "import os\n",
    "import pandas as pd\n",
    "import seaborn as sns\n",
    "import matplotlib\n",
    "import matplotlib.pyplot as plt\n",
    "import yaml\n",
    "from yaml import Loader\n",
    "import numpy as np\n",
    "import analyze_cells_energy as ace\n",
    "import utils\n",
    "from scipy.stats import ttest_ind, mannwhitneyu\n",
    "import networkx as nx\n",
    "import copy\n",
    "import itertools\n",
    "from utils_graphs import select_significant_areas, create_graph, plot_graph, get_colors\n",
    "import utils_PLS as upls\n",
    "import matplotlib.colors as cm\n",
    "from matplotlib.lines import Line2D"
   ]
  },
  {
   "cell_type": "code",
   "execution_count": null,
   "metadata": {
    "ExecuteTime": {
     "end_time": "2023-05-19T13:27:58.642923Z",
     "start_time": "2023-05-19T13:27:58.559173Z"
    }
   },
   "outputs": [],
   "source": [
    "# load query file where we added volumes for each area\n",
    "volumes = pd.read_csv(\"query_volumes_reordered.csv\")\n",
    "volumes = ace.clean_volumes_database(volumes)"
   ]
  },
  {
   "cell_type": "code",
   "execution_count": null,
   "metadata": {
    "ExecuteTime": {
     "end_time": "2023-05-19T13:28:02.973217Z",
     "start_time": "2023-05-19T13:27:58.654672Z"
    }
   },
   "outputs": [],
   "source": [
    "root_directory = '/home/stella/Documents/Torino/projects/'\n",
    "experiment = 'SexualImprinting'\n",
    "experimental_group = 'SWISS_MaleUrine_Exposure'\n",
    "data_directory = root_directory + experiment + '/' \\\n",
    "                + experimental_group + '/'\n",
    "dict_results_across_mice = np.load('dict_results/dict_results_across_mice_SW19-35-150_7-7.npy', allow_pickle=True).item()\n",
    "subjects = list(dict_results_across_mice.keys())\n",
    "experimental_groups = utils.divide_in_exp_groups(list_subjects=subjects)\n",
    "df_control_cell_count, df_fam_cell_count, df_unfam_cell_count = \\\n",
    "ace.calculate_value_across_groups(experimental_groups=experimental_groups, \n",
    "                              dict_results_across_mice=dict_results_across_mice, \n",
    "                              value='n_cells')\n",
    "df_ttest_ncells = ace.test_across_groups(df_control=df_control_cell_count, \n",
    "                               df_fam=df_fam_cell_count, \n",
    "                               df_unfam=df_unfam_cell_count)\n",
    "df_ttest_not_null_ncells = df_ttest_ncells.dropna(axis=0,\n",
    "                                   how='all',\n",
    "                                   subset=['pval_Control_vs_Fam',\n",
    "                                          'pval_Control_vs_Unfam',\n",
    "                                          'pval_Fam_vs_Unfam'])\n",
    "df_mannwhitneyu_ncells = ace.test_across_groups(df_control=df_control_cell_count, \n",
    "                               df_fam=df_fam_cell_count, \n",
    "                               df_unfam=df_unfam_cell_count,\n",
    "                                           test='mannwhitneyu')\n",
    "df_mannwhitneyu_not_null_ncells = df_mannwhitneyu_ncells.dropna(axis=0,\n",
    "                                   how='all',\n",
    "                                   subset=['pval_Control_vs_Fam',\n",
    "                                          'pval_Control_vs_Unfam',\n",
    "                                          'pval_Fam_vs_Unfam'])\n",
    "sig_areas_ncells_ttest = select_significant_areas(df=df_ttest_not_null_ncells, threshold=0.05)\n",
    "sig_areas_ncells_mannwhitneyu = select_significant_areas(df=df_mannwhitneyu_not_null_ncells, threshold=0.05)\n",
    "corr_matrix_control_ncells = ace.cross_corr(df_control_cell_count)\n",
    "corr_matrix_fam_ncells = ace.cross_corr(df_fam_cell_count)\n",
    "corr_matrix_unfam_ncells = ace.cross_corr(df_unfam_cell_count)"
   ]
  },
  {
   "cell_type": "code",
   "execution_count": null,
   "metadata": {
    "ExecuteTime": {
     "end_time": "2023-05-19T13:28:02.978098Z",
     "start_time": "2023-05-19T13:28:02.974579Z"
    }
   },
   "outputs": [],
   "source": [
    "corr_threshold = 0.75\n",
    "allen_order = list(volumes[volumes['st_level']==8]['acronym'])"
   ]
  },
  {
   "cell_type": "code",
   "execution_count": null,
   "metadata": {
    "ExecuteTime": {
     "end_time": "2023-05-19T13:28:03.171957Z",
     "start_time": "2023-05-19T13:28:02.980393Z"
    }
   },
   "outputs": [],
   "source": [
    "G_control = create_graph(corr_matrix_control_ncells, volumes=volumes, \n",
    "                         significant_areas=sig_areas_ncells_ttest, \n",
    "                         corr_threshold=corr_threshold, correlations='one')\n",
    "G_fam = create_graph(corr_matrix_fam_ncells,  volumes=volumes, \n",
    "                         significant_areas=sig_areas_ncells_ttest, \n",
    "                         corr_threshold=corr_threshold, correlations='one')\n",
    "G_unfam = create_graph(corr_matrix_unfam_ncells,  volumes=volumes, \n",
    "                         significant_areas=sig_areas_ncells_ttest, \n",
    "                         corr_threshold=corr_threshold, correlations='one')"
   ]
  },
  {
   "cell_type": "code",
   "execution_count": null,
   "metadata": {
    "ExecuteTime": {
     "end_time": "2023-05-19T13:28:03.181306Z",
     "start_time": "2023-05-19T13:28:03.175584Z"
    }
   },
   "outputs": [],
   "source": [
    "corr_threshold > 0"
   ]
  },
  {
   "cell_type": "code",
   "execution_count": null,
   "metadata": {
    "ExecuteTime": {
     "end_time": "2023-05-19T13:28:07.373573Z",
     "start_time": "2023-05-19T13:28:03.183393Z"
    }
   },
   "outputs": [],
   "source": [
    "df_levels = upls.create_df_levels(volumes)"
   ]
  },
  {
   "cell_type": "markdown",
   "metadata": {
    "ExecuteTime": {
     "end_time": "2023-05-09T14:55:31.357894Z",
     "start_time": "2023-05-09T14:55:31.355929Z"
    }
   },
   "source": [
    "# TODOs: \n",
    "1) grandezza nodi per fold change\n",
    "\n",
    "2) PLS girandola due volte sulle aree selezionate dalla prima PLS\n",
    "\n",
    "3) Grafi da aree PLS\n",
    "\n",
    "4) Grafi con le aree anticorrelate (X)\n",
    "\n",
    "5) Correlazione e grafi con energia da confrontare con grafi n cellule\n"
   ]
  },
  {
   "cell_type": "markdown",
   "metadata": {},
   "source": [
    "# Graphs of positive correlations"
   ]
  },
  {
   "cell_type": "code",
   "execution_count": null,
   "metadata": {
    "ExecuteTime": {
     "end_time": "2023-05-19T13:28:59.634870Z",
     "start_time": "2023-05-19T13:28:58.447426Z"
    }
   },
   "outputs": [],
   "source": [
    "fig = plt.figure(\"control\", figsize=(7, 8))\n",
    "plt.subplots_adjust(left=0.25)\n",
    "\n",
    "edge_cmap = plt.cm.get_cmap('Greys')\n",
    "\n",
    "# Create a gridspec for adding subplots of different sizes\n",
    "axgrid = fig.add_gridspec(5, 4)\n",
    "# plot graph\n",
    "ax0 = fig.add_subplot(axgrid[0:3, :])\n",
    "plot_graph(G=G_control,order=allen_order, volumes=volumes, df_levels=df_levels, ax=ax0, title='CONTROL',\n",
    "          edge_cmap=edge_cmap)\n",
    "\n",
    "colors_dict = get_colors(G_control, df_levels=df_levels, order=allen_order, volumes=volumes)[1]\n",
    "areas = sorted(list(G_control.nodes()), key = allen_order.index)\n",
    "degrees = [G_control.degree()[area] for area in areas]\n",
    "# plot degrees\n",
    "ax1 = fig.add_subplot(axgrid[3:, :])\n",
    "ax1.bar(x= areas, \n",
    "        height= degrees)\n",
    "\n",
    "for idx, color in enumerate(get_colors(G_control, \n",
    "                                       df_levels=df_levels, \n",
    "                                       order=allen_order,\n",
    "                                       sorting=True, volumes=volumes)[0]):\n",
    "    ax1.get_children()[idx].set_color(color) \n",
    "    ax1.get_children()[idx].set_edgecolor('black')\n",
    "    \n",
    "ax1.set_title(\"Degree per brain area\")\n",
    "ax1.set_ylabel(\"Degree\")\n",
    "ax1.set_xlabel(\"Area\")\n",
    "ax1.tick_params(axis='x', labelrotation=90)\n",
    "\n",
    "legend_elements = [Line2D([0], [0], marker='o', color='w', label=area,\n",
    "                          markerfacecolor=colors_dict[area], markersize=15) \\\n",
    "                   for area in colors_dict.keys()]\n",
    "\n",
    "# Create the figure\n",
    "ax0.legend(handles=legend_elements, loc='right', bbox_to_anchor=(0.03,0.5))\n",
    "\n",
    "# colorbar\n",
    "weights = [G_control[u][v]['weight'] for u, v in G_control.edges]\n",
    "color_weights=np.array(weights)\n",
    "cmap=edge_cmap\n",
    "vmin=min(weights)\n",
    "vmax=max(weights)\n",
    "sm = plt.cm.ScalarMappable(cmap=cmap, norm=plt.Normalize(vmin = vmin, vmax=vmax))\n",
    "# sm._A = []\n",
    "cbar = plt.colorbar(sm, ax=ax0,fraction=0.032)\n",
    "cbar.set_label('Correlations', rotation=270, labelpad=13)\n",
    "\n",
    "plt.savefig('/home/stella/Documents/Torino/projects/SexualImprinting/figures/graph_control_SWISS_150_7-7.svg')\n",
    "plt.savefig('/home/stella/Documents/Torino/projects/SexualImprinting/figures/graph_control_SWISS_150_7-7.png')"
   ]
  },
  {
   "cell_type": "code",
   "execution_count": null,
   "metadata": {
    "ExecuteTime": {
     "end_time": "2023-05-19T13:29:12.386830Z",
     "start_time": "2023-05-19T13:29:11.421227Z"
    }
   },
   "outputs": [],
   "source": [
    "fig = plt.figure(\"fam\", figsize=(5.5, 8))\n",
    "# Create a gridspec for adding subplots of different sizes\n",
    "axgrid = fig.add_gridspec(5, 4)\n",
    "\n",
    "edge_cmap = plt.cm.get_cmap('Greys')\n",
    "\n",
    "ax0 = fig.add_subplot(axgrid[0:3, :])\n",
    "plot_graph(G=G_fam,order=allen_order, df_levels=df_levels, volumes=volumes, ax=ax0, title='FAM',\n",
    "          edge_cmap=edge_cmap)\n",
    "\n",
    "areas = sorted(list(G_fam.nodes()), key = allen_order.index)\n",
    "degrees = [G_fam.degree()[area] for area in areas]\n",
    "ax1 = fig.add_subplot(axgrid[3:, :])\n",
    "ax1.bar(x= areas, \n",
    "        height= degrees,\n",
    "       color='steelblue')\n",
    "\n",
    "for idx, color in enumerate(get_colors(G_fam, \n",
    "                                       df_levels=df_levels, \n",
    "                                       order=allen_order,\n",
    "                                       sorting=True, volumes=volumes)[0]):\n",
    "    ax1.get_children()[idx].set_color(color) \n",
    "    ax1.get_children()[idx].set_edgecolor('black')\n",
    "    \n",
    "ax1.set_title(\"Degree per brain area\")\n",
    "ax1.set_ylabel(\"Degree\")\n",
    "ax1.set_xlabel(\"Area\")\n",
    "ax1.tick_params(axis='x', labelrotation=90)\n",
    "\n",
    "# colorbar\n",
    "weights = [G_fam[u][v]['weight'] for u, v in G_fam.edges]\n",
    "color_weights=np.array(weights)\n",
    "cmap=edge_cmap\n",
    "vmin=min(weights)\n",
    "vmax=max(weights)\n",
    "sm = plt.cm.ScalarMappable(cmap=cmap, norm=plt.Normalize(vmin = vmin, vmax=vmax))\n",
    "# sm._A = []\n",
    "cbar = plt.colorbar(sm, ax=ax0,fraction=0.032)\n",
    "cbar.set_label('Correlations', rotation=270, labelpad=13)\n",
    "\n",
    "fig.tight_layout()\n",
    "plt.savefig('/home/stella/Documents/Torino/projects/SexualImprinting/figures/graph_fam_SWISS_150_7-7.svg')\n",
    "plt.savefig('/home/stella/Documents/Torino/projects/SexualImprinting/figures/graph_fam_SWISS_150_7-7.png')"
   ]
  },
  {
   "cell_type": "code",
   "execution_count": null,
   "metadata": {
    "ExecuteTime": {
     "end_time": "2023-05-19T13:29:26.663429Z",
     "start_time": "2023-05-19T13:29:24.991420Z"
    }
   },
   "outputs": [],
   "source": [
    "fig = plt.figure(\"unfam\", figsize=(5.5, 8))\n",
    "# Create a gridspec for adding subplots of different sizes\n",
    "axgrid = fig.add_gridspec(5, 4)\n",
    "\n",
    "edge_cmap = plt.cm.get_cmap('Greys')\n",
    "\n",
    "ax0 = fig.add_subplot(axgrid[0:3, :])\n",
    "plot_graph(G=G_unfam,order=allen_order, df_levels=df_levels, ax=ax0, title='UNFAM',\n",
    "          edge_cmap=edge_cmap, volumes=volumes)\n",
    "\n",
    "areas = sorted(list(G_unfam.nodes()), key = allen_order.index)\n",
    "degrees = [G_unfam.degree()[area] for area in areas]\n",
    "ax1 = fig.add_subplot(axgrid[3:, :])\n",
    "ax1.bar(x= areas, \n",
    "        height= degrees,\n",
    "       color='steelblue')\n",
    "\n",
    "for idx, color in enumerate(get_colors(G_unfam, \n",
    "                                       df_levels=df_levels, \n",
    "                                       order=allen_order,\n",
    "                                       sorting=True, volumes=volumes)[0]):\n",
    "    ax1.get_children()[idx].set_color(color) \n",
    "    ax1.get_children()[idx].set_edgecolor('black')\n",
    "    \n",
    "ax1.set_title(\"Degree per brain area\")\n",
    "ax1.set_ylabel(\"Degree\")\n",
    "ax1.set_xlabel(\"Area\")\n",
    "ax1.tick_params(axis='x', labelrotation=90)\n",
    "\n",
    "# colorbar\n",
    "weights = [G_unfam[u][v]['weight'] for u, v in G_unfam.edges]\n",
    "color_weights=np.array(weights)\n",
    "cmap=edge_cmap\n",
    "vmin=min(weights)\n",
    "vmax=max(weights)\n",
    "sm = plt.cm.ScalarMappable(cmap=cmap, norm=plt.Normalize(vmin = vmin, vmax=vmax))\n",
    "# sm._A = []\n",
    "cbar = plt.colorbar(sm, ax=ax0,fraction=0.032)\n",
    "cbar.set_label('Correlations', rotation=270, labelpad=13)\n",
    "\n",
    "fig.tight_layout()\n",
    "plt.savefig('/home/stella/Documents/Torino/projects/SexualImprinting/figures/graph_unfam_SWISS_150_7-7.svg')\n",
    "plt.savefig('/home/stella/Documents/Torino/projects/SexualImprinting/figures/graph_unfam_SWISS_150_7-7.png')"
   ]
  },
  {
   "cell_type": "markdown",
   "metadata": {},
   "source": [
    "## Histogram degrees"
   ]
  },
  {
   "cell_type": "code",
   "execution_count": null,
   "metadata": {
    "ExecuteTime": {
     "end_time": "2023-05-19T13:29:31.630577Z",
     "start_time": "2023-05-19T13:29:31.190799Z"
    }
   },
   "outputs": [],
   "source": [
    "fig, axes = plt.subplots(1,3, figsize=(10,4), sharex=True, sharey=True)\n",
    "axes[0].set_title('CONTROL')\n",
    "axes[0].hist(list(dict(G_control.degree).values()),\n",
    "            color='steelblue', density=True)\n",
    "axes[1].set_title('FAM')\n",
    "axes[1].hist(list(dict(G_fam.degree).values()),\n",
    "            color='darkorange', density=True)\n",
    "axes[2].set_title('UNFAM')\n",
    "axes[2].hist(list(dict(G_unfam.degree).values()),\n",
    "            color='green', density=True)\n",
    "for i in range(3):\n",
    "    axes[i].set_xlabel('degree')\n",
    "axes[0].set_ylabel('count')\n",
    "plt.tight_layout()\n",
    "plt.savefig('/home/stella/Documents/Torino/projects/SexualImprinting/figures/hist_degree_SWISS_150_7-7.svg')\n",
    "plt.savefig('/home/stella/Documents/Torino/projects/SexualImprinting/figures/hist_degree_SWISS_150_7-7.png')"
   ]
  },
  {
   "cell_type": "code",
   "execution_count": null,
   "metadata": {
    "ExecuteTime": {
     "end_time": "2023-05-19T13:29:32.472797Z",
     "start_time": "2023-05-19T13:29:32.357352Z"
    }
   },
   "outputs": [],
   "source": [
    "df_boxplot = pd.DataFrame({'CONTROL':list(dict(G_control.degree).values()), \n",
    "                           'FAM': list(dict(G_fam.degree).values()), \n",
    "                           'UNFAM':list(dict(G_unfam.degree).values())})\n",
    "fig, ax = plt.subplots(1,1)\n",
    "sns.boxplot(data=df_boxplot, ax=ax)\n",
    "ax.set_xlabel('Condition')\n",
    "ax.set_ylabel('Degree')"
   ]
  },
  {
   "cell_type": "markdown",
   "metadata": {},
   "source": [
    "## Histogram weights"
   ]
  },
  {
   "cell_type": "code",
   "execution_count": null,
   "metadata": {
    "ExecuteTime": {
     "end_time": "2023-05-19T13:29:36.274910Z",
     "start_time": "2023-05-19T13:29:35.765233Z"
    }
   },
   "outputs": [],
   "source": [
    "fig, axes = plt.subplots(1,3, figsize=(10,4), sharex=True, sharey=True)\n",
    "for i, G in enumerate([G_control, G_fam, G_unfam]):\n",
    "    axes[i].hist([G[u][v]['weight'] for u, v in G.edges],\n",
    "            color='steelblue', bins=20, density=True)\n",
    "axes[0].set_title('CONTROL')\n",
    "axes[1].set_title('FAM')\n",
    "axes[2].set_title('UNFAM')\n",
    "for i in range(3):\n",
    "    axes[i].set_xlabel('correlation')\n",
    "axes[0].set_ylabel('count')\n",
    "plt.suptitle('Correlation distribution of significant areas')\n",
    "plt.savefig('/home/stella/Documents/Torino/projects/SexualImprinting/figures/hist_correlation_SWISS_150_7-7.svg')\n",
    "plt.savefig('/home/stella/Documents/Torino/projects/SexualImprinting/figures/hist_correlation_SWISS_150_7-7.png')"
   ]
  },
  {
   "cell_type": "markdown",
   "metadata": {},
   "source": [
    "# Overall correlations"
   ]
  },
  {
   "cell_type": "code",
   "execution_count": null,
   "metadata": {
    "ExecuteTime": {
     "end_time": "2023-05-19T13:29:38.557438Z",
     "start_time": "2023-05-19T13:29:37.868587Z"
    }
   },
   "outputs": [],
   "source": [
    "fig, axes = plt.subplots(1,3, figsize=(10,4), sharex=True, sharey=True)\n",
    "colors = ['steelblue', 'darkorange', 'green']\n",
    "for i, corr in enumerate([corr_matrix_control_ncells, \n",
    "                          corr_matrix_fam_ncells, \n",
    "                          corr_matrix_unfam_ncells]):\n",
    "    axes[i].hist(corr.mask(np.triu(np.ones(corr.shape)).astype(bool)).stack().values,\n",
    "            color=colors[i], bins=50, density=True)\n",
    "axes[0].set_title('CONTROL')\n",
    "axes[1].set_title('FAM')\n",
    "axes[2].set_title('UNFAM')\n",
    "for i in range(3):\n",
    "    axes[i].set_xlabel('correlation')\n",
    "axes[0].set_ylabel('count')\n",
    "plt.suptitle('Correlations of all areas')\n",
    "plt.savefig('/home/stella/Documents/Torino/projects/SexualImprinting/figures/hist_correlation_all_SWISS_150_7-7.svg')\n",
    "plt.savefig('/home/stella/Documents/Torino/projects/SexualImprinting/figures/hist_correlation_all_SWISS_150_7-7.png')"
   ]
  },
  {
   "cell_type": "markdown",
   "metadata": {},
   "source": [
    "# Positive and negative correlations"
   ]
  },
  {
   "cell_type": "code",
   "execution_count": null,
   "metadata": {
    "ExecuteTime": {
     "end_time": "2023-05-19T13:29:41.217137Z",
     "start_time": "2023-05-19T13:29:41.105992Z"
    }
   },
   "outputs": [],
   "source": [
    "G_control = create_graph(corr_matrix_control_ncells, volumes=volumes, \n",
    "                         significant_areas=sig_areas_ncells_ttest, \n",
    "                         corr_threshold=corr_threshold, correlations='both')\n",
    "G_fam = create_graph(corr_matrix_fam_ncells,  volumes=volumes, \n",
    "                         significant_areas=sig_areas_ncells_ttest, \n",
    "                         corr_threshold=corr_threshold, correlations='both')\n",
    "G_unfam = create_graph(corr_matrix_unfam_ncells,  volumes=volumes, \n",
    "                         significant_areas=sig_areas_ncells_ttest, \n",
    "                         corr_threshold=corr_threshold, correlations='both')"
   ]
  },
  {
   "cell_type": "code",
   "execution_count": null,
   "metadata": {
    "ExecuteTime": {
     "end_time": "2023-05-19T13:29:54.455374Z",
     "start_time": "2023-05-19T13:29:53.882454Z"
    }
   },
   "outputs": [],
   "source": [
    "fig = plt.figure(\"control\", figsize=(7, 8))\n",
    "plt.subplots_adjust(left=0.25)\n",
    "# Create a gridspec for adding subplots of different sizes\n",
    "axgrid = fig.add_gridspec(5, 4)\n",
    "edge_cmap = plt.cm.get_cmap('seismic_r')\n",
    "# plot graph\n",
    "ax0 = fig.add_subplot(axgrid[0:3, :])\n",
    "\n",
    "plot_graph(G=G_control,order=allen_order, df_levels=df_levels, volumes=volumes, ax=ax0, title='CONTROL',\n",
    "          edge_cmap = plt.cm.get_cmap('seismic_r'))\n",
    "\n",
    "colors_dict = get_colors(G_control, df_levels=df_levels, order=allen_order, volumes=volumes)[1]\n",
    "areas = sorted(list(G_control.nodes()), key = allen_order.index)\n",
    "degrees = [G_control.degree()[area] for area in areas]\n",
    "# plot degrees\n",
    "ax1 = fig.add_subplot(axgrid[3:, :])\n",
    "ax1.bar(x= areas, \n",
    "        height= degrees)\n",
    "\n",
    "for idx, color in enumerate(get_colors(G_control, \n",
    "                                       df_levels=df_levels, \n",
    "                                       order=allen_order,\n",
    "                                       sorting=True, volumes=volumes)[0]):\n",
    "    ax1.get_children()[idx].set_color(color) \n",
    "    ax1.get_children()[idx].set_edgecolor('black')\n",
    "    \n",
    "ax1.set_title(\"Degree per brain area\")\n",
    "ax1.set_ylabel(\"Degree\")\n",
    "ax1.set_xlabel(\"Area\")\n",
    "ax1.tick_params(axis='x', labelrotation=90)\n",
    "\n",
    "legend_elements = [Line2D([0], [0], marker='o', color='w', label=area,\n",
    "                          markerfacecolor=colors_dict[area], markersize=15) \\\n",
    "                   for area in colors_dict.keys()]\n",
    "\n",
    "# Create the legend\n",
    "ax0.legend(handles=legend_elements, loc='right', bbox_to_anchor=(0.03,0.5))\n",
    "\n",
    "# colorbar\n",
    "weights = [G_control[u][v]['weight'] for u, v in G_control.edges]\n",
    "color_weights=np.array(weights)\n",
    "cmap=edge_cmap\n",
    "vmin = min(weights)\n",
    "vmax = max(weights)\n",
    "sm = plt.cm.ScalarMappable(cmap=edge_cmap, norm=plt.Normalize(vmin = vmin, vmax=vmax))\n",
    "cbar = plt.colorbar(sm, ax=ax0,fraction=0.032)\n",
    "cbar.set_label('Correlations', rotation=270, labelpad=13)"
   ]
  },
  {
   "cell_type": "code",
   "execution_count": null,
   "metadata": {
    "ExecuteTime": {
     "end_time": "2023-05-19T13:30:20.340018Z",
     "start_time": "2023-05-19T13:30:19.620240Z"
    }
   },
   "outputs": [],
   "source": [
    "fig = plt.figure(\"fam\", figsize=(5.5, 8))\n",
    "# Create a gridspec for adding subplots of different sizes\n",
    "axgrid = fig.add_gridspec(5, 4)\n",
    "edge_cmap = plt.cm.get_cmap('seismic_r')\n",
    "\n",
    "ax0 = fig.add_subplot(axgrid[0:3, :])\n",
    "plot_graph(G=G_fam,order=allen_order, df_levels=df_levels, volumes=volumes, ax=ax0, title='FAM',\n",
    "          edge_cmap = edge_cmap)\n",
    "\n",
    "areas = sorted(list(G_fam.nodes()), key = allen_order.index)\n",
    "degrees = [G_fam.degree()[area] for area in areas]\n",
    "ax1 = fig.add_subplot(axgrid[3:, :])\n",
    "ax1.bar(x= areas, \n",
    "        height= degrees,\n",
    "       color='steelblue')\n",
    "\n",
    "for idx, color in enumerate(get_colors(G_fam, \n",
    "                                       df_levels=df_levels, \n",
    "                                       order=allen_order,\n",
    "                                       sorting=True, volumes=volumes)[0]):\n",
    "    ax1.get_children()[idx].set_color(color) \n",
    "    ax1.get_children()[idx].set_edgecolor('black')\n",
    "    \n",
    "ax1.set_title(\"Degree per brain area\")\n",
    "ax1.set_ylabel(\"Degree\")\n",
    "ax1.set_xlabel(\"Area\")\n",
    "ax1.tick_params(axis='x', labelrotation=90)\n",
    "\n",
    "fig.tight_layout()\n",
    "# colorbar\n",
    "weights = [G_fam[u][v]['weight'] for u, v in G_fam.edges]\n",
    "color_weights=np.array(weights)\n",
    "cmap=edge_cmap\n",
    "sm = plt.cm.ScalarMappable(cmap=cmap, norm=plt.Normalize(vmin = -1, vmax=1))\n",
    "# sm._A = []\n",
    "cbar = plt.colorbar(sm, ax=ax0,fraction=0.032)\n",
    "cbar.set_label('Correlations', rotation=270, labelpad=13)"
   ]
  },
  {
   "cell_type": "code",
   "execution_count": null,
   "metadata": {
    "ExecuteTime": {
     "end_time": "2023-05-19T13:30:21.301502Z",
     "start_time": "2023-05-19T13:30:20.737986Z"
    }
   },
   "outputs": [],
   "source": [
    "fig = plt.figure(\"unfam\", figsize=(5.5, 8))\n",
    "# Create a gridspec for adding subplots of different sizes\n",
    "axgrid = fig.add_gridspec(5, 4)\n",
    "edge_cmap = plt.cm.get_cmap('seismic_r')\n",
    "\n",
    "ax0 = fig.add_subplot(axgrid[0:3, :])\n",
    "plot_graph(G=G_unfam,order=allen_order, df_levels=df_levels, volumes=volumes, ax=ax0, title='UNFAM',\n",
    "          edge_cmap=edge_cmap)\n",
    "\n",
    "areas = sorted(list(G_unfam.nodes()), key = allen_order.index)\n",
    "degrees = [G_unfam.degree()[area] for area in areas]\n",
    "ax1 = fig.add_subplot(axgrid[3:, :])\n",
    "ax1.bar(x= areas, \n",
    "        height= degrees,\n",
    "       color='steelblue')\n",
    "\n",
    "for idx, color in enumerate(get_colors(G_unfam, \n",
    "                                       df_levels=df_levels, \n",
    "                                       order=allen_order,\n",
    "                                       sorting=True, volumes=volumes)[0]):\n",
    "    ax1.get_children()[idx].set_color(color) \n",
    "    ax1.get_children()[idx].set_edgecolor('black')\n",
    "    \n",
    "ax1.set_title(\"Degree per brain area\")\n",
    "ax1.set_ylabel(\"Degree\")\n",
    "ax1.set_xlabel(\"Area\")\n",
    "ax1.tick_params(axis='x', labelrotation=90)\n",
    "\n",
    "fig.tight_layout()\n",
    "\n",
    "# colorbar\n",
    "weights = [G_unfam[u][v]['weight'] for u, v in G_unfam.edges]\n",
    "color_weights=np.array(weights)\n",
    "cmap=edge_cmap\n",
    "sm = plt.cm.ScalarMappable(cmap=cmap, norm=plt.Normalize(vmin = -1, vmax=1))\n",
    "# sm._A = []\n",
    "cbar = plt.colorbar(sm, ax=ax0,fraction=0.032)\n",
    "cbar.set_label('Correlations', rotation=270, labelpad=13)"
   ]
  },
  {
   "cell_type": "markdown",
   "metadata": {
    "ExecuteTime": {
     "end_time": "2023-05-09T13:01:47.931120Z",
     "start_time": "2023-05-09T13:01:47.920661Z"
    }
   },
   "source": [
    "# Fare grafi scegliendo i nodi con la PLS"
   ]
  },
  {
   "cell_type": "code",
   "execution_count": null,
   "metadata": {},
   "outputs": [],
   "source": []
  },
  {
   "cell_type": "markdown",
   "metadata": {
    "ExecuteTime": {
     "end_time": "2023-05-15T13:35:38.078698Z",
     "start_time": "2023-05-15T13:35:38.071802Z"
    }
   },
   "source": [
    "## Save significant areas"
   ]
  },
  {
   "cell_type": "code",
   "execution_count": null,
   "metadata": {
    "ExecuteTime": {
     "end_time": "2023-05-19T13:28:08.291133Z",
     "start_time": "2023-05-19T13:27:57.746Z"
    }
   },
   "outputs": [],
   "source": [
    "ordered_areas = sorted(sig_areas_ncells_ttest, \n",
    "                       key = list(volumes[volumes['st_level']==8]['safe_name'])\n",
    ".index)\n",
    "dictionary_labels = {volumes.loc[volumes['safe_name'] == area]['acronym'].values[0]:area\\\n",
    "                     for area in ordered_areas}\n",
    "df_areas = pd.DataFrame.from_dict(dictionary_labels, orient='index')\n",
    "df_areas.columns = ['area']\n",
    "df_areas.to_csv('significant_areas_SWISS_150_10-10.csv')"
   ]
  },
  {
   "cell_type": "code",
   "execution_count": null,
   "metadata": {},
   "outputs": [],
   "source": []
  }
 ],
 "metadata": {
  "kernelspec": {
   "display_name": "ClearMap",
   "language": "python",
   "name": "clearmap"
  },
  "language_info": {
   "codemirror_mode": {
    "name": "ipython",
    "version": 3
   },
   "file_extension": ".py",
   "mimetype": "text/x-python",
   "name": "python",
   "nbconvert_exporter": "python",
   "pygments_lexer": "ipython3",
   "version": "3.8.1"
  },
  "latex_envs": {
   "LaTeX_envs_menu_present": true,
   "autoclose": false,
   "autocomplete": true,
   "bibliofile": "biblio.bib",
   "cite_by": "apalike",
   "current_citInitial": 1,
   "eqLabelWithNumbers": true,
   "eqNumInitial": 1,
   "hotkeys": {
    "equation": "Ctrl-E",
    "itemize": "Ctrl-I"
   },
   "labels_anchors": false,
   "latex_user_defs": false,
   "report_style_numbering": false,
   "user_envs_cfg": false
  },
  "toc": {
   "nav_menu": {},
   "number_sections": true,
   "sideBar": true,
   "skip_h1_title": false,
   "title_cell": "Table of Contents",
   "title_sidebar": "Contents",
   "toc_cell": false,
   "toc_position": {},
   "toc_section_display": true,
   "toc_window_display": false
  },
  "varInspector": {
   "cols": {
    "lenName": 16,
    "lenType": 16,
    "lenVar": 40
   },
   "kernels_config": {
    "python": {
     "delete_cmd_postfix": "",
     "delete_cmd_prefix": "del ",
     "library": "var_list.py",
     "varRefreshCmd": "print(var_dic_list())"
    },
    "r": {
     "delete_cmd_postfix": ") ",
     "delete_cmd_prefix": "rm(",
     "library": "var_list.r",
     "varRefreshCmd": "cat(var_dic_list()) "
    }
   },
   "types_to_exclude": [
    "module",
    "function",
    "builtin_function_or_method",
    "instance",
    "_Feature"
   ],
   "window_display": false
  }
 },
 "nbformat": 4,
 "nbformat_minor": 4
}
