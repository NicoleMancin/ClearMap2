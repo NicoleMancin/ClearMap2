{
 "cells": [
  {
   "cell_type": "markdown",
   "metadata": {},
   "source": [
    "# Comparison across mice strains\n",
    "c57 vs SWISS without father (19-35) vs SWISS with father vs WILD without father vs WILD with father"
   ]
  },
  {
   "cell_type": "code",
   "execution_count": 2,
   "metadata": {
    "ExecuteTime": {
     "end_time": "2023-09-01T12:19:07.902617Z",
     "start_time": "2023-09-01T12:19:06.800889Z"
    }
   },
   "outputs": [],
   "source": [
    "# !pip install odfpy\n",
    "# !pip install seaborn\n",
    "import os\n",
    "import pandas as pd\n",
    "import seaborn as sns\n",
    "import matplotlib.pyplot as plt\n",
    "import yaml\n",
    "from yaml import Loader\n",
    "import numpy as np\n",
    "import analyze_cells_energy as ace\n",
    "import utils\n",
    "from scipy.stats import ttest_ind, mannwhitneyu"
   ]
  },
  {
   "cell_type": "code",
   "execution_count": 7,
   "metadata": {
    "ExecuteTime": {
     "end_time": "2023-09-01T12:19:19.933251Z",
     "start_time": "2023-09-01T12:19:19.921832Z"
    }
   },
   "outputs": [],
   "source": [
    "root_directory = '/home/stella/Documents/Torino/projects/'\n",
    "experiment = 'SexualImprinting'\n",
    "\n",
    "c57_wf = 'C57_MaleUrine_Exposure_cFos'\n",
    "c57_wof = 'BL_woF'\n",
    "# swiss = 'SWISS_MaleUrine_Exposure'\n",
    "wild_wf = 'WILD_with_father'\n",
    "wild_wof = 'WILD_without_father'\n",
    "\n",
    "subjects = ace.list_subjects(root_directory)\n",
    "\n",
    "data_directory_c57_wf = root_directory + experiment + '/' \\\n",
    "                + c57_wf + '/'\n",
    "data_directory_c57_wof = root_directory + experiment + '/' \\\n",
    "                + c57_wof + '/'\n",
    "# data_directory_swiss = root_directory + experiment + '/' \\\n",
    "#                 + swiss + '/'\n",
    "data_directory_wild_wf = root_directory + experiment + '/' \\\n",
    "                + wild_wf + '/'\n",
    "data_directory_wild_wof = root_directory + experiment + '/' \\\n",
    "                + wild_wof + '/'"
   ]
  },
  {
   "cell_type": "code",
   "execution_count": 8,
   "metadata": {
    "ExecuteTime": {
     "end_time": "2023-09-01T12:19:20.315406Z",
     "start_time": "2023-09-01T12:19:20.310347Z"
    }
   },
   "outputs": [],
   "source": [
    "def subjects(data_directory):\n",
    "    subjects = [name for name in os.listdir(data_directory) \\\n",
    "                    if os.path.isdir(os.path.join(data_directory, name))]\n",
    "    return subjects"
   ]
  },
  {
   "cell_type": "code",
   "execution_count": 9,
   "metadata": {
    "ExecuteTime": {
     "end_time": "2023-09-01T12:19:20.679359Z",
     "start_time": "2023-09-01T12:19:20.671551Z"
    }
   },
   "outputs": [],
   "source": [
    "subjects_c57_wf = subjects(data_directory_c57_wf)\n",
    "subjects_c57_wof = subjects(data_directory_c57_wof)\n",
    "subjects_wild_wf = subjects(data_directory_wild_wf)\n",
    "subjects_wild_wof = subjects(data_directory_wild_wof)"
   ]
  },
  {
   "cell_type": "code",
   "execution_count": 10,
   "metadata": {
    "ExecuteTime": {
     "end_time": "2023-09-01T12:19:21.122915Z",
     "start_time": "2023-09-01T12:19:21.120686Z"
    }
   },
   "outputs": [],
   "source": [
    "# subjects_swiss_with_father = [sub for sub in subjects_swiss if sub[0:2]=='SW' and int(sub[2:].split('_')[0]) in set(range(2,19))]\n"
   ]
  },
  {
   "cell_type": "code",
   "execution_count": 11,
   "metadata": {
    "ExecuteTime": {
     "end_time": "2023-09-01T12:19:21.540689Z",
     "start_time": "2023-09-01T12:19:21.538180Z"
    }
   },
   "outputs": [],
   "source": [
    "# subjects_swiss_without_father = [sub for sub in subjects_swiss if sub[0:2]=='SW' and int(sub[2:].split('_')[0]) in set(range(19,36))]"
   ]
  },
  {
   "cell_type": "markdown",
   "metadata": {},
   "source": [
    "# Number of cells"
   ]
  },
  {
   "cell_type": "code",
   "execution_count": 12,
   "metadata": {
    "ExecuteTime": {
     "end_time": "2023-09-01T12:19:22.255589Z",
     "start_time": "2023-09-01T12:19:22.244168Z"
    }
   },
   "outputs": [],
   "source": [
    "def append_mouse_group(df, dictionary, group_label, variable_label='n_cells'):\n",
    "    # NB: variable_label is either 'ncells' or 'energy'\n",
    "    dataset = np.load('dict_results/dict_results_across_mice_'+dictionary+'.npy', allow_pickle=True).item()\n",
    "    variable = [dataset[mouse][variable_label].sum() for mouse in dataset.keys()]\n",
    "    df_mouse_group = pd.DataFrame(columns=[variable_label, 'group'])\n",
    "    df_mouse_group[variable_label] = variable\n",
    "    df_mouse_group['group'] = group_label\n",
    "    df = df.append(df_mouse_group)\n",
    "    return df"
   ]
  },
  {
   "cell_type": "code",
   "execution_count": 13,
   "metadata": {
    "ExecuteTime": {
     "end_time": "2023-09-01T12:19:22.683525Z",
     "start_time": "2023-09-01T12:19:22.594812Z"
    }
   },
   "outputs": [],
   "source": [
    "df = {'n_cells', 'group'}\n",
    "df = pd.DataFrame(columns=['n_cells', 'group'])\n",
    "\n",
    "df = append_mouse_group(df=df, dictionary='c57', group_label='c57 with father')\n",
    "df = append_mouse_group(df=df, dictionary='BL_woF_17_31', group_label='c57 without father')\n",
    "df = append_mouse_group(df=df, dictionary='WILD_with_father', group_label='WILD with father')\n",
    "df = append_mouse_group(df=df, dictionary='WILD_without_father', group_label='WILD without father')"
   ]
  },
  {
   "cell_type": "code",
   "execution_count": 14,
   "metadata": {
    "ExecuteTime": {
     "end_time": "2023-09-01T12:19:23.255586Z",
     "start_time": "2023-09-01T12:19:23.092385Z"
    }
   },
   "outputs": [
    {
     "data": {
      "text/plain": [
       "<AxesSubplot:xlabel='n_cells', ylabel='group'>"
      ]
     },
     "execution_count": 14,
     "metadata": {},
     "output_type": "execute_result"
    },
    {
     "data": {
      "image/png": "[encoded data removed]",
      "text/plain": [
       "<Figure size 432x288 with 1 Axes>"
      ]
     },
     "metadata": {
      "needs_background": "light"
     },
     "output_type": "display_data"
    }
   ],
   "source": [
    "fig, ax = plt.subplots()\n",
    "sns.boxplot(data=df, x=\"n_cells\", y=\"group\", ax=ax)\n",
    "# fig.savefig('./figures/boxplot_ncells.png')"
   ]
  },
  {
   "cell_type": "code",
   "execution_count": 111,
   "metadata": {
    "ExecuteTime": {
     "end_time": "2023-09-01T13:20:05.569965Z",
     "start_time": "2023-09-01T13:20:05.264044Z"
    }
   },
   "outputs": [
    {
     "data": {
      "text/plain": [
       "Text(0.5, 1.0, 'Black without father')"
      ]
     },
     "execution_count": 111,
     "metadata": {},
     "output_type": "execute_result"
    },
    {
     "data": {
      "image/png": "[encoded data removed]",
      "text/plain": [
       "<Figure size 432x288 with 1 Axes>"
      ]
     },
     "metadata": {
      "needs_background": "light"
     },
     "output_type": "display_data"
    }
   ],
   "source": [
    "dataset = np.load('dict_results/dict_results_across_mice_BL_woF.npy', allow_pickle=True).item()\n",
    "variable_control = [dataset[mouse]['n_cells'].sum() for mouse in dataset.keys() if mouse[-7:]=='Control']\n",
    "variable_fam = [dataset[mouse]['n_cells'].sum() for mouse in dataset.keys() if mouse[-3:]=='Fam']\n",
    "variable_unfam = [dataset[mouse]['n_cells'].sum() for mouse in dataset.keys() if mouse[-5:]=='Unfam']\n",
    "variable = variable_control + variable_fam + variable_unfam\n",
    "mouse_control = [mouse for mouse in dataset.keys() if mouse[-7:]=='Control']\n",
    "mouse_fam = [mouse for mouse in dataset.keys() if mouse[-3:]=='Fam']\n",
    "mouse_unfam = [mouse for mouse in dataset.keys() if mouse[-5:]=='Unfam']\n",
    "mouse = mouse_control + mouse_fam + mouse_unfam\n",
    "fig, ax = plt.subplots(1,1)\n",
    "ax.bar(mouse, height=variable)\n",
    "ax.tick_params(axis='x', labelrotation=90) \n",
    "ax.set_title('Black without father')"
   ]
  },
  {
   "cell_type": "code",
   "execution_count": 115,
   "metadata": {
    "ExecuteTime": {
     "end_time": "2023-09-01T13:21:08.753064Z",
     "start_time": "2023-09-01T13:21:08.444167Z"
    }
   },
   "outputs": [
    {
     "data": {
      "text/plain": [
       "Text(0.5, 1.0, 'WILD with father')"
      ]
     },
     "execution_count": 115,
     "metadata": {},
     "output_type": "execute_result"
    },
    {
     "data": {
      "image/png": "[encoded data removed]",
      "text/plain": [
       "<Figure size 432x288 with 1 Axes>"
      ]
     },
     "metadata": {
      "needs_background": "light"
     },
     "output_type": "display_data"
    }
   ],
   "source": [
    "dataset = np.load('dict_results/dict_results_across_mice_WILD_with_father.npy', allow_pickle=True).item()\n",
    "variable_control = [dataset[mouse]['n_cells'].sum() for mouse in dataset.keys() if mouse[-7:]=='Control']\n",
    "variable_fam = [dataset[mouse]['n_cells'].sum() for mouse in dataset.keys() if mouse[-3:]=='Fam']\n",
    "variable_unfam = [dataset[mouse]['n_cells'].sum() for mouse in dataset.keys() if mouse[-5:]=='Unfam']\n",
    "variable = variable_control + variable_fam + variable_unfam\n",
    "mouse_control = [mouse for mouse in dataset.keys() if mouse[-7:]=='Control']\n",
    "mouse_fam = [mouse for mouse in dataset.keys() if mouse[-3:]=='Fam']\n",
    "mouse_unfam = [mouse for mouse in dataset.keys() if mouse[-5:]=='Unfam']\n",
    "mouse = mouse_control + mouse_fam + mouse_unfam\n",
    "fig, ax = plt.subplots(1,1)\n",
    "ax.bar(mouse, height=variable)\n",
    "ax.tick_params(axis='x', labelrotation=90)\n",
    "ax.set_title('WILD with father')"
   ]
  },
  {
   "cell_type": "code",
   "execution_count": 113,
   "metadata": {
    "ExecuteTime": {
     "end_time": "2023-09-01T13:20:21.807376Z",
     "start_time": "2023-09-01T13:20:21.484578Z"
    }
   },
   "outputs": [
    {
     "data": {
      "text/plain": [
       "Text(0.5, 1.0, 'WILD without father')"
      ]
     },
     "execution_count": 113,
     "metadata": {},
     "output_type": "execute_result"
    },
    {
     "data": {
      "image/png": "[encoded data removed]",
      "text/plain": [
       "<Figure size 432x288 with 1 Axes>"
      ]
     },
     "metadata": {
      "needs_background": "light"
     },
     "output_type": "display_data"
    }
   ],
   "source": [
    "dataset = np.load('dict_results/dict_results_across_mice_WILD_without_father.npy', allow_pickle=True).item()\n",
    "variable_control = [dataset[mouse]['n_cells'].sum() for mouse in dataset.keys() if mouse[-7:]=='Control']\n",
    "variable_fam = [dataset[mouse]['n_cells'].sum() for mouse in dataset.keys() if mouse[-3:]=='Fam']\n",
    "variable_unfam = [dataset[mouse]['n_cells'].sum() for mouse in dataset.keys() if mouse[-5:]=='Unfam']\n",
    "variable = variable_control + variable_fam + variable_unfam\n",
    "mouse_control = [mouse for mouse in dataset.keys() if mouse[-7:]=='Control']\n",
    "mouse_fam = [mouse for mouse in dataset.keys() if mouse[-3:]=='Fam']\n",
    "mouse_unfam = [mouse for mouse in dataset.keys() if mouse[-5:]=='Unfam']\n",
    "mouse = mouse_control + mouse_fam + mouse_unfam\n",
    "fig, ax = plt.subplots(1,1)\n",
    "ax.bar(mouse, height=variable)\n",
    "ax.tick_params(axis='x', labelrotation=90)\n",
    "ax.set_title('WILD without father')"
   ]
  },
  {
   "cell_type": "code",
   "execution_count": 114,
   "metadata": {
    "ExecuteTime": {
     "end_time": "2023-09-01T13:20:31.127082Z",
     "start_time": "2023-09-01T13:20:30.902188Z"
    }
   },
   "outputs": [
    {
     "data": {
      "text/plain": [
       "Text(0.5, 1.0, 'Black with father')"
      ]
     },
     "execution_count": 114,
     "metadata": {},
     "output_type": "execute_result"
    },
    {
     "data": {
      "image/png": "[encoded data removed]",
      "text/plain": [
       "<Figure size 432x288 with 1 Axes>"
      ]
     },
     "metadata": {
      "needs_background": "light"
     },
     "output_type": "display_data"
    }
   ],
   "source": [
    "dataset = np.load('dict_results/dict_results_across_mice_c57.npy', allow_pickle=True).item()\n",
    "variable_control = [dataset[mouse]['n_cells'].sum() for mouse in dataset.keys() if mouse[-7:]=='Control']\n",
    "variable_fam = [dataset[mouse]['n_cells'].sum() for mouse in dataset.keys() if mouse[-3:]=='Fam']\n",
    "variable_unfam = [dataset[mouse]['n_cells'].sum() for mouse in dataset.keys() if mouse[-5:]=='Unfam']\n",
    "variable = variable_control + variable_fam + variable_unfam\n",
    "mouse_control = [mouse for mouse in dataset.keys() if mouse[-7:]=='Control']\n",
    "mouse_fam = [mouse for mouse in dataset.keys() if mouse[-3:]=='Fam']\n",
    "mouse_unfam = [mouse for mouse in dataset.keys() if mouse[-5:]=='Unfam']\n",
    "mouse = mouse_control + mouse_fam + mouse_unfam\n",
    "fig, ax = plt.subplots(1,1)\n",
    "ax.bar(mouse, height=variable)\n",
    "ax.tick_params(axis='x', labelrotation=90)\n",
    "ax.set_title('Black with father')"
   ]
  },
  {
   "cell_type": "code",
   "execution_count": null,
   "metadata": {},
   "outputs": [],
   "source": []
  },
  {
   "cell_type": "markdown",
   "metadata": {},
   "source": [
    "# Energia"
   ]
  },
  {
   "cell_type": "code",
   "execution_count": 36,
   "metadata": {
    "ExecuteTime": {
     "end_time": "2023-08-29T14:10:08.330729Z",
     "start_time": "2023-08-29T14:10:08.260091Z"
    }
   },
   "outputs": [],
   "source": [
    "df = {'energy', 'group'}\n",
    "df = pd.DataFrame(columns=['energy', 'group'])\n",
    "\n",
    "df = append_mouse_group(df=df, dictionary='c57', group_label='c57 with father', \n",
    "                        variable_label='energy')\n",
    "df = append_mouse_group(df=df, dictionary='BL_woF_17_31', group_label='c57 without father', \n",
    "                        variable_label='energy')\n",
    "df = append_mouse_group(df=df, dictionary='WILD_with_father', group_label='WILD with father', \n",
    "                        variable_label='energy')\n",
    "df = append_mouse_group(df=df, dictionary='WILD_without_father', group_label='WILD without father', \n",
    "                        variable_label='energy')"
   ]
  },
  {
   "cell_type": "code",
   "execution_count": 37,
   "metadata": {
    "ExecuteTime": {
     "end_time": "2023-08-29T14:10:09.262904Z",
     "start_time": "2023-08-29T14:10:09.115417Z"
    }
   },
   "outputs": [
    {
     "data": {
      "image/png": "[encoded data removed]",
      "text/plain": [
       "<Figure size 432x288 with 1 Axes>"
      ]
     },
     "metadata": {
      "needs_background": "light"
     },
     "output_type": "display_data"
    }
   ],
   "source": [
    "fig, ax = plt.subplots()\n",
    "sns.boxplot(data=df, x=\"energy\", y=\"group\")\n",
    "fig.savefig('./figures/boxplot_energy.png')"
   ]
  },
  {
   "cell_type": "code",
   "execution_count": null,
   "metadata": {
    "ExecuteTime": {
     "end_time": "2023-04-26T07:34:04.980872Z",
     "start_time": "2023-04-26T07:34:04.964737Z"
    }
   },
   "outputs": [],
   "source": []
  },
  {
   "cell_type": "code",
   "execution_count": null,
   "metadata": {},
   "outputs": [],
   "source": []
  }
 ],
 "metadata": {
  "kernelspec": {
   "display_name": "ClearMap",
   "language": "python",
   "name": "clearmap"
  },
  "language_info": {
   "codemirror_mode": {
    "name": "ipython",
    "version": 3
   },
   "file_extension": ".py",
   "mimetype": "text/x-python",
   "name": "python",
   "nbconvert_exporter": "python",
   "pygments_lexer": "ipython3",
   "version": "3.8.1"
  },
  "latex_envs": {
   "LaTeX_envs_menu_present": true,
   "autoclose": false,
   "autocomplete": true,
   "bibliofile": "biblio.bib",
   "cite_by": "apalike",
   "current_citInitial": 1,
   "eqLabelWithNumbers": true,
   "eqNumInitial": 1,
   "hotkeys": {
    "equation": "Ctrl-E",
    "itemize": "Ctrl-I"
   },
   "labels_anchors": false,
   "latex_user_defs": false,
   "report_style_numbering": false,
   "user_envs_cfg": false
  },
  "toc": {
   "nav_menu": {},
   "number_sections": true,
   "sideBar": true,
   "skip_h1_title": false,
   "title_cell": "Table of Contents",
   "title_sidebar": "Contents",
   "toc_cell": false,
   "toc_position": {},
   "toc_section_display": true,
   "toc_window_display": false
  },
  "varInspector": {
   "cols": {
    "lenName": 16,
    "lenType": 16,
    "lenVar": 40
   },
   "kernels_config": {
    "python": {
     "delete_cmd_postfix": "",
     "delete_cmd_prefix": "del ",
     "library": "var_list.py",
     "varRefreshCmd": "print(var_dic_list())"
    },
    "r": {
     "delete_cmd_postfix": ") ",
     "delete_cmd_prefix": "rm(",
     "library": "var_list.r",
     "varRefreshCmd": "cat(var_dic_list()) "
    }
   },
   "types_to_exclude": [
    "module",
    "function",
    "builtin_function_or_method",
    "instance",
    "_Feature"
   ],
   "window_display": false
  }
 },
 "nbformat": 4,
 "nbformat_minor": 4
}
