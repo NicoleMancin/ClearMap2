{
 "cells": [
  {
   "cell_type": "markdown",
   "metadata": {},
   "source": [
    "# Comparison across mice strains\n",
    "c57 vs SWISS w father (1-18) vs SWISS without father (19-35)"
   ]
  },
  {
   "cell_type": "code",
   "execution_count": 1,
   "metadata": {
    "ExecuteTime": {
     "end_time": "2023-04-24T08:30:26.571079Z",
     "start_time": "2023-04-24T08:30:25.842081Z"
    }
   },
   "outputs": [],
   "source": [
    "# !pip install odfpy\n",
    "# !pip install seaborn\n",
    "import os\n",
    "import pandas as pd\n",
    "import seaborn as sns\n",
    "import matplotlib.pyplot as plt\n",
    "import yaml\n",
    "from yaml import Loader\n",
    "import numpy as np\n",
    "import analyze_cells_energy as ace\n",
    "import utils\n",
    "from scipy.stats import ttest_ind, mannwhitneyu"
   ]
  },
  {
   "cell_type": "code",
   "execution_count": 2,
   "metadata": {
    "ExecuteTime": {
     "end_time": "2023-04-24T08:30:26.591859Z",
     "start_time": "2023-04-24T08:30:26.583501Z"
    }
   },
   "outputs": [],
   "source": [
    "root_directory = '/home/stella/Documents/Torino/projects/'\n",
    "experiment = 'SexualImprinting'\n",
    "c57 = 'C57_MaleUrine_Exposure_cFos'\n",
    "swiss = 'SWISS_MaleUrine_Exposure'\n",
    "subjects = ace.list_subjects(root_directory)\n",
    "data_directory_c57 = root_directory + experiment + '/' \\\n",
    "                + c57 + '/'\n",
    "data_directory_swiss = root_directory + experiment + '/' \\\n",
    "                + swiss + '/'\n"
   ]
  },
  {
   "cell_type": "code",
   "execution_count": 3,
   "metadata": {
    "ExecuteTime": {
     "end_time": "2023-04-24T08:30:26.605168Z",
     "start_time": "2023-04-24T08:30:26.601963Z"
    }
   },
   "outputs": [],
   "source": [
    "subjects_c57 = [name for name in os.listdir(data_directory_c57) \\\n",
    "                if os.path.isdir(os.path.join(data_directory_c57, name))]"
   ]
  },
  {
   "cell_type": "code",
   "execution_count": 4,
   "metadata": {
    "ExecuteTime": {
     "end_time": "2023-04-24T08:30:30.193333Z",
     "start_time": "2023-04-24T08:30:30.181709Z"
    }
   },
   "outputs": [],
   "source": [
    "subjects_swiss = [name for name in os.listdir(data_directory_swiss) \\\n",
    "                if os.path.isdir(os.path.join(data_directory_swiss, name))]"
   ]
  },
  {
   "cell_type": "code",
   "execution_count": 5,
   "metadata": {
    "ExecuteTime": {
     "end_time": "2023-04-24T08:30:30.382054Z",
     "start_time": "2023-04-24T08:30:30.377750Z"
    }
   },
   "outputs": [],
   "source": [
    "subjects_swiss_with_father = [sub for sub in subjects_swiss if sub[0:2]=='SW' and int(sub[2:].split('_')[0]) in set(range(2,19))]\n"
   ]
  },
  {
   "cell_type": "code",
   "execution_count": 6,
   "metadata": {
    "ExecuteTime": {
     "end_time": "2023-04-24T08:30:30.596105Z",
     "start_time": "2023-04-24T08:30:30.591857Z"
    }
   },
   "outputs": [],
   "source": [
    "subjects_swiss_without_father = [sub for sub in subjects_swiss if sub[0:2]=='SW' and int(sub[2:].split('_')[0]) in set(range(19,36))]"
   ]
  },
  {
   "cell_type": "markdown",
   "metadata": {},
   "source": [
    "# Number of cells"
   ]
  },
  {
   "cell_type": "code",
   "execution_count": 16,
   "metadata": {
    "ExecuteTime": {
     "end_time": "2023-04-24T08:32:05.479962Z",
     "start_time": "2023-04-24T08:32:05.379306Z"
    }
   },
   "outputs": [],
   "source": [
    "df = {'ncells', 'group'}\n",
    "df = pd.DataFrame(columns=['ncells', 'group'])\n",
    "# load data c57 300\n",
    "c57 = np.load('dict_results_across_mice_c57.npy', allow_pickle=True).item()\n",
    "n_cells_c57 = [c57[mouse]['n_cells'].sum() for mouse in c57.keys()]\n",
    "df_c57 = pd.DataFrame(columns=['ncells', 'group'])\n",
    "df_c57['ncells'] = n_cells_c57\n",
    "df_c57['group'] = 'c57 (300)'\n",
    "df = df.append(df_c57)\n",
    "# # load data c57 700\n",
    "# c57_700 = np.load('dict_results_across_mice_c57_700.npy', allow_pickle=True).item()\n",
    "# n_cells_c57_700 = [c57_700[mouse]['n_cells'].sum() for mouse in c57_700.keys()]\n",
    "# df_c57_700 = pd.DataFrame(columns=['ncells', 'group'])\n",
    "# df_c57_700['ncells'] = n_cells_c57_700\n",
    "# df_c57_700['group'] = 'c57 (700)'\n",
    "# df = df.append(df_c57_700)\n",
    "# # load data swiss 1-18\n",
    "# swiss_without_father = np.load('dict_results_across_mice_SW1-18.npy', allow_pickle=True).item()\n",
    "# n_cells_without_father = [swiss_without_father[mouse]['n_cells'].sum() for mouse in swiss_without_father.keys()]\n",
    "# df_swiss_without_father = pd.DataFrame(columns=['ncells', 'group'])\n",
    "# df_swiss_without_father['ncells'] = n_cells_without_father\n",
    "# df_swiss_without_father['group'] = 'swiss_1-18 (100)'\n",
    "# df = df.append(df_swiss_without_father)\n",
    "# load data swiss 19-35 100\n",
    "swiss_with_father = np.load('dict_results_across_mice_SW19-35-100.npy', allow_pickle=True).item()\n",
    "n_cells_with_father = [swiss_with_father[mouse]['n_cells'].sum() for mouse in swiss_with_father.keys()]\n",
    "df_swiss_with_father = pd.DataFrame(columns=['ncells', 'group'])\n",
    "df_swiss_with_father['ncells'] = n_cells_with_father\n",
    "df_swiss_with_father['group'] = 'swiss_19-35 (100)'\n",
    "df = df.append(df_swiss_with_father)\n",
    "# load data swiss 19-35 200\n",
    "swiss_with_father = np.load('dict_results_across_mice_SW19-35-200.npy', allow_pickle=True).item()\n",
    "n_cells_with_father = [swiss_with_father[mouse]['n_cells'].sum() for mouse in swiss_with_father.keys()]\n",
    "df_swiss_with_father = pd.DataFrame(columns=['ncells', 'group'])\n",
    "df_swiss_with_father['ncells'] = n_cells_with_father\n",
    "df_swiss_with_father['group'] = 'swiss_19-35 (200)'\n",
    "df = df.append(df_swiss_with_father)\n",
    "# load data swiss 19-35 300\n",
    "swiss_with_father = np.load('dict_results_across_mice_SW19-35-300.npy', allow_pickle=True).item()\n",
    "n_cells_with_father = [swiss_with_father[mouse]['n_cells'].sum() for mouse in swiss_with_father.keys()]\n",
    "df_swiss_with_father = pd.DataFrame(columns=['ncells', 'group'])\n",
    "df_swiss_with_father['ncells'] = n_cells_with_father\n",
    "df_swiss_with_father['group'] = 'swiss_19-35 (300)'\n",
    "df = df.append(df_swiss_with_father)\n",
    "# load data new swiss 150\n",
    "swiss_with_father = np.load('dict_results_across_mice_SW_WF_1_24_2023.npy', allow_pickle=True).item()\n",
    "ncells_with_father = [swiss_with_father[mouse]['n_cells'].sum() for mouse in swiss_with_father.keys()]\n",
    "df_swiss_with_father = pd.DataFrame(columns=['ncells', 'group'])\n",
    "df_swiss_with_father['ncells'] = ncells_with_father\n",
    "df_swiss_with_father['group'] = 'swiss_WF_1_24_2023 (150)'\n",
    "df = df.append(df_swiss_with_father)\n",
    "# load data new swiss 300\n",
    "swiss_with_father = np.load('dict_results_across_mice_SW_WF_1_24_2023-300.npy', allow_pickle=True).item()\n",
    "ncells_with_father = [swiss_with_father[mouse]['n_cells'].sum() for mouse in swiss_with_father.keys()]\n",
    "df_swiss_with_father = pd.DataFrame(columns=['ncells', 'group'])\n",
    "df_swiss_with_father['ncells'] = ncells_with_father\n",
    "df_swiss_with_father['group'] = 'swiss_WF_1_24_2023 (300)'\n",
    "df = df.append(df_swiss_with_father)"
   ]
  },
  {
   "cell_type": "code",
   "execution_count": 17,
   "metadata": {
    "ExecuteTime": {
     "end_time": "2023-04-24T08:32:06.451656Z",
     "start_time": "2023-04-24T08:32:06.219089Z"
    }
   },
   "outputs": [
    {
     "data": {
      "text/plain": [
       "<AxesSubplot:xlabel='ncells', ylabel='group'>"
      ]
     },
     "execution_count": 17,
     "metadata": {},
     "output_type": "execute_result"
    },
    {
     "data": {
      "image/png": "[encoded data removed]",
      "text/plain": [
       "<Figure size 432x288 with 1 Axes>"
      ]
     },
     "metadata": {
      "needs_background": "light"
     },
     "output_type": "display_data"
    }
   ],
   "source": [
    "sns.boxplot(data=df, x=\"ncells\", y=\"group\")"
   ]
  },
  {
   "cell_type": "markdown",
   "metadata": {},
   "source": [
    "# Energia"
   ]
  },
  {
   "cell_type": "code",
   "execution_count": 14,
   "metadata": {
    "ExecuteTime": {
     "end_time": "2023-04-24T08:31:49.192978Z",
     "start_time": "2023-04-24T08:31:49.109239Z"
    }
   },
   "outputs": [],
   "source": [
    "df = {'energy', 'group'}\n",
    "df = pd.DataFrame(columns=['energy','group'])\n",
    "# load data c57 300\n",
    "energy_c57 = [c57[mouse]['energy'].sum() for mouse in c57.keys()]\n",
    "df_c57 = pd.DataFrame(columns=['energy', 'group'])\n",
    "df_c57['energy'] = energy_c57\n",
    "df_c57['group'] = 'c57 (300) CP'\n",
    "df = df.append(df_c57)\n",
    "# # load data c57 700\n",
    "# energy_c57_700 = [c57_700[mouse]['energy'].sum() for mouse in c57_700.keys()]\n",
    "# df_c57_700 = pd.DataFrame(columns=['energy', 'group'])\n",
    "# df_c57_700['energy'] = energy_c57_700\n",
    "# df_c57_700['group'] = 'c57 (700) CP'\n",
    "# df = df.append(df_c57_700)\n",
    "# # load data swiss 1-18\n",
    "# energy_without_father = [swiss_without_father[mouse]['energy'].sum() for mouse in swiss_without_father.keys()]\n",
    "# df_swiss_without_father = pd.DataFrame(columns=['energy', 'group'])\n",
    "# df_swiss_without_father['energy'] = energy_without_father\n",
    "# df_swiss_without_father['group'] = 'swiss_1-18 (100) CP'\n",
    "# df = df.append(df_swiss_without_father)\n",
    "# load data swiss 19-35 100\n",
    "swiss_with_father = np.load('dict_results_across_mice_SW19-35-100.npy', allow_pickle=True).item()\n",
    "energy_with_father = [swiss_with_father[mouse]['energy'].sum() for mouse in swiss_with_father.keys()]\n",
    "df_swiss_with_father = pd.DataFrame(columns=['energy', 'group'])\n",
    "df_swiss_with_father['energy'] = energy_with_father\n",
    "df_swiss_with_father['group'] = 'swiss_19-35 (100) SP'\n",
    "df = df.append(df_swiss_with_father)\n",
    "# load data swiss 19-35 200\n",
    "swiss_with_father = np.load('dict_results_across_mice_SW19-35-200.npy', allow_pickle=True).item()\n",
    "energy_with_father = [swiss_with_father[mouse]['energy'].sum() for mouse in swiss_with_father.keys()]\n",
    "df_swiss_with_father = pd.DataFrame(columns=['energy', 'group'])\n",
    "df_swiss_with_father['energy'] = energy_with_father\n",
    "df_swiss_with_father['group'] = 'swiss_19-35 (200) SP'\n",
    "df = df.append(df_swiss_with_father)\n",
    "# load data swiss 19-35 300\n",
    "swiss_with_father = np.load('dict_results_across_mice_SW19-35-300.npy', allow_pickle=True).item()\n",
    "energy_with_father = [swiss_with_father[mouse]['energy'].sum() for mouse in swiss_with_father.keys()]\n",
    "df_swiss_with_father = pd.DataFrame(columns=['energy', 'group'])\n",
    "df_swiss_with_father['energy'] = energy_with_father\n",
    "df_swiss_with_father['group'] = 'swiss_19-35 (300) SP'\n",
    "df = df.append(df_swiss_with_father)\n",
    "# load data new swiss 150\n",
    "swiss_with_father = np.load('dict_results_across_mice_SW_WF_1_24_2023.npy', allow_pickle=True).item()\n",
    "energy_with_father = [swiss_with_father[mouse]['energy'].sum() for mouse in swiss_with_father.keys()]\n",
    "df_swiss_with_father = pd.DataFrame(columns=['energy', 'group'])\n",
    "df_swiss_with_father['energy'] = energy_with_father\n",
    "df_swiss_with_father['group'] = 'swiss_WF_1_24_2023 (150) CP'\n",
    "df = df.append(df_swiss_with_father)\n",
    "# load data new swiss 300\n",
    "swiss_with_father = np.load('dict_results_across_mice_SW_WF_1_24_2023-300.npy', allow_pickle=True).item()\n",
    "energy_with_father = [swiss_with_father[mouse]['energy'].sum() for mouse in swiss_with_father.keys()]\n",
    "df_swiss_with_father = pd.DataFrame(columns=['energy', 'group'])\n",
    "df_swiss_with_father['energy'] = energy_with_father\n",
    "df_swiss_with_father['group'] = 'swiss_WF_1_24_2023 (300) CP'\n",
    "df = df.append(df_swiss_with_father)"
   ]
  },
  {
   "cell_type": "code",
   "execution_count": 15,
   "metadata": {
    "ExecuteTime": {
     "end_time": "2023-04-24T08:31:49.889493Z",
     "start_time": "2023-04-24T08:31:49.703404Z"
    }
   },
   "outputs": [
    {
     "data": {
      "text/plain": [
       "<AxesSubplot:xlabel='energy', ylabel='group'>"
      ]
     },
     "execution_count": 15,
     "metadata": {},
     "output_type": "execute_result"
    },
    {
     "data": {
      "image/png": "[encoded data removed]",
      "text/plain": [
       "<Figure size 432x288 with 1 Axes>"
      ]
     },
     "metadata": {
      "needs_background": "light"
     },
     "output_type": "display_data"
    }
   ],
   "source": [
    "sns.boxplot(data=df, x=\"energy\", y=\"group\")"
   ]
  },
  {
   "cell_type": "markdown",
   "metadata": {},
   "source": [
    "# TODO: fare gruppo per gruppo\n",
    "- check & identify outliers"
   ]
  },
  {
   "cell_type": "markdown",
   "metadata": {
    "ExecuteTime": {
     "end_time": "2023-04-21T15:03:09.887294Z",
     "start_time": "2023-04-21T15:03:09.882245Z"
    }
   },
   "source": [
    "- supramammillary attivato in CP unfamiliar\n",
    "- supramammillary attivato in SP both"
   ]
  },
  {
   "cell_type": "code",
   "execution_count": null,
   "metadata": {},
   "outputs": [],
   "source": []
  }
 ],
 "metadata": {
  "kernelspec": {
   "display_name": "ClearMap",
   "language": "python",
   "name": "clearmap"
  },
  "language_info": {
   "codemirror_mode": {
    "name": "ipython",
    "version": 3
   },
   "file_extension": ".py",
   "mimetype": "text/x-python",
   "name": "python",
   "nbconvert_exporter": "python",
   "pygments_lexer": "ipython3",
   "version": "3.8.1"
  },
  "latex_envs": {
   "LaTeX_envs_menu_present": true,
   "autoclose": false,
   "autocomplete": true,
   "bibliofile": "biblio.bib",
   "cite_by": "apalike",
   "current_citInitial": 1,
   "eqLabelWithNumbers": true,
   "eqNumInitial": 1,
   "hotkeys": {
    "equation": "Ctrl-E",
    "itemize": "Ctrl-I"
   },
   "labels_anchors": false,
   "latex_user_defs": false,
   "report_style_numbering": false,
   "user_envs_cfg": false
  },
  "toc": {
   "nav_menu": {},
   "number_sections": true,
   "sideBar": true,
   "skip_h1_title": false,
   "title_cell": "Table of Contents",
   "title_sidebar": "Contents",
   "toc_cell": false,
   "toc_position": {},
   "toc_section_display": true,
   "toc_window_display": false
  },
  "varInspector": {
   "cols": {
    "lenName": 16,
    "lenType": 16,
    "lenVar": 40
   },
   "kernels_config": {
    "python": {
     "delete_cmd_postfix": "",
     "delete_cmd_prefix": "del ",
     "library": "var_list.py",
     "varRefreshCmd": "print(var_dic_list())"
    },
    "r": {
     "delete_cmd_postfix": ") ",
     "delete_cmd_prefix": "rm(",
     "library": "var_list.r",
     "varRefreshCmd": "cat(var_dic_list()) "
    }
   },
   "types_to_exclude": [
    "module",
    "function",
    "builtin_function_or_method",
    "instance",
    "_Feature"
   ],
   "window_display": false
  }
 },
 "nbformat": 4,
 "nbformat_minor": 4
}
