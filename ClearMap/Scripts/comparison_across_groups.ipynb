{
 "cells": [
  {
   "cell_type": "markdown",
   "metadata": {},
   "source": [
    "# Comparison across mice strains\n",
    "c57 vs SWISS w father (1-18) vs SWISS without father (19-35)"
   ]
  },
  {
   "cell_type": "code",
   "execution_count": 1,
   "metadata": {
    "ExecuteTime": {
     "end_time": "2023-04-18T10:11:45.768521Z",
     "start_time": "2023-04-18T10:11:44.857730Z"
    }
   },
   "outputs": [],
   "source": [
    "# !pip install odfpy\n",
    "# !pip install seaborn\n",
    "import os\n",
    "import pandas as pd\n",
    "import seaborn as sns\n",
    "import matplotlib.pyplot as plt\n",
    "import yaml\n",
    "from yaml import Loader\n",
    "import numpy as np\n",
    "import analyze_cells_energy as ace\n",
    "import utils\n",
    "from scipy.stats import ttest_ind, mannwhitneyu"
   ]
  },
  {
   "cell_type": "code",
   "execution_count": 2,
   "metadata": {
    "ExecuteTime": {
     "end_time": "2023-04-18T10:11:45.782602Z",
     "start_time": "2023-04-18T10:11:45.770259Z"
    }
   },
   "outputs": [],
   "source": [
    "root_directory = '/home/stella/Documents/Torino/projects/'\n",
    "experiment = 'SexualImprinting'\n",
    "c57 = 'C57_MaleUrine_Exposure_cFos'\n",
    "swiss = 'SWISS_MaleUrine_Exposure'\n",
    "subjects = ace.list_subjects(root_directory)\n",
    "data_directory_c57 = root_directory + experiment + '/' \\\n",
    "                + c57 + '/'\n",
    "data_directory_swiss = root_directory + experiment + '/' \\\n",
    "                + swiss + '/'\n"
   ]
  },
  {
   "cell_type": "code",
   "execution_count": 3,
   "metadata": {
    "ExecuteTime": {
     "end_time": "2023-04-18T10:11:45.788766Z",
     "start_time": "2023-04-18T10:11:45.786302Z"
    }
   },
   "outputs": [],
   "source": [
    "subjects_c57 = [name for name in os.listdir(data_directory_c57) \\\n",
    "                if os.path.isdir(os.path.join(data_directory_c57, name))]"
   ]
  },
  {
   "cell_type": "code",
   "execution_count": 4,
   "metadata": {
    "ExecuteTime": {
     "end_time": "2023-04-18T10:11:45.792795Z",
     "start_time": "2023-04-18T10:11:45.790331Z"
    }
   },
   "outputs": [],
   "source": [
    "subjects_swiss = [name for name in os.listdir(data_directory_swiss) \\\n",
    "                if os.path.isdir(os.path.join(data_directory_swiss, name))]"
   ]
  },
  {
   "cell_type": "code",
   "execution_count": 5,
   "metadata": {
    "ExecuteTime": {
     "end_time": "2023-04-18T10:11:45.796717Z",
     "start_time": "2023-04-18T10:11:45.794053Z"
    }
   },
   "outputs": [],
   "source": [
    "subjects_swiss_with_father = [sub for sub in subjects_swiss if sub[0:2]=='SW' and int(sub[2:].split('_')[0]) in set(range(2,19))]\n"
   ]
  },
  {
   "cell_type": "code",
   "execution_count": 6,
   "metadata": {
    "ExecuteTime": {
     "end_time": "2023-04-18T10:11:45.800635Z",
     "start_time": "2023-04-18T10:11:45.798089Z"
    }
   },
   "outputs": [],
   "source": [
    "subjects_swiss_without_father = [sub for sub in subjects_swiss if sub[0:2]=='SW' and int(sub[2:].split('_')[0]) in set(range(19,36))]"
   ]
  },
  {
   "cell_type": "markdown",
   "metadata": {},
   "source": [
    "## Load data"
   ]
  },
  {
   "cell_type": "code",
   "execution_count": 7,
   "metadata": {
    "ExecuteTime": {
     "end_time": "2023-04-18T10:11:45.812742Z",
     "start_time": "2023-04-18T10:11:45.803050Z"
    }
   },
   "outputs": [
    {
     "data": {
      "text/html": [
       "<div>\n",
       "<style scoped>\n",
       "    .dataframe tbody tr th:only-of-type {\n",
       "        vertical-align: middle;\n",
       "    }\n",
       "\n",
       "    .dataframe tbody tr th {\n",
       "        vertical-align: top;\n",
       "    }\n",
       "\n",
       "    .dataframe thead th {\n",
       "        text-align: right;\n",
       "    }\n",
       "</style>\n",
       "<table border=\"1\" class=\"dataframe\">\n",
       "  <thead>\n",
       "    <tr style=\"text-align: right;\">\n",
       "      <th></th>\n",
       "      <th>ncells</th>\n",
       "      <th>group</th>\n",
       "    </tr>\n",
       "  </thead>\n",
       "  <tbody>\n",
       "  </tbody>\n",
       "</table>\n",
       "</div>"
      ],
      "text/plain": [
       "Empty DataFrame\n",
       "Columns: [ncells, group]\n",
       "Index: []"
      ]
     },
     "execution_count": 7,
     "metadata": {},
     "output_type": "execute_result"
    }
   ],
   "source": [
    "df = {'ncells', 'group'}\n",
    "df = pd.DataFrame(columns=['ncells', 'group'])\n",
    "df"
   ]
  },
  {
   "cell_type": "code",
   "execution_count": 8,
   "metadata": {
    "ExecuteTime": {
     "end_time": "2023-04-18T10:11:45.829808Z",
     "start_time": "2023-04-18T10:11:45.814629Z"
    }
   },
   "outputs": [
    {
     "data": {
      "text/plain": [
       "[51326,\n",
       " 184635,\n",
       " 7858,\n",
       " 71038,\n",
       " 54186,\n",
       " 15954,\n",
       " 30276,\n",
       " 27165,\n",
       " 31823,\n",
       " 37389,\n",
       " 28444,\n",
       " 79600,\n",
       " 44441,\n",
       " 70573,\n",
       " 43805,\n",
       " 21746]"
      ]
     },
     "execution_count": 8,
     "metadata": {},
     "output_type": "execute_result"
    }
   ],
   "source": [
    "# load data\n",
    "c57 = np.load('dict_results_across_mice_c57.npy', allow_pickle=True).item()\n",
    "n_cells_c57 = [c57[mouse]['n_cells'].sum() for mouse in c57.keys()]\n",
    "n_cells_c57"
   ]
  },
  {
   "cell_type": "code",
   "execution_count": 9,
   "metadata": {
    "ExecuteTime": {
     "end_time": "2023-04-18T10:11:45.839349Z",
     "start_time": "2023-04-18T10:11:45.831257Z"
    }
   },
   "outputs": [],
   "source": [
    "df_c57 = pd.DataFrame(columns=['ncells', 'group'])\n",
    "df_c57['ncells'] = n_cells_c57\n",
    "df_c57['group'] = 'c57 (300)'\n",
    "df = df.append(df_c57)"
   ]
  },
  {
   "cell_type": "code",
   "execution_count": 10,
   "metadata": {
    "ExecuteTime": {
     "end_time": "2023-04-18T10:11:45.858461Z",
     "start_time": "2023-04-18T10:11:45.841075Z"
    }
   },
   "outputs": [
    {
     "data": {
      "text/plain": [
       "[5931,\n",
       " 32198,\n",
       " 453,\n",
       " 8934,\n",
       " 6275,\n",
       " 1369,\n",
       " 3007,\n",
       " 2469,\n",
       " 2353,\n",
       " 3968,\n",
       " 1824,\n",
       " 9017,\n",
       " 5219,\n",
       " 10418,\n",
       " 4464,\n",
       " 2025]"
      ]
     },
     "execution_count": 10,
     "metadata": {},
     "output_type": "execute_result"
    }
   ],
   "source": [
    "# load data\n",
    "c57_700 = np.load('dict_results_across_mice_c57_700.npy', allow_pickle=True).item()\n",
    "n_cells_c57_700 = [c57_700[mouse]['n_cells'].sum() for mouse in c57_700.keys()]\n",
    "n_cells_c57_700"
   ]
  },
  {
   "cell_type": "code",
   "execution_count": 11,
   "metadata": {
    "ExecuteTime": {
     "end_time": "2023-04-18T10:11:45.867408Z",
     "start_time": "2023-04-18T10:11:45.860497Z"
    }
   },
   "outputs": [],
   "source": [
    "df_c57_700 = pd.DataFrame(columns=['ncells', 'group'])\n",
    "df_c57_700['ncells'] = n_cells_c57_700\n",
    "df_c57_700['group'] = 'c57 (700)'\n",
    "df = df.append(df_c57_700)"
   ]
  },
  {
   "cell_type": "code",
   "execution_count": 12,
   "metadata": {
    "ExecuteTime": {
     "end_time": "2023-04-18T10:11:45.885352Z",
     "start_time": "2023-04-18T10:11:45.869853Z"
    }
   },
   "outputs": [
    {
     "data": {
      "text/plain": [
       "[87874,\n",
       " 178969,\n",
       " 11131,\n",
       " 79187,\n",
       " 68964,\n",
       " 78398,\n",
       " 248151,\n",
       " 83696,\n",
       " 50147,\n",
       " 197976,\n",
       " 103336,\n",
       " 71708]"
      ]
     },
     "execution_count": 12,
     "metadata": {},
     "output_type": "execute_result"
    }
   ],
   "source": [
    "# load data\n",
    "swiss_without_father = np.load('dict_results_across_mice_SW1-18.npy', allow_pickle=True).item()\n",
    "n_cells_without_father = [swiss_without_father[mouse]['n_cells'].sum() for mouse in swiss_without_father.keys()]\n",
    "n_cells_without_father"
   ]
  },
  {
   "cell_type": "code",
   "execution_count": 13,
   "metadata": {
    "ExecuteTime": {
     "end_time": "2023-04-18T10:11:45.893910Z",
     "start_time": "2023-04-18T10:11:45.887184Z"
    }
   },
   "outputs": [],
   "source": [
    "df_swiss_without_father = pd.DataFrame(columns=['ncells', 'group'])\n",
    "df_swiss_without_father['ncells'] = n_cells_without_father\n",
    "df_swiss_without_father['group'] = 'swiss_1-18'\n",
    "df = df.append(df_swiss_without_father)"
   ]
  },
  {
   "cell_type": "code",
   "execution_count": 14,
   "metadata": {
    "ExecuteTime": {
     "end_time": "2023-04-18T10:11:45.912145Z",
     "start_time": "2023-04-18T10:11:45.895464Z"
    }
   },
   "outputs": [
    {
     "data": {
      "text/plain": [
       "[395226,\n",
       " 270989,\n",
       " 344693,\n",
       " 271212,\n",
       " 142272,\n",
       " 365499,\n",
       " 54791,\n",
       " 164244,\n",
       " 511510,\n",
       " 199982,\n",
       " 188869,\n",
       " 260142,\n",
       " 329460,\n",
       " 300997,\n",
       " 364006,\n",
       " 277520,\n",
       " 117589]"
      ]
     },
     "execution_count": 14,
     "metadata": {},
     "output_type": "execute_result"
    }
   ],
   "source": [
    "# load data\n",
    "swiss_with_father = np.load('dict_results_across_mice_SW19-35-100.npy', allow_pickle=True).item()\n",
    "n_cells_with_father = [swiss_with_father[mouse]['n_cells'].sum() for mouse in swiss_with_father.keys()]\n",
    "n_cells_with_father"
   ]
  },
  {
   "cell_type": "code",
   "execution_count": 15,
   "metadata": {
    "ExecuteTime": {
     "end_time": "2023-04-18T10:11:45.922311Z",
     "start_time": "2023-04-18T10:11:45.914024Z"
    }
   },
   "outputs": [],
   "source": [
    "df_swiss_with_father = pd.DataFrame(columns=['ncells', 'group'])\n",
    "df_swiss_with_father['ncells'] = n_cells_with_father\n",
    "df_swiss_with_father['group'] = 'swiss_19-35 (100)'\n",
    "df = df.append(df_swiss_with_father)"
   ]
  },
  {
   "cell_type": "code",
   "execution_count": 16,
   "metadata": {
    "ExecuteTime": {
     "end_time": "2023-04-18T10:11:45.941791Z",
     "start_time": "2023-04-18T10:11:45.924970Z"
    }
   },
   "outputs": [
    {
     "data": {
      "text/plain": [
       "[51161,\n",
       " 25453,\n",
       " 13593,\n",
       " 29935,\n",
       " 13734,\n",
       " 42105,\n",
       " 3973,\n",
       " 13246,\n",
       " 36185,\n",
       " 13593,\n",
       " 10862,\n",
       " 15672,\n",
       " 21946,\n",
       " 24434,\n",
       " 45866,\n",
       " 25377,\n",
       " 11127]"
      ]
     },
     "execution_count": 16,
     "metadata": {},
     "output_type": "execute_result"
    }
   ],
   "source": [
    "# load data\n",
    "swiss_with_father = np.load('dict_results_across_mice_SW19-35.npy', allow_pickle=True).item()\n",
    "n_cells_with_father = [swiss_with_father[mouse]['n_cells'].sum() for mouse in swiss_with_father.keys()]\n",
    "n_cells_with_father"
   ]
  },
  {
   "cell_type": "code",
   "execution_count": 17,
   "metadata": {
    "ExecuteTime": {
     "end_time": "2023-04-18T10:11:45.949415Z",
     "start_time": "2023-04-18T10:11:45.943175Z"
    }
   },
   "outputs": [],
   "source": [
    "df_swiss_with_father = pd.DataFrame(columns=['ncells', 'group'])\n",
    "df_swiss_with_father['ncells'] = n_cells_with_father\n",
    "df_swiss_with_father['group'] = 'swiss_19-35 (300)'\n",
    "df = df.append(df_swiss_with_father)"
   ]
  },
  {
   "cell_type": "code",
   "execution_count": 18,
   "metadata": {
    "ExecuteTime": {
     "end_time": "2023-04-18T10:11:46.168528Z",
     "start_time": "2023-04-18T10:11:45.950884Z"
    }
   },
   "outputs": [
    {
     "data": {
      "text/plain": [
       "<AxesSubplot:xlabel='ncells', ylabel='group'>"
      ]
     },
     "execution_count": 18,
     "metadata": {},
     "output_type": "execute_result"
    },
    {
     "data": {
      "image/png": "[encoded data removed]",
      "text/plain": [
       "<Figure size 432x288 with 1 Axes>"
      ]
     },
     "metadata": {
      "needs_background": "light"
     },
     "output_type": "display_data"
    }
   ],
   "source": [
    "sns.boxplot(data=df, x=\"ncells\", y=\"group\")"
   ]
  },
  {
   "cell_type": "markdown",
   "metadata": {},
   "source": [
    "# TODO: Fare x energia"
   ]
  },
  {
   "cell_type": "code",
   "execution_count": null,
   "metadata": {},
   "outputs": [],
   "source": []
  }
 ],
 "metadata": {
  "kernelspec": {
   "display_name": "ClearMap",
   "language": "python",
   "name": "clearmap"
  },
  "language_info": {
   "codemirror_mode": {
    "name": "ipython",
    "version": 3
   },
   "file_extension": ".py",
   "mimetype": "text/x-python",
   "name": "python",
   "nbconvert_exporter": "python",
   "pygments_lexer": "ipython3",
   "version": "3.8.1"
  },
  "latex_envs": {
   "LaTeX_envs_menu_present": true,
   "autoclose": false,
   "autocomplete": true,
   "bibliofile": "biblio.bib",
   "cite_by": "apalike",
   "current_citInitial": 1,
   "eqLabelWithNumbers": true,
   "eqNumInitial": 1,
   "hotkeys": {
    "equation": "Ctrl-E",
    "itemize": "Ctrl-I"
   },
   "labels_anchors": false,
   "latex_user_defs": false,
   "report_style_numbering": false,
   "user_envs_cfg": false
  },
  "toc": {
   "nav_menu": {},
   "number_sections": true,
   "sideBar": true,
   "skip_h1_title": false,
   "title_cell": "Table of Contents",
   "title_sidebar": "Contents",
   "toc_cell": false,
   "toc_position": {},
   "toc_section_display": true,
   "toc_window_display": false
  },
  "varInspector": {
   "cols": {
    "lenName": 16,
    "lenType": 16,
    "lenVar": 40
   },
   "kernels_config": {
    "python": {
     "delete_cmd_postfix": "",
     "delete_cmd_prefix": "del ",
     "library": "var_list.py",
     "varRefreshCmd": "print(var_dic_list())"
    },
    "r": {
     "delete_cmd_postfix": ") ",
     "delete_cmd_prefix": "rm(",
     "library": "var_list.r",
     "varRefreshCmd": "cat(var_dic_list()) "
    }
   },
   "types_to_exclude": [
    "module",
    "function",
    "builtin_function_or_method",
    "instance",
    "_Feature"
   ],
   "window_display": false
  }
 },
 "nbformat": 4,
 "nbformat_minor": 4
}
