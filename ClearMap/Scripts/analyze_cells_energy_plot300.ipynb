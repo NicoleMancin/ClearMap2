{
 "cells": [
  {
   "cell_type": "code",
   "execution_count": 1,
   "metadata": {
    "ExecuteTime": {
     "end_time": "2023-04-07T09:00:21.535456Z",
     "start_time": "2023-04-07T09:00:20.518092Z"
    }
   },
   "outputs": [],
   "source": [
    "# !pip install odfpy\n",
    "# !pip install seaborn\n",
    "import os\n",
    "import pandas as pd\n",
    "import seaborn as sns\n",
    "import matplotlib.pyplot as plt\n",
    "import yaml\n",
    "from yaml import Loader\n",
    "import numpy as np\n",
    "import analyze_cells_energy as ace\n",
    "import utils\n",
    "from scipy.stats import ttest_ind"
   ]
  },
  {
   "cell_type": "code",
   "execution_count": 2,
   "metadata": {
    "ExecuteTime": {
     "end_time": "2023-04-07T09:00:21.554645Z",
     "start_time": "2023-04-07T09:00:21.545746Z"
    }
   },
   "outputs": [],
   "source": [
    "root_directory = '/home/stella/Documents/Torino/projects/'\n",
    "experiment = 'SexualImprinting'\n",
    "experimental_group = 'C57_MaleUrine_Exposure_cFos'\n",
    "subjects = ace.list_subjects(root_directory)\n",
    "data_directory = root_directory + experiment + '/' \\\n",
    "                + experimental_group + '/'"
   ]
  },
  {
   "cell_type": "code",
   "execution_count": 3,
   "metadata": {
    "ExecuteTime": {
     "end_time": "2023-04-07T09:00:21.565047Z",
     "start_time": "2023-04-07T09:00:21.563356Z"
    }
   },
   "outputs": [],
   "source": [
    "# load query file where we added volumes for each area\n",
    "# volumes = pd.read_csv(\"query_complete_with_volumes.csv\")\n",
    "# volumes = ace.clean_volumes_database(volumes)"
   ]
  },
  {
   "cell_type": "code",
   "execution_count": 4,
   "metadata": {
    "ExecuteTime": {
     "end_time": "2023-04-07T09:00:21.606438Z",
     "start_time": "2023-04-07T09:00:21.574422Z"
    }
   },
   "outputs": [],
   "source": [
    "# load query file where we added volumes for each area\n",
    "volumes = pd.read_csv(\"query_volumes_reordered.csv\")\n",
    "volumes = ace.clean_volumes_database(volumes)"
   ]
  },
  {
   "cell_type": "code",
   "execution_count": 5,
   "metadata": {
    "ExecuteTime": {
     "end_time": "2023-04-07T09:00:22.671514Z",
     "start_time": "2023-04-07T09:00:22.630505Z"
    }
   },
   "outputs": [
    {
     "data": {
      "text/html": [
       "<div>\n",
       "<style scoped>\n",
       "    .dataframe tbody tr th:only-of-type {\n",
       "        vertical-align: middle;\n",
       "    }\n",
       "\n",
       "    .dataframe tbody tr th {\n",
       "        vertical-align: top;\n",
       "    }\n",
       "\n",
       "    .dataframe thead th {\n",
       "        text-align: right;\n",
       "    }\n",
       "</style>\n",
       "<table border=\"1\" class=\"dataframe\">\n",
       "  <thead>\n",
       "    <tr style=\"text-align: right;\">\n",
       "      <th></th>\n",
       "      <th>id</th>\n",
       "      <th>atlas_id</th>\n",
       "      <th>name</th>\n",
       "      <th>st_level</th>\n",
       "      <th>parent_structure_id</th>\n",
       "      <th>depth</th>\n",
       "      <th>structure_id_path</th>\n",
       "      <th>safe_name</th>\n",
       "      <th>mean_volume</th>\n",
       "      <th>0</th>\n",
       "      <th>1</th>\n",
       "      <th>2</th>\n",
       "      <th>3</th>\n",
       "      <th>4</th>\n",
       "      <th>5</th>\n",
       "      <th>6</th>\n",
       "      <th>7</th>\n",
       "      <th>8</th>\n",
       "      <th>9</th>\n",
       "      <th>10</th>\n",
       "    </tr>\n",
       "  </thead>\n",
       "  <tbody>\n",
       "    <tr>\n",
       "      <th>0</th>\n",
       "      <td>997</td>\n",
       "      <td>-1.0</td>\n",
       "      <td>root</td>\n",
       "      <td>0</td>\n",
       "      <td>NaN</td>\n",
       "      <td>0</td>\n",
       "      <td>/997/</td>\n",
       "      <td>root</td>\n",
       "      <td>435.287861</td>\n",
       "      <td>997</td>\n",
       "      <td>NaN</td>\n",
       "      <td>NaN</td>\n",
       "      <td>NaN</td>\n",
       "      <td>NaN</td>\n",
       "      <td>NaN</td>\n",
       "      <td>NaN</td>\n",
       "      <td>NaN</td>\n",
       "      <td>NaN</td>\n",
       "      <td>NaN</td>\n",
       "      <td>NaN</td>\n",
       "    </tr>\n",
       "    <tr>\n",
       "      <th>1</th>\n",
       "      <td>8</td>\n",
       "      <td>0.0</td>\n",
       "      <td>Basic cell groups and regions</td>\n",
       "      <td>1</td>\n",
       "      <td>997.0</td>\n",
       "      <td>1</td>\n",
       "      <td>/997/8/</td>\n",
       "      <td>Basic cell groups and regions</td>\n",
       "      <td>197.462441</td>\n",
       "      <td>997</td>\n",
       "      <td>8.0</td>\n",
       "      <td>NaN</td>\n",
       "      <td>NaN</td>\n",
       "      <td>NaN</td>\n",
       "      <td>NaN</td>\n",
       "      <td>NaN</td>\n",
       "      <td>NaN</td>\n",
       "      <td>NaN</td>\n",
       "      <td>NaN</td>\n",
       "      <td>NaN</td>\n",
       "    </tr>\n",
       "    <tr>\n",
       "      <th>2</th>\n",
       "      <td>567</td>\n",
       "      <td>70.0</td>\n",
       "      <td>Cerebrum</td>\n",
       "      <td>2</td>\n",
       "      <td>8.0</td>\n",
       "      <td>2</td>\n",
       "      <td>/997/8/567/</td>\n",
       "      <td>Cerebrum</td>\n",
       "      <td>120.883542</td>\n",
       "      <td>997</td>\n",
       "      <td>8.0</td>\n",
       "      <td>567.0</td>\n",
       "      <td>NaN</td>\n",
       "      <td>NaN</td>\n",
       "      <td>NaN</td>\n",
       "      <td>NaN</td>\n",
       "      <td>NaN</td>\n",
       "      <td>NaN</td>\n",
       "      <td>NaN</td>\n",
       "      <td>NaN</td>\n",
       "    </tr>\n",
       "    <tr>\n",
       "      <th>3</th>\n",
       "      <td>688</td>\n",
       "      <td>85.0</td>\n",
       "      <td>Cerebral cortex</td>\n",
       "      <td>3</td>\n",
       "      <td>567.0</td>\n",
       "      <td>3</td>\n",
       "      <td>/997/8/567/688/</td>\n",
       "      <td>Cerebral cortex</td>\n",
       "      <td>97.403809</td>\n",
       "      <td>997</td>\n",
       "      <td>8.0</td>\n",
       "      <td>567.0</td>\n",
       "      <td>688.0</td>\n",
       "      <td>NaN</td>\n",
       "      <td>NaN</td>\n",
       "      <td>NaN</td>\n",
       "      <td>NaN</td>\n",
       "      <td>NaN</td>\n",
       "      <td>NaN</td>\n",
       "      <td>NaN</td>\n",
       "    </tr>\n",
       "    <tr>\n",
       "      <th>4</th>\n",
       "      <td>695</td>\n",
       "      <td>86.0</td>\n",
       "      <td>Cortical plate</td>\n",
       "      <td>4</td>\n",
       "      <td>688.0</td>\n",
       "      <td>4</td>\n",
       "      <td>/997/8/567/688/695/</td>\n",
       "      <td>Cortical plate</td>\n",
       "      <td>93.461964</td>\n",
       "      <td>997</td>\n",
       "      <td>8.0</td>\n",
       "      <td>567.0</td>\n",
       "      <td>688.0</td>\n",
       "      <td>695.0</td>\n",
       "      <td>NaN</td>\n",
       "      <td>NaN</td>\n",
       "      <td>NaN</td>\n",
       "      <td>NaN</td>\n",
       "      <td>NaN</td>\n",
       "      <td>NaN</td>\n",
       "    </tr>\n",
       "    <tr>\n",
       "      <th>...</th>\n",
       "      <td>...</td>\n",
       "      <td>...</td>\n",
       "      <td>...</td>\n",
       "      <td>...</td>\n",
       "      <td>...</td>\n",
       "      <td>...</td>\n",
       "      <td>...</td>\n",
       "      <td>...</td>\n",
       "      <td>...</td>\n",
       "      <td>...</td>\n",
       "      <td>...</td>\n",
       "      <td>...</td>\n",
       "      <td>...</td>\n",
       "      <td>...</td>\n",
       "      <td>...</td>\n",
       "      <td>...</td>\n",
       "      <td>...</td>\n",
       "      <td>...</td>\n",
       "      <td>...</td>\n",
       "      <td>...</td>\n",
       "    </tr>\n",
       "    <tr>\n",
       "      <th>1322</th>\n",
       "      <td>49</td>\n",
       "      <td>713.0</td>\n",
       "      <td>intraparafloccular fissure</td>\n",
       "      <td>8</td>\n",
       "      <td>1040.0</td>\n",
       "      <td>3</td>\n",
       "      <td>/997/1024/1040/49/</td>\n",
       "      <td>intraparafloccular fissure</td>\n",
       "      <td>NaN</td>\n",
       "      <td>997</td>\n",
       "      <td>1024.0</td>\n",
       "      <td>1040.0</td>\n",
       "      <td>49.0</td>\n",
       "      <td>NaN</td>\n",
       "      <td>NaN</td>\n",
       "      <td>NaN</td>\n",
       "      <td>NaN</td>\n",
       "      <td>NaN</td>\n",
       "      <td>NaN</td>\n",
       "      <td>NaN</td>\n",
       "    </tr>\n",
       "    <tr>\n",
       "      <th>1323</th>\n",
       "      <td>57</td>\n",
       "      <td>714.0</td>\n",
       "      <td>paramedian sulcus</td>\n",
       "      <td>8</td>\n",
       "      <td>1040.0</td>\n",
       "      <td>3</td>\n",
       "      <td>/997/1024/1040/57/</td>\n",
       "      <td>paramedian sulcus</td>\n",
       "      <td>NaN</td>\n",
       "      <td>997</td>\n",
       "      <td>1024.0</td>\n",
       "      <td>1040.0</td>\n",
       "      <td>57.0</td>\n",
       "      <td>NaN</td>\n",
       "      <td>NaN</td>\n",
       "      <td>NaN</td>\n",
       "      <td>NaN</td>\n",
       "      <td>NaN</td>\n",
       "      <td>NaN</td>\n",
       "      <td>NaN</td>\n",
       "    </tr>\n",
       "    <tr>\n",
       "      <th>1324</th>\n",
       "      <td>65</td>\n",
       "      <td>715.0</td>\n",
       "      <td>parafloccular sulcus</td>\n",
       "      <td>8</td>\n",
       "      <td>1040.0</td>\n",
       "      <td>3</td>\n",
       "      <td>/997/1024/1040/65/</td>\n",
       "      <td>parafloccular sulcus</td>\n",
       "      <td>NaN</td>\n",
       "      <td>997</td>\n",
       "      <td>1024.0</td>\n",
       "      <td>1040.0</td>\n",
       "      <td>65.0</td>\n",
       "      <td>NaN</td>\n",
       "      <td>NaN</td>\n",
       "      <td>NaN</td>\n",
       "      <td>NaN</td>\n",
       "      <td>NaN</td>\n",
       "      <td>NaN</td>\n",
       "      <td>NaN</td>\n",
       "    </tr>\n",
       "    <tr>\n",
       "      <th>1325</th>\n",
       "      <td>624</td>\n",
       "      <td>926.0</td>\n",
       "      <td>Interpeduncular fossa</td>\n",
       "      <td>7</td>\n",
       "      <td>1024.0</td>\n",
       "      <td>2</td>\n",
       "      <td>/997/1024/624/</td>\n",
       "      <td>Interpeduncular fossa</td>\n",
       "      <td>NaN</td>\n",
       "      <td>997</td>\n",
       "      <td>1024.0</td>\n",
       "      <td>624.0</td>\n",
       "      <td>NaN</td>\n",
       "      <td>NaN</td>\n",
       "      <td>NaN</td>\n",
       "      <td>NaN</td>\n",
       "      <td>NaN</td>\n",
       "      <td>NaN</td>\n",
       "      <td>NaN</td>\n",
       "      <td>NaN</td>\n",
       "    </tr>\n",
       "    <tr>\n",
       "      <th>1326</th>\n",
       "      <td>304325711</td>\n",
       "      <td>NaN</td>\n",
       "      <td>retina</td>\n",
       "      <td>1</td>\n",
       "      <td>997.0</td>\n",
       "      <td>1</td>\n",
       "      <td>/997/304325711/</td>\n",
       "      <td>retina</td>\n",
       "      <td>NaN</td>\n",
       "      <td>997</td>\n",
       "      <td>304325711.0</td>\n",
       "      <td>NaN</td>\n",
       "      <td>NaN</td>\n",
       "      <td>NaN</td>\n",
       "      <td>NaN</td>\n",
       "      <td>NaN</td>\n",
       "      <td>NaN</td>\n",
       "      <td>NaN</td>\n",
       "      <td>NaN</td>\n",
       "      <td>NaN</td>\n",
       "    </tr>\n",
       "  </tbody>\n",
       "</table>\n",
       "<p>1327 rows × 20 columns</p>\n",
       "</div>"
      ],
      "text/plain": [
       "             id  atlas_id                           name  st_level  \\\n",
       "0           997      -1.0                           root         0   \n",
       "1             8       0.0  Basic cell groups and regions         1   \n",
       "2           567      70.0                       Cerebrum         2   \n",
       "3           688      85.0                Cerebral cortex         3   \n",
       "4           695      86.0                 Cortical plate         4   \n",
       "...         ...       ...                            ...       ...   \n",
       "1322         49     713.0     intraparafloccular fissure         8   \n",
       "1323         57     714.0              paramedian sulcus         8   \n",
       "1324         65     715.0           parafloccular sulcus         8   \n",
       "1325        624     926.0          Interpeduncular fossa         7   \n",
       "1326  304325711       NaN                         retina         1   \n",
       "\n",
       "      parent_structure_id  depth    structure_id_path  \\\n",
       "0                     NaN      0                /997/   \n",
       "1                   997.0      1              /997/8/   \n",
       "2                     8.0      2          /997/8/567/   \n",
       "3                   567.0      3      /997/8/567/688/   \n",
       "4                   688.0      4  /997/8/567/688/695/   \n",
       "...                   ...    ...                  ...   \n",
       "1322               1040.0      3   /997/1024/1040/49/   \n",
       "1323               1040.0      3   /997/1024/1040/57/   \n",
       "1324               1040.0      3   /997/1024/1040/65/   \n",
       "1325               1024.0      2       /997/1024/624/   \n",
       "1326                997.0      1      /997/304325711/   \n",
       "\n",
       "                          safe_name  mean_volume    0            1       2  \\\n",
       "0                              root   435.287861  997          NaN     NaN   \n",
       "1     Basic cell groups and regions   197.462441  997          8.0     NaN   \n",
       "2                          Cerebrum   120.883542  997          8.0   567.0   \n",
       "3                   Cerebral cortex    97.403809  997          8.0   567.0   \n",
       "4                    Cortical plate    93.461964  997          8.0   567.0   \n",
       "...                             ...          ...  ...          ...     ...   \n",
       "1322     intraparafloccular fissure          NaN  997       1024.0  1040.0   \n",
       "1323              paramedian sulcus          NaN  997       1024.0  1040.0   \n",
       "1324           parafloccular sulcus          NaN  997       1024.0  1040.0   \n",
       "1325          Interpeduncular fossa          NaN  997       1024.0   624.0   \n",
       "1326                         retina          NaN  997  304325711.0     NaN   \n",
       "\n",
       "          3      4   5   6   7   8   9  10  \n",
       "0       NaN    NaN NaN NaN NaN NaN NaN NaN  \n",
       "1       NaN    NaN NaN NaN NaN NaN NaN NaN  \n",
       "2       NaN    NaN NaN NaN NaN NaN NaN NaN  \n",
       "3     688.0    NaN NaN NaN NaN NaN NaN NaN  \n",
       "4     688.0  695.0 NaN NaN NaN NaN NaN NaN  \n",
       "...     ...    ...  ..  ..  ..  ..  ..  ..  \n",
       "1322   49.0    NaN NaN NaN NaN NaN NaN NaN  \n",
       "1323   57.0    NaN NaN NaN NaN NaN NaN NaN  \n",
       "1324   65.0    NaN NaN NaN NaN NaN NaN NaN  \n",
       "1325    NaN    NaN NaN NaN NaN NaN NaN NaN  \n",
       "1326    NaN    NaN NaN NaN NaN NaN NaN NaN  \n",
       "\n",
       "[1327 rows x 20 columns]"
      ]
     },
     "execution_count": 5,
     "metadata": {},
     "output_type": "execute_result"
    }
   ],
   "source": [
    "volumes"
   ]
  },
  {
   "cell_type": "code",
   "execution_count": 6,
   "metadata": {
    "ExecuteTime": {
     "end_time": "2023-04-07T09:01:02.129907Z",
     "start_time": "2023-04-07T09:01:02.123296Z"
    }
   },
   "outputs": [],
   "source": [
    "def load_subject(subject):\n",
    "    df_mouse = pd.read_csv(data_directory + subject + '/cells300.csv')\n",
    "    df_mouse = ace.reformat_df_mouse(df=df_mouse)\n",
    "    return df_mouse"
   ]
  },
  {
   "cell_type": "markdown",
   "metadata": {
    "ExecuteTime": {
     "end_time": "2023-04-03T11:25:09.047637Z",
     "start_time": "2023-04-03T11:25:09.031624Z"
    }
   },
   "source": [
    "# Analysis on C57 : threshold 300"
   ]
  },
  {
   "cell_type": "code",
   "execution_count": null,
   "metadata": {
    "ExecuteTime": {
     "start_time": "2023-04-07T09:01:02.884Z"
    }
   },
   "outputs": [
    {
     "name": "stderr",
     "output_type": "stream",
     "text": [
      "/home/stella/anaconda2/lib/python3.8/site-packages/IPython/core/interactiveshell.py:3418: DtypeWarning: Columns (12) have mixed types.Specify dtype option on import or set low_memory=False.\n",
      "  exec(code_obj, self.user_global_ns, self.user_ns)\n",
      "/home/stella/anaconda2/lib/python3.8/site-packages/IPython/core/interactiveshell.py:3418: DtypeWarning: Columns (12) have mixed types.Specify dtype option on import or set low_memory=False.\n",
      "  exec(code_obj, self.user_global_ns, self.user_ns)\n"
     ]
    }
   ],
   "source": [
    "dict_results_across_mice = {subject: ace.calculate_cells_energy_per_level(df_mouse=load_subject(subject), \n",
    "                                                                          vol=volumes, \n",
    "                                                                          level=8) for subject in subjects}"
   ]
  },
  {
   "cell_type": "markdown",
   "metadata": {},
   "source": [
    "# List areas with null cell count"
   ]
  },
  {
   "cell_type": "code",
   "execution_count": null,
   "metadata": {
    "ExecuteTime": {
     "start_time": "2023-04-07T09:01:04.068Z"
    }
   },
   "outputs": [],
   "source": [
    "db_null_count = {subject: dict_results_across_mice[subject][\n",
    "    dict_results_across_mice[subject].n_cells == 0] for subject in subjects}"
   ]
  },
  {
   "cell_type": "code",
   "execution_count": null,
   "metadata": {
    "ExecuteTime": {
     "start_time": "2023-04-07T09:01:04.201Z"
    },
    "scrolled": false
   },
   "outputs": [],
   "source": [
    "# make histogram of these\n",
    "null_areas = [db_null_count[subjects[0]].area.values]\n",
    "for subject in subjects[1:]:\n",
    "    null_areas.append(db_null_count[subject].area.values)\n",
    "null_areas = np.hstack(null_areas)\n",
    "fig, ax = plt.subplots(1,1,figsize=(20,3))\n",
    "pd.Series(null_areas).value_counts(sort=True).plot(kind='bar', axes=ax)\n"
   ]
  },
  {
   "cell_type": "code",
   "execution_count": null,
   "metadata": {
    "ExecuteTime": {
     "start_time": "2023-04-07T09:01:04.403Z"
    },
    "scrolled": false
   },
   "outputs": [],
   "source": [
    "# print areas that are null for all mice\n",
    "df = pd.DataFrame(pd.Series(null_areas).value_counts(sort=False))\n",
    "df.columns = ['counts']\n",
    "df = df[df.counts == 16]\n",
    "print(df.to_string())"
   ]
  },
  {
   "cell_type": "markdown",
   "metadata": {},
   "source": [
    "# List areas with no volume"
   ]
  },
  {
   "cell_type": "code",
   "execution_count": null,
   "metadata": {
    "ExecuteTime": {
     "start_time": "2023-04-07T09:01:04.747Z"
    }
   },
   "outputs": [],
   "source": [
    "db_null_volume = {subject: dict_results_across_mice[subject][\n",
    "    dict_results_across_mice[subject]['energy'].isnull()] for subject in subjects}"
   ]
  },
  {
   "cell_type": "code",
   "execution_count": null,
   "metadata": {
    "ExecuteTime": {
     "start_time": "2023-04-07T09:01:04.904Z"
    }
   },
   "outputs": [],
   "source": [
    "# make histogram of these\n",
    "null_volume = [db_null_volume[subjects[0]].area.values]\n",
    "for subject in subjects[1:]:\n",
    "    null_volume.append(db_null_volume[subject].area.values)\n",
    "null_volume = np.hstack(null_volume)\n",
    "fig, ax = plt.subplots(1,1,figsize=(20,3))\n",
    "pd.Series(null_volume).value_counts(sort=True).plot(kind='bar', axes=ax)"
   ]
  },
  {
   "cell_type": "code",
   "execution_count": null,
   "metadata": {
    "ExecuteTime": {
     "start_time": "2023-04-07T09:01:05.048Z"
    }
   },
   "outputs": [],
   "source": [
    "# print areas that are null for all mice\n",
    "df = pd.DataFrame(pd.Series(null_volume).value_counts(sort=False))\n",
    "df.columns = ['counts']\n",
    "df = df[df.counts == 16]\n",
    "print(df.to_string())"
   ]
  },
  {
   "cell_type": "markdown",
   "metadata": {},
   "source": [
    "# Divide mice into experimental groups: FAM/UNFAM/CONTROL"
   ]
  },
  {
   "cell_type": "code",
   "execution_count": null,
   "metadata": {
    "ExecuteTime": {
     "start_time": "2023-04-07T09:01:05.346Z"
    }
   },
   "outputs": [],
   "source": [
    "experimental_groups = utils.divide_in_exp_groups(list_subjects=subjects)\n",
    "experimental_groups"
   ]
  },
  {
   "cell_type": "markdown",
   "metadata": {},
   "source": [
    "# Calculate cell count across experimental groups"
   ]
  },
  {
   "cell_type": "code",
   "execution_count": null,
   "metadata": {
    "ExecuteTime": {
     "start_time": "2023-04-07T09:01:05.643Z"
    }
   },
   "outputs": [],
   "source": [
    "def calculate_value_across_groups(experimental_groups, dict_results_across_mice, value='n_cells'):\n",
    "    \"\"\"\n",
    "    Value can either be n_cells or energy\n",
    "    \"\"\"\n",
    "    df_control = pd.DataFrame()\n",
    "    df_fam = pd.DataFrame()\n",
    "    df_unfam = pd.DataFrame()\n",
    "    for subject in experimental_groups['Control']:\n",
    "        df_control['area'] = dict_results_across_mice[subject]['area']\n",
    "        df_control[subject] = dict_results_across_mice[subject][value]\n",
    "    for subject in experimental_groups['Fam']:\n",
    "        df_fam['area'] = dict_results_across_mice[subject]['area']\n",
    "        df_fam[subject] = dict_results_across_mice[subject][value]\n",
    "    for subject in experimental_groups['Unfam']:\n",
    "        df_unfam['area'] = dict_results_across_mice[subject]['area']\n",
    "        df_unfam[subject] = dict_results_across_mice[subject][value]\n",
    "    return df_control, df_fam, df_unfam"
   ]
  },
  {
   "cell_type": "code",
   "execution_count": null,
   "metadata": {
    "ExecuteTime": {
     "start_time": "2023-04-07T09:01:05.815Z"
    }
   },
   "outputs": [],
   "source": [
    "df_control_cell_count, df_fam_cell_count, df_unfam_cell_count = \\\n",
    "calculate_value_across_groups(experimental_groups=experimental_groups, \n",
    "                              dict_results_across_mice=dict_results_across_mice, \n",
    "                              value='n_cells')"
   ]
  },
  {
   "cell_type": "code",
   "execution_count": null,
   "metadata": {
    "ExecuteTime": {
     "start_time": "2023-04-07T09:01:05.980Z"
    }
   },
   "outputs": [],
   "source": [
    "df_control_cell_count"
   ]
  },
  {
   "cell_type": "code",
   "execution_count": null,
   "metadata": {
    "ExecuteTime": {
     "start_time": "2023-04-07T09:01:06.129Z"
    }
   },
   "outputs": [],
   "source": [
    "df_fam_cell_count"
   ]
  },
  {
   "cell_type": "code",
   "execution_count": null,
   "metadata": {
    "ExecuteTime": {
     "start_time": "2023-04-07T09:01:06.301Z"
    }
   },
   "outputs": [],
   "source": [
    "df_unfam_cell_count"
   ]
  },
  {
   "cell_type": "code",
   "execution_count": null,
   "metadata": {
    "ExecuteTime": {
     "end_time": "2023-04-05T13:00:17.564650Z",
     "start_time": "2023-04-05T13:00:17.533288Z"
    }
   },
   "outputs": [],
   "source": []
  },
  {
   "cell_type": "markdown",
   "metadata": {},
   "source": [
    "## Calculate t-tests across groups per area"
   ]
  },
  {
   "cell_type": "code",
   "execution_count": null,
   "metadata": {
    "ExecuteTime": {
     "start_time": "2023-04-07T09:01:06.780Z"
    }
   },
   "outputs": [],
   "source": [
    "def ttest_across_groups(df_control, df_fam, df_unfam):\n",
    "    df_ttest = pd.DataFrame(columns=['area', 'pval_Control_vs_Fam', \n",
    "                                     'pval_Control_vs_Unfam', 'pval_Fam_vs_Unfam'])\n",
    "    df_ttest['area'] = df_control['area']\n",
    "    # loop over areas\n",
    "    for area in df_control['area'].values:\n",
    "        # compare control and fam\n",
    "        pval_control_fam = ttest_ind(df_control[df_control['area'] == area].values[0][1:],\n",
    "             df_fam[df_fam['area'] == area].values[0][1:])\n",
    "        # assign pvalue to dataframe\n",
    "        df_ttest['pval_Control_vs_Fam'][df_ttest.loc[df_ttest['area'] == area].index[0]] = pval_control_fam[1]\n",
    "\n",
    "        # compare control and unfam\n",
    "        pval_control_unfam = ttest_ind(df_control[df_control['area'] == area].values[0][1:],\n",
    "             df_unfam[df_unfam['area'] == area].values[0][1:])\n",
    "        # assign pvalue to dataframe\n",
    "        df_ttest['pval_Control_vs_Unfam'][df_ttest.loc[df_ttest['area'] == area].index[0]] = pval_control_unfam[1]\n",
    "\n",
    "        # compare fam and unfam\n",
    "        pval_fam_unfam = ttest_ind(df_fam[df_fam['area'] == area].values[0][1:],\n",
    "             df_unfam[df_unfam['area'] == area].values[0][1:])\n",
    "        # assign pvalue to dataframe\n",
    "        df_ttest['pval_Fam_vs_Unfam'][df_ttest.loc[df_ttest['area'] == area].index[0]] = pval_fam_unfam[1]\n",
    "    return df_ttest\n"
   ]
  },
  {
   "cell_type": "code",
   "execution_count": null,
   "metadata": {
    "ExecuteTime": {
     "start_time": "2023-04-07T09:01:06.936Z"
    }
   },
   "outputs": [],
   "source": [
    "df_ttest_ncells = ttest_across_groups(df_control=df_control_cell_count, \n",
    "                               df_fam=df_fam_cell_count, \n",
    "                               df_unfam=df_unfam_cell_count)\n",
    "df_ttest_ncells"
   ]
  },
  {
   "cell_type": "code",
   "execution_count": null,
   "metadata": {
    "ExecuteTime": {
     "start_time": "2023-04-07T09:01:07.117Z"
    }
   },
   "outputs": [],
   "source": [
    "# remove rows corresponding to area that have zero cell count across all experimental groups\n",
    "df_ttest_not_null_ncells = df_ttest_ncells.dropna(axis=0,\n",
    "                                   how='all',\n",
    "                                   subset=['pval_Control_vs_Fam',\n",
    "                                          'pval_Control_vs_Unfam',\n",
    "                                          'pval_Fam_vs_Unfam'])\n",
    "df_ttest_not_null_ncells"
   ]
  },
  {
   "cell_type": "code",
   "execution_count": null,
   "metadata": {
    "ExecuteTime": {
     "start_time": "2023-04-07T09:01:07.274Z"
    }
   },
   "outputs": [],
   "source": [
    "# sort dataframe pvalues of control vs fam and pick the first 20\n",
    "df_ttest_not_null_ncells.sort_values(by='pval_Control_vs_Fam')[['area', 'pval_Control_vs_Fam']][0:20].set_index('area')"
   ]
  },
  {
   "cell_type": "code",
   "execution_count": null,
   "metadata": {
    "ExecuteTime": {
     "start_time": "2023-04-07T09:01:07.439Z"
    }
   },
   "outputs": [],
   "source": [
    "# sort dataframe pvalues of control vs unfam and pick the first 20\n",
    "df_ttest_not_null_ncells.sort_values(by='pval_Control_vs_Unfam')[['area', 'pval_Control_vs_Unfam']][0:20].set_index('area')"
   ]
  },
  {
   "cell_type": "code",
   "execution_count": null,
   "metadata": {
    "ExecuteTime": {
     "start_time": "2023-04-07T09:01:07.596Z"
    }
   },
   "outputs": [],
   "source": [
    "# sort dataframe pvalues of fam vs unfam and pick the first 20\n",
    "df_ttest_not_null_ncells.sort_values(by='pval_Fam_vs_Unfam')[['area', 'pval_Fam_vs_Unfam']][0:20].set_index('area')"
   ]
  },
  {
   "cell_type": "markdown",
   "metadata": {
    "ExecuteTime": {
     "end_time": "2023-04-06T14:29:32.075321Z",
     "start_time": "2023-04-06T14:29:32.050467Z"
    }
   },
   "source": [
    "## Code to calculate cross corr matrix"
   ]
  },
  {
   "cell_type": "code",
   "execution_count": null,
   "metadata": {
    "ExecuteTime": {
     "start_time": "2023-04-07T09:01:07.925Z"
    }
   },
   "outputs": [],
   "source": [
    "def cross_corr(df):\n",
    "    # remove areas where no cells have been detected in any mouse\n",
    "    # and remove rows with all nans\n",
    "    corr_matrix = df.set_index('area').loc[\n",
    "        ~(df.set_index('area')==0).all(axis=1)].dropna(axis=0).T.corr(method='pearson')\n",
    "    return corr_matrix"
   ]
  },
  {
   "cell_type": "code",
   "execution_count": null,
   "metadata": {},
   "outputs": [],
   "source": []
  },
  {
   "cell_type": "markdown",
   "metadata": {},
   "source": [
    "## Calculate cross corr across groups per area on cell count"
   ]
  },
  {
   "cell_type": "code",
   "execution_count": null,
   "metadata": {
    "ExecuteTime": {
     "start_time": "2023-04-07T09:01:08.412Z"
    }
   },
   "outputs": [],
   "source": [
    "corr_matrix_control_ncells = cross_corr(df_control_cell_count)\n",
    "corr_matrix_control_ncells"
   ]
  },
  {
   "cell_type": "code",
   "execution_count": null,
   "metadata": {
    "ExecuteTime": {
     "start_time": "2023-04-07T09:01:08.593Z"
    }
   },
   "outputs": [],
   "source": [
    "corr_matrix_fam_ncells = cross_corr(df_fam_cell_count)\n",
    "corr_matrix_fam_ncells"
   ]
  },
  {
   "cell_type": "code",
   "execution_count": null,
   "metadata": {
    "ExecuteTime": {
     "start_time": "2023-04-07T09:01:08.757Z"
    }
   },
   "outputs": [],
   "source": [
    "corr_matrix_unfam_ncells = cross_corr(df_unfam_cell_count)\n",
    "corr_matrix_unfam_ncells"
   ]
  },
  {
   "cell_type": "markdown",
   "metadata": {},
   "source": [
    "## Plot cross corr matrix across groups per area on cell count"
   ]
  },
  {
   "cell_type": "code",
   "execution_count": null,
   "metadata": {
    "ExecuteTime": {
     "start_time": "2023-04-07T09:01:09.093Z"
    }
   },
   "outputs": [],
   "source": [
    "f, ax = plt.subplots(figsize=(10, 8))\n",
    "sns.heatmap(corr_matrix_control_ncells,\n",
    "    cmap=sns.diverging_palette(220, 10, as_cmap=True),\n",
    "    vmin=-1.0, vmax=1.0,\n",
    "    square=True, ax=ax)\n",
    "ax.set_title('CONTROL')"
   ]
  },
  {
   "cell_type": "code",
   "execution_count": null,
   "metadata": {
    "ExecuteTime": {
     "start_time": "2023-04-07T09:01:09.259Z"
    }
   },
   "outputs": [],
   "source": [
    "f, ax = plt.subplots(figsize=(10, 8))\n",
    "sns.heatmap(corr_matrix_fam_ncells,\n",
    "    cmap=sns.diverging_palette(220, 10, as_cmap=True),\n",
    "    vmin=-1.0, vmax=1.0,\n",
    "    square=True, ax=ax)\n",
    "ax.set_title('FAM')"
   ]
  },
  {
   "cell_type": "code",
   "execution_count": null,
   "metadata": {
    "ExecuteTime": {
     "start_time": "2023-04-07T09:01:09.448Z"
    }
   },
   "outputs": [],
   "source": [
    "f, ax = plt.subplots(figsize=(10, 8))\n",
    "sns.heatmap(corr_matrix_unfam_ncells,\n",
    "    cmap=sns.diverging_palette(220, 10, as_cmap=True),\n",
    "    vmin=-1.0, vmax=1.0,\n",
    "    square=True, ax=ax)\n",
    "ax.set_title('UNFAM')"
   ]
  },
  {
   "cell_type": "markdown",
   "metadata": {},
   "source": [
    "# Calculate energy across experimental groups"
   ]
  },
  {
   "cell_type": "code",
   "execution_count": null,
   "metadata": {
    "ExecuteTime": {
     "start_time": "2023-04-07T09:01:09.818Z"
    }
   },
   "outputs": [],
   "source": [
    "df_control_energy, df_fam_energy, df_unfam_energy = \\\n",
    "calculate_value_across_groups(experimental_groups, dict_results_across_mice, value='energy')"
   ]
  },
  {
   "cell_type": "code",
   "execution_count": null,
   "metadata": {
    "ExecuteTime": {
     "start_time": "2023-04-07T09:01:09.974Z"
    }
   },
   "outputs": [],
   "source": [
    "df_control_energy"
   ]
  },
  {
   "cell_type": "code",
   "execution_count": null,
   "metadata": {
    "ExecuteTime": {
     "start_time": "2023-04-07T09:01:10.131Z"
    }
   },
   "outputs": [],
   "source": [
    "df_fam_energy"
   ]
  },
  {
   "cell_type": "code",
   "execution_count": null,
   "metadata": {
    "ExecuteTime": {
     "start_time": "2023-04-07T09:01:10.303Z"
    }
   },
   "outputs": [],
   "source": [
    "df_unfam_energy"
   ]
  },
  {
   "cell_type": "code",
   "execution_count": null,
   "metadata": {
    "ExecuteTime": {
     "start_time": "2023-04-07T09:01:10.468Z"
    }
   },
   "outputs": [],
   "source": [
    "df_ttest_energy = ttest_across_groups(df_control=df_control_energy,\n",
    "                                      df_fam=df_fam_energy,\n",
    "                                      df_unfam=df_unfam_energy)\n",
    "df_ttest_energy"
   ]
  },
  {
   "cell_type": "code",
   "execution_count": null,
   "metadata": {
    "ExecuteTime": {
     "start_time": "2023-04-07T09:01:10.625Z"
    }
   },
   "outputs": [],
   "source": [
    "# remove rows corresponding to area that have zero cell count across all experimental groups\n",
    "df_ttest_not_null_energy = df_ttest_energy.dropna(axis=0,\n",
    "                                   how='all',\n",
    "                                   subset=['pval_Control_vs_Fam',\n",
    "                                          'pval_Control_vs_Unfam',\n",
    "                                          'pval_Fam_vs_Unfam'])\n",
    "df_ttest_not_null_energy"
   ]
  },
  {
   "cell_type": "code",
   "execution_count": null,
   "metadata": {
    "ExecuteTime": {
     "start_time": "2023-04-07T09:01:10.789Z"
    }
   },
   "outputs": [],
   "source": [
    "# sort dataframe pvalues of control vs fam and pick the first 20\n",
    "df_ttest_not_null_energy.sort_values(by='pval_Control_vs_Fam')[['area', 'pval_Control_vs_Fam']][0:20].set_index('area')"
   ]
  },
  {
   "cell_type": "code",
   "execution_count": null,
   "metadata": {
    "ExecuteTime": {
     "start_time": "2023-04-07T09:01:10.970Z"
    }
   },
   "outputs": [],
   "source": [
    "# sort dataframe pvalues of control vs fam and pick the first 20\n",
    "df_ttest_not_null_energy.sort_values(by='pval_Control_vs_Unfam')[['area', 'pval_Control_vs_Unfam']][0:20].set_index('area')"
   ]
  },
  {
   "cell_type": "code",
   "execution_count": null,
   "metadata": {
    "ExecuteTime": {
     "start_time": "2023-04-07T09:01:11.134Z"
    }
   },
   "outputs": [],
   "source": [
    "# sort dataframe pvalues of control vs fam and pick the first 20\n",
    "df_ttest_not_null_energy.sort_values(by='pval_Fam_vs_Unfam')[['area', 'pval_Fam_vs_Unfam']][0:20].set_index('area')"
   ]
  },
  {
   "cell_type": "markdown",
   "metadata": {
    "ExecuteTime": {
     "end_time": "2023-04-05T15:11:36.529234Z",
     "start_time": "2023-04-05T15:11:36.525705Z"
    }
   },
   "source": [
    "\n"
   ]
  },
  {
   "cell_type": "markdown",
   "metadata": {
    "ExecuteTime": {
     "end_time": "2023-04-06T10:24:14.656694Z",
     "start_time": "2023-04-06T10:24:14.635523Z"
    }
   },
   "source": [
    "## Calculate cross corr matrix across experimental groups on energy"
   ]
  },
  {
   "cell_type": "code",
   "execution_count": null,
   "metadata": {
    "ExecuteTime": {
     "start_time": "2023-04-07T09:01:11.606Z"
    }
   },
   "outputs": [],
   "source": [
    "corr_matrix_control_energy = cross_corr(df_control_energy)\n",
    "corr_matrix_control_energy"
   ]
  },
  {
   "cell_type": "code",
   "execution_count": null,
   "metadata": {
    "ExecuteTime": {
     "start_time": "2023-04-07T09:01:11.770Z"
    }
   },
   "outputs": [],
   "source": [
    "corr_matrix_fam_energy = cross_corr(df_fam_energy)\n",
    "corr_matrix_fam_energy"
   ]
  },
  {
   "cell_type": "code",
   "execution_count": null,
   "metadata": {
    "ExecuteTime": {
     "start_time": "2023-04-07T09:01:11.935Z"
    }
   },
   "outputs": [],
   "source": [
    "corr_matrix_unfam_energy = cross_corr(df_unfam_energy)\n",
    "corr_matrix_unfam_energy"
   ]
  },
  {
   "cell_type": "markdown",
   "metadata": {
    "ExecuteTime": {
     "end_time": "2023-04-06T10:58:02.369256Z",
     "start_time": "2023-04-06T10:58:01.314282Z"
    }
   },
   "source": [
    "## Plot cross corr matrix across groups per area on energy"
   ]
  },
  {
   "cell_type": "code",
   "execution_count": null,
   "metadata": {
    "ExecuteTime": {
     "start_time": "2023-04-07T09:01:12.280Z"
    }
   },
   "outputs": [],
   "source": [
    "f, ax = plt.subplots(figsize=(10, 8))\n",
    "sns.heatmap(corr_matrix_control_energy,\n",
    "    cmap=sns.diverging_palette(220, 10, as_cmap=True),\n",
    "    vmin=-1.0, vmax=1.0,\n",
    "    square=True, ax=ax)\n",
    "ax.set_title('CONTROL')"
   ]
  },
  {
   "cell_type": "code",
   "execution_count": null,
   "metadata": {
    "ExecuteTime": {
     "start_time": "2023-04-07T09:01:12.477Z"
    }
   },
   "outputs": [],
   "source": [
    "f, ax = plt.subplots(figsize=(10, 8))\n",
    "sns.heatmap(corr_matrix_fam_energy,\n",
    "    cmap=sns.diverging_palette(220, 10, as_cmap=True),\n",
    "    vmin=-1.0, vmax=1.0,\n",
    "    square=True, ax=ax)\n",
    "ax.set_title('FAM')"
   ]
  },
  {
   "cell_type": "code",
   "execution_count": null,
   "metadata": {
    "ExecuteTime": {
     "start_time": "2023-04-07T09:01:12.649Z"
    }
   },
   "outputs": [],
   "source": [
    "f, ax = plt.subplots(figsize=(10, 8))\n",
    "sns.heatmap(corr_matrix_unfam_energy,\n",
    "    cmap=sns.diverging_palette(220, 10, as_cmap=True),\n",
    "    vmin=-1.0, vmax=1.0,\n",
    "    square=True, ax=ax)\n",
    "ax.set_title('UNFAM')"
   ]
  },
  {
   "cell_type": "code",
   "execution_count": null,
   "metadata": {
    "ExecuteTime": {
     "end_time": "2023-04-06T10:24:15.006564Z",
     "start_time": "2023-04-06T10:22:36.107Z"
    }
   },
   "outputs": [],
   "source": []
  },
  {
   "cell_type": "code",
   "execution_count": null,
   "metadata": {},
   "outputs": [],
   "source": []
  },
  {
   "cell_type": "code",
   "execution_count": null,
   "metadata": {},
   "outputs": [],
   "source": []
  },
  {
   "cell_type": "code",
   "execution_count": null,
   "metadata": {},
   "outputs": [],
   "source": []
  }
 ],
 "metadata": {
  "kernelspec": {
   "display_name": "ClearMap",
   "language": "python",
   "name": "clearmap"
  },
  "language_info": {
   "codemirror_mode": {
    "name": "ipython",
    "version": 3
   },
   "file_extension": ".py",
   "mimetype": "text/x-python",
   "name": "python",
   "nbconvert_exporter": "python",
   "pygments_lexer": "ipython3",
   "version": "3.8.1"
  },
  "latex_envs": {
   "LaTeX_envs_menu_present": true,
   "autoclose": false,
   "autocomplete": true,
   "bibliofile": "biblio.bib",
   "cite_by": "apalike",
   "current_citInitial": 1,
   "eqLabelWithNumbers": true,
   "eqNumInitial": 1,
   "hotkeys": {
    "equation": "Ctrl-E",
    "itemize": "Ctrl-I"
   },
   "labels_anchors": false,
   "latex_user_defs": false,
   "report_style_numbering": false,
   "user_envs_cfg": false
  },
  "toc": {
   "nav_menu": {},
   "number_sections": true,
   "sideBar": true,
   "skip_h1_title": false,
   "title_cell": "Table of Contents",
   "title_sidebar": "Contents",
   "toc_cell": false,
   "toc_position": {},
   "toc_section_display": true,
   "toc_window_display": false
  },
  "varInspector": {
   "cols": {
    "lenName": 16,
    "lenType": 16,
    "lenVar": 40
   },
   "kernels_config": {
    "python": {
     "delete_cmd_postfix": "",
     "delete_cmd_prefix": "del ",
     "library": "var_list.py",
     "varRefreshCmd": "print(var_dic_list())"
    },
    "r": {
     "delete_cmd_postfix": ") ",
     "delete_cmd_prefix": "rm(",
     "library": "var_list.r",
     "varRefreshCmd": "cat(var_dic_list()) "
    }
   },
   "types_to_exclude": [
    "module",
    "function",
    "builtin_function_or_method",
    "instance",
    "_Feature"
   ],
   "window_display": false
  }
 },
 "nbformat": 4,
 "nbformat_minor": 4
}
