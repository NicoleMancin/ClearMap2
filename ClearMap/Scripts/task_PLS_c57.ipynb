{
 "cells": [
  {
   "cell_type": "code",
   "execution_count": 3,
   "metadata": {
    "ExecuteTime": {
     "end_time": "2023-05-29T13:25:30.134619Z",
     "start_time": "2023-05-29T13:25:29.412502Z"
    }
   },
   "outputs": [],
   "source": [
    "import numpy as np\n",
    "import matplotlib.pyplot as plt\n",
    "import pandas as pd\n",
    "import analyze_cells_energy as ace\n",
    "import re\n",
    "import utils\n",
    "import itertools\n",
    "import seaborn as sns\n",
    "import utils_PLS as upls"
   ]
  },
  {
   "cell_type": "code",
   "execution_count": 4,
   "metadata": {
    "ExecuteTime": {
     "end_time": "2023-05-29T13:25:30.176022Z",
     "start_time": "2023-05-29T13:25:30.145276Z"
    }
   },
   "outputs": [],
   "source": [
    "# load query file where we added volumes for each area\n",
    "volumes = pd.read_csv(\"query_volumes_reordered.csv\")\n",
    "volumes = ace.clean_volumes_database(volumes)"
   ]
  },
  {
   "cell_type": "code",
   "execution_count": 5,
   "metadata": {
    "ExecuteTime": {
     "end_time": "2023-05-29T13:25:30.225929Z",
     "start_time": "2023-05-29T13:25:30.215372Z"
    }
   },
   "outputs": [],
   "source": [
    "root_directory = '/home/stella/Documents/Torino/projects/'\n",
    "experiment = 'SexualImprinting'\n",
    "experimental_group = 'C57_MaleUrine_Exposure_cFos'\n",
    "batch='c57'\n",
    "data_directory = root_directory + experiment + '/' \\\n",
    "                + experimental_group + '/'\n",
    "dict_results_across_mice = np.load('dict_results/dict_results_across_mice_c57.npy', allow_pickle=True).item()"
   ]
  },
  {
   "cell_type": "code",
   "execution_count": 6,
   "metadata": {
    "ExecuteTime": {
     "end_time": "2023-05-29T13:25:31.677860Z",
     "start_time": "2023-05-29T13:25:30.347675Z"
    }
   },
   "outputs": [],
   "source": [
    "dict_results_across_mice = upls.reformat_dict_acronym(dict_results=dict_results_across_mice, volumes=volumes)"
   ]
  },
  {
   "cell_type": "markdown",
   "metadata": {
    "ExecuteTime": {
     "end_time": "2023-04-27T09:40:35.015950Z",
     "start_time": "2023-04-27T09:40:35.009945Z"
    }
   },
   "source": [
    "# Format data for task PLS"
   ]
  },
  {
   "cell_type": "code",
   "execution_count": 7,
   "metadata": {
    "ExecuteTime": {
     "end_time": "2023-05-29T13:25:31.946451Z",
     "start_time": "2023-05-29T13:25:31.834339Z"
    }
   },
   "outputs": [],
   "source": [
    "upls.format_data_pls(dict_results=dict_results_across_mice, batch=batch, table='n_cells')\n",
    "upls.format_data_pls(dict_results=dict_results_across_mice, batch=batch, table='energy')"
   ]
  },
  {
   "cell_type": "code",
   "execution_count": 8,
   "metadata": {
    "ExecuteTime": {
     "end_time": "2023-05-29T13:25:32.113096Z",
     "start_time": "2023-05-29T13:25:32.090515Z"
    }
   },
   "outputs": [],
   "source": [
    "data_ncells = pd.read_csv('./results_pls/'+batch+'_n_cells.csv')\n",
    "data_energy = pd.read_csv('./results_pls/'+batch+'_energy.csv')"
   ]
  },
  {
   "cell_type": "markdown",
   "metadata": {},
   "source": [
    "# Format data for hierarchy plotting"
   ]
  },
  {
   "cell_type": "code",
   "execution_count": 9,
   "metadata": {
    "ExecuteTime": {
     "end_time": "2023-05-29T13:25:35.498611Z",
     "start_time": "2023-05-29T13:25:32.294287Z"
    }
   },
   "outputs": [],
   "source": [
    "df_levels = upls.create_df_levels(volumes)"
   ]
  },
  {
   "cell_type": "markdown",
   "metadata": {
    "ExecuteTime": {
     "end_time": "2023-04-27T10:25:06.309157Z",
     "start_time": "2023-04-27T10:25:06.272373Z"
    }
   },
   "source": [
    "# Apply task PLS for all areas and energy"
   ]
  },
  {
   "cell_type": "code",
   "execution_count": 10,
   "metadata": {
    "ExecuteTime": {
     "end_time": "2023-05-29T13:25:37.353970Z",
     "start_time": "2023-05-29T13:25:35.677070Z"
    }
   },
   "outputs": [
    {
     "name": "stderr",
     "output_type": "stream",
     "text": [
      "2023-05-29 15:25:37 PC1QFRRQ __main__[30725] INFO reading data...\n",
      "2023-05-29 15:25:37 PC1QFRRQ __main__[30725] INFO computing PLS...\n",
      "2023-05-29 15:25:37 PC1QFRRQ __main__[30725] INFO PLS computed, now performing bootstrap...\n",
      "2023-05-29 15:25:37 PC1QFRRQ __main__[30725] INFO saving output data...\n"
     ]
    }
   ],
   "source": [
    "%%bash\n",
    "python area_pls.py -i results_pls/c57_n_cells.csv -o './results_pls/c57'"
   ]
  },
  {
   "cell_type": "code",
   "execution_count": 1,
   "metadata": {
    "ExecuteTime": {
     "end_time": "2023-09-01T16:09:15.216932Z",
     "start_time": "2023-09-01T16:09:15.213934Z"
    },
    "code_folding": []
   },
   "outputs": [],
   "source": [
    "# %%bash\n",
    "# python area_pls.py -i results_pls/c57_energy.csv -o './results_pls/c57_energy'"
   ]
  },
  {
   "cell_type": "markdown",
   "metadata": {},
   "source": [
    "# Plot results"
   ]
  },
  {
   "cell_type": "code",
   "execution_count": 12,
   "metadata": {
    "ExecuteTime": {
     "end_time": "2023-05-29T13:26:05.531227Z",
     "start_time": "2023-05-29T13:26:05.512245Z"
    }
   },
   "outputs": [],
   "source": [
    "c57_contrasts = pd.read_csv('./results_pls/c57_contrasts.csv')\n",
    "c57_saliences = pd.read_csv('./results_pls/c57_saliences.csv')\n",
    "c57_contrasts = c57_contrasts.rename(columns={\"group_Control\": \"Control\", \"group_Fam\": \"Fam\", \"group_Unfam\":\"Unfam\"})"
   ]
  },
  {
   "cell_type": "code",
   "execution_count": 13,
   "metadata": {
    "ExecuteTime": {
     "end_time": "2023-05-29T13:26:06.439888Z",
     "start_time": "2023-05-29T13:26:05.931879Z"
    }
   },
   "outputs": [
    {
     "data": {
      "image/png": "[encoded data removed]",
      "text/plain": [
       "<Figure size 720x360 with 3 Axes>"
      ]
     },
     "metadata": {
      "needs_background": "light"
     },
     "output_type": "display_data"
    }
   ],
   "source": [
    "fig, axes = plt.subplots(1,3, sharey='row', figsize=(10,5))\n",
    "upls.plot_contrasts(df_data=c57_contrasts, index=0, ax=axes[0])\n",
    "upls.plot_contrasts(df_data=c57_contrasts, index=1, ax=axes[1])\n",
    "upls.plot_contrasts(df_data=c57_contrasts, index=2, ax=axes[2])\n",
    "axes[0].set_ylabel('Contrast')\n",
    "axes[1].set_ylabel('')\n",
    "axes[2].set_ylabel('')\n",
    "axes[0].tick_params(axis='x', labelrotation=90)\n",
    "axes[1].tick_params(axis='x', labelrotation=90)\n",
    "axes[2].tick_params(axis='x', labelrotation=90)\n",
    "axes[0].set_title('First contrast')\n",
    "axes[1].set_title('Second contrast')\n",
    "axes[2].set_title('Third contrast')\n",
    "for i in range(3):\n",
    "    axes[i].set(xlabel=None)\n",
    "plt.tight_layout()\n",
    "plt.savefig('./results_pls/c57_pls_contrasts_all_areas.png')\n",
    "plt.savefig('./results_pls/c57_pls_contrasts_all_areas.svg')"
   ]
  },
  {
   "cell_type": "code",
   "execution_count": 14,
   "metadata": {
    "ExecuteTime": {
     "end_time": "2023-05-29T13:26:22.840515Z",
     "start_time": "2023-05-29T13:26:06.647743Z"
    },
    "scrolled": false
   },
   "outputs": [
    {
     "data": {
      "image/png": "[encoded data removed]",
      "text/plain": [
       "<Figure size 936x504 with 3 Axes>"
      ]
     },
     "metadata": {
      "needs_background": "light"
     },
     "output_type": "display_data"
    }
   ],
   "source": [
    "fig, axes = plt.subplots(3,1, sharex='row', figsize=(13,7))\n",
    "plt.subplots_adjust(top=0.9, left=0.03, right=0.8)\n",
    "upls.plot_saliences(df_data=c57_saliences, index=0, ax=axes[0], df_levels=df_levels)\n",
    "upls.plot_saliences(df_data=c57_saliences, index=1, ax=axes[1], df_levels=df_levels)\n",
    "upls.plot_saliences(df_data=c57_saliences, index=2, ax=axes[2], df_levels=df_levels)\n",
    "axes[0].tick_params(axis='x', labelrotation=90)\n",
    "axes[1].tick_params(axis='x', labelrotation=90)\n",
    "axes[2].tick_params(axis='x', labelrotation=90)\n",
    "axes[0].set_xlabel('')\n",
    "axes[0].set(xticklabels=[])\n",
    "axes[0].set_ylim(0,10)\n",
    "axes[1].set_xlabel('')\n",
    "axes[1].set(xticklabels=[])\n",
    "axes[0].set_title('First salience')\n",
    "axes[1].set_title('Second salience')\n",
    "axes[2].set_title('Third salience')\n",
    "axes[2].set_xlabel('Area')\n",
    "axes[0].legend(loc='right', bbox_to_anchor=(1.25,0.3))\n",
    "axes[1].get_legend().remove()\n",
    "axes[2].get_legend().remove()\n",
    "n = 4  # Keeps every 7th label\n",
    "for i in range(3):\n",
    "    axes[i].axhline(y=1.96, linestyle='-.', color='darkgrey')\n",
    "    axes[i].axhline(y=-1.96, linestyle='-.', color='darkgrey')\n",
    "    [l.set_visible(False) for (i,l) in enumerate(axes[i].xaxis.get_ticklabels()) if i % n != 0]\n",
    "plt.savefig('./results_pls/c57_pls_saliences_all_areas.png')\n",
    "plt.savefig('./results_pls/c57_pls_saliences_all_areas.svg')"
   ]
  },
  {
   "cell_type": "code",
   "execution_count": 15,
   "metadata": {
    "ExecuteTime": {
     "end_time": "2023-05-29T13:26:23.065643Z",
     "start_time": "2023-05-29T13:26:23.059012Z"
    }
   },
   "outputs": [
    {
     "data": {
      "text/plain": [
       "(31.628531069293505,\n",
       " 0    MOB\n",
       " 1     RT\n",
       " 2    PAR\n",
       " dtype: object)"
      ]
     },
     "execution_count": 15,
     "metadata": {},
     "output_type": "execute_result"
    }
   ],
   "source": [
    "c57_saliences.loc[0].max(), c57_saliences.idxmax(axis=1)"
   ]
  },
  {
   "cell_type": "code",
   "execution_count": 16,
   "metadata": {
    "ExecuteTime": {
     "end_time": "2023-05-29T13:26:23.270877Z",
     "start_time": "2023-05-29T13:26:23.268097Z"
    }
   },
   "outputs": [
    {
     "data": {
      "text/plain": [
       "31.628531069293505"
      ]
     },
     "execution_count": 16,
     "metadata": {},
     "output_type": "execute_result"
    }
   ],
   "source": [
    "c57_saliences['MOB'].loc[0]"
   ]
  },
  {
   "cell_type": "code",
   "execution_count": 17,
   "metadata": {
    "ExecuteTime": {
     "end_time": "2023-05-29T13:26:23.466727Z",
     "start_time": "2023-05-29T13:26:23.462793Z"
    }
   },
   "outputs": [
    {
     "data": {
      "text/plain": [
       "'Main olfactory bulb'"
      ]
     },
     "execution_count": 17,
     "metadata": {},
     "output_type": "execute_result"
    }
   ],
   "source": [
    "volumes.loc[volumes['acronym'] == 'MOB']['safe_name'].values[0]"
   ]
  },
  {
   "cell_type": "markdown",
   "metadata": {
    "ExecuteTime": {
     "end_time": "2023-04-28T07:45:14.437413Z",
     "start_time": "2023-04-28T07:45:14.413768Z"
    }
   },
   "source": [
    "# Identify areas with significant salience contribution"
   ]
  },
  {
   "cell_type": "code",
   "execution_count": 33,
   "metadata": {
    "ExecuteTime": {
     "end_time": "2023-05-30T09:19:27.039734Z",
     "start_time": "2023-05-30T09:19:26.994617Z"
    }
   },
   "outputs": [],
   "source": [
    "pls_sig_areas = upls.identify_pls_sig_areas(saliences=c57_saliences, \n",
    "                                       threshold=2.58, \n",
    "                                       volumes=volumes)\n",
    "np.save('results_pls/pls_sig_areas_c57.npy', pls_sig_areas)"
   ]
  },
  {
   "cell_type": "code",
   "execution_count": 34,
   "metadata": {
    "ExecuteTime": {
     "end_time": "2023-05-30T09:19:27.854772Z",
     "start_time": "2023-05-30T09:19:27.841425Z"
    }
   },
   "outputs": [
    {
     "data": {
      "text/plain": [
       "array(['Anterior olfactory nucleus', 'Anterolateral visual area',\n",
       "       'Anteromedial visual area', 'Arcuate hypothalamic nucleus',\n",
       "       'Basolateral amygdalar nucleus', 'Basomedial amygdalar nucleus',\n",
       "       'Bed nuclei of the stria terminalis',\n",
       "       'Central medial nucleus of the thalamus', 'Claustrum',\n",
       "       'Cortical amygdalar area', 'Dorsal peduncular area',\n",
       "       'Dorsal premammillary nucleus',\n",
       "       'Dorsomedial nucleus of the hypothalamus', 'Endopiriform nucleus',\n",
       "       'Entorhinal area', 'Frontal pole cerebral cortex',\n",
       "       'Fundus of striatum', 'Interanteromedial nucleus of the thalamus',\n",
       "       'Intermediodorsal nucleus of the thalamus',\n",
       "       'Lateral hypothalamic area', 'Lateral visual area',\n",
       "       'Main olfactory bulb', 'Medial mammillary nucleus',\n",
       "       'Mediodorsal nucleus of thalamus', 'Nucleus of reuniens',\n",
       "       'Nucleus of the lateral olfactory tract', 'Orbital area',\n",
       "       'Parastrial nucleus',\n",
       "       'Periventricular hypothalamic nucleus posterior part',\n",
       "       'Piriform area', 'Piriform-amygdalar area',\n",
       "       'Posterolateral visual area', 'Preparasubthalamic nucleus',\n",
       "       'Primary somatosensory area', 'Primary visual area',\n",
       "       'Reticular nucleus of the thalamus', 'Retrochiasmatic area',\n",
       "       'Retrosplenial area', 'Rhomboid nucleus',\n",
       "       'Rostrolateral visual area', 'Substantia innominata',\n",
       "       'Supramammillary nucleus', 'Tuberal nucleus',\n",
       "       'Tuberomammillary nucleus'], dtype='<U51')"
      ]
     },
     "execution_count": 34,
     "metadata": {},
     "output_type": "execute_result"
    }
   ],
   "source": [
    "pls_sig_areas = np.load('results_pls/pls_sig_areas_c57.npy', allow_pickle=True)\n",
    "pls_sig_areas"
   ]
  },
  {
   "cell_type": "markdown",
   "metadata": {},
   "source": [
    "# Apply PLS for all significant areas in ncells and energy"
   ]
  },
  {
   "cell_type": "code",
   "execution_count": 24,
   "metadata": {
    "ExecuteTime": {
     "end_time": "2023-05-29T13:27:13.392048Z",
     "start_time": "2023-05-29T13:27:12.332519Z"
    }
   },
   "outputs": [],
   "source": [
    "# select significant areas\n",
    "experimental_groups = utils.divide_in_exp_groups(list_subjects=list(dict_results_across_mice.keys()))\n",
    "df_control_cell_count, df_fam_cell_count, df_unfam_cell_count = \\\n",
    "ace.calculate_value_across_groups(experimental_groups=experimental_groups, \n",
    "                              dict_results_across_mice=dict_results_across_mice, \n",
    "                              value='n_cells')\n",
    "df_ttest_ncells = ace.test_across_groups(df_control=df_control_cell_count, \n",
    "                               df_fam=df_fam_cell_count, \n",
    "                               df_unfam=df_unfam_cell_count)\n",
    "df_ttest_not_null_ncells = df_ttest_ncells.dropna(axis=0,\n",
    "                                   how='all',\n",
    "                                   subset=['pval_Control_vs_Fam',\n",
    "                                          'pval_Control_vs_Unfam',\n",
    "                                          'pval_Fam_vs_Unfam'])\n",
    "sig_areas_ncells_ttest = upls.select_significant_areas(df=df_ttest_not_null_ncells, threshold=0.05)\n",
    "# get corresponding acronyms of these areas\n",
    "sig_acronyms = [volumes.loc[volumes['safe_name'] == area]['acronym'].values[0] for area in sig_areas_ncells_ttest]\n",
    "# remove columns from database\n",
    "keep_columns = ['subject', 'sex', 'group'] + sig_acronyms\n",
    "# make database filtered\n",
    "data_ncells_filt = data_ncells.drop(columns=[col for col in data_ncells if col not in keep_columns])\n",
    "data_energy_filt = data_energy.drop(columns=[col for col in data_energy if col not in keep_columns])\n",
    "data_ncells_filt.to_csv('./results_pls/'+batch+'_n_cells_filt.csv')\n",
    "data_energy_filt.to_csv('./results_pls/'+batch+'_energy_filt.csv')"
   ]
  },
  {
   "cell_type": "code",
   "execution_count": 25,
   "metadata": {
    "ExecuteTime": {
     "end_time": "2023-05-29T13:27:15.354134Z",
     "start_time": "2023-05-29T13:27:13.654790Z"
    }
   },
   "outputs": [
    {
     "name": "stderr",
     "output_type": "stream",
     "text": [
      "2023-05-29 15:27:15 PC1QFRRQ __main__[30767] INFO reading data...\n",
      "2023-05-29 15:27:15 PC1QFRRQ __main__[30767] INFO computing PLS...\n",
      "2023-05-29 15:27:15 PC1QFRRQ __main__[30767] INFO PLS computed, now performing bootstrap...\n",
      "2023-05-29 15:27:15 PC1QFRRQ __main__[30767] INFO saving output data...\n"
     ]
    }
   ],
   "source": [
    "%%bash\n",
    "python area_pls.py -i results_pls/c57_n_cells_filt.csv -o './results_pls/c57_filt'"
   ]
  },
  {
   "cell_type": "code",
   "execution_count": 26,
   "metadata": {
    "ExecuteTime": {
     "end_time": "2023-05-29T13:27:17.285840Z",
     "start_time": "2023-05-29T13:27:15.629397Z"
    }
   },
   "outputs": [
    {
     "name": "stderr",
     "output_type": "stream",
     "text": [
      "2023-05-29 15:27:17 PC1QFRRQ __main__[30772] INFO reading data...\n",
      "2023-05-29 15:27:17 PC1QFRRQ __main__[30772] INFO computing PLS...\n",
      "2023-05-29 15:27:17 PC1QFRRQ __main__[30772] INFO PLS computed, now performing bootstrap...\n",
      "2023-05-29 15:27:17 PC1QFRRQ __main__[30772] INFO saving output data...\n"
     ]
    }
   ],
   "source": [
    "%%bash\n",
    "python area_pls.py -i results_pls/c57_energy_filt.csv -o './results_pls/c57_energy_filt'"
   ]
  },
  {
   "cell_type": "markdown",
   "metadata": {},
   "source": [
    "## Look at the number of cells"
   ]
  },
  {
   "cell_type": "code",
   "execution_count": 27,
   "metadata": {
    "ExecuteTime": {
     "end_time": "2023-05-29T13:27:17.573646Z",
     "start_time": "2023-05-29T13:27:17.565935Z"
    }
   },
   "outputs": [],
   "source": [
    "c57_contrasts_filt = pd.read_csv('./results_pls/c57_filt_contrasts.csv')\n",
    "c57_saliences_filt = pd.read_csv('./results_pls/c57_filt_saliences.csv')\n",
    "c57_contrasts_filt = c57_contrasts_filt.rename(columns={\"group_Control\": \"Control\", \n",
    "                                                        \"group_Fam\": \"Fam\", \n",
    "                                                        \"group_Unfam\":\"Unfam\"})"
   ]
  },
  {
   "cell_type": "code",
   "execution_count": 28,
   "metadata": {
    "ExecuteTime": {
     "end_time": "2023-05-29T13:27:18.251106Z",
     "start_time": "2023-05-29T13:27:17.850592Z"
    }
   },
   "outputs": [
    {
     "data": {
      "image/png": "[encoded data removed]",
      "text/plain": [
       "<Figure size 720x360 with 3 Axes>"
      ]
     },
     "metadata": {
      "needs_background": "light"
     },
     "output_type": "display_data"
    }
   ],
   "source": [
    "fig, axes = plt.subplots(1,3, sharey='row', figsize=(10,5))\n",
    "upls.plot_contrasts(df_data=c57_contrasts_filt, index=0, ax=axes[0])\n",
    "upls.plot_contrasts(df_data=c57_contrasts_filt, index=1, ax=axes[1])\n",
    "upls.plot_contrasts(df_data=c57_contrasts_filt, index=2, ax=axes[2])\n",
    "axes[1].set_ylabel('')\n",
    "axes[2].set_ylabel('')\n",
    "axes[0].tick_params(axis='x', labelrotation=90)\n",
    "axes[1].tick_params(axis='x', labelrotation=90)\n",
    "axes[2].tick_params(axis='x', labelrotation=90)\n",
    "axes[0].set_title('First contrast')\n",
    "axes[1].set_title('Second contrast')\n",
    "axes[2].set_title('Third contrast')\n",
    "for i in range(3):\n",
    "    axes[i].set(xlabel=None)\n",
    "plt.tight_layout()\n",
    "plt.savefig('./results_pls/c57_pls_contrasts_sig_areas.png')"
   ]
  },
  {
   "cell_type": "code",
   "execution_count": 29,
   "metadata": {
    "ExecuteTime": {
     "end_time": "2023-05-29T13:27:22.387354Z",
     "start_time": "2023-05-29T13:27:18.547307Z"
    }
   },
   "outputs": [
    {
     "data": {
      "image/png": "[encoded data removed]",
      "text/plain": [
       "<Figure size 936x504 with 3 Axes>"
      ]
     },
     "metadata": {
      "needs_background": "light"
     },
     "output_type": "display_data"
    }
   ],
   "source": [
    "fig, axes = plt.subplots(3,1, sharex='row', figsize=(13,7))\n",
    "plt.subplots_adjust(top=0.9, left=0.03, right=0.8)\n",
    "upls.plot_saliences(df_data=c57_saliences_filt, index=0, ax=axes[0], df_levels=df_levels)\n",
    "upls.plot_saliences(df_data=c57_saliences_filt, index=1, ax=axes[1], df_levels=df_levels)\n",
    "upls.plot_saliences(df_data=c57_saliences_filt, index=2, ax=axes[2], df_levels=df_levels)\n",
    "axes[0].tick_params(axis='x', labelrotation=90)\n",
    "axes[1].tick_params(axis='x', labelrotation=90)\n",
    "axes[2].tick_params(axis='x', labelrotation=90)\n",
    "axes[0].set_xlabel('')\n",
    "axes[0].set(xticklabels=[])\n",
    "axes[0].set_ylim(-20,5)\n",
    "axes[1].set_xlabel('')\n",
    "axes[1].set(xticklabels=[])\n",
    "axes[0].set_title('First salience')\n",
    "axes[1].set_title('Second salience')\n",
    "axes[2].set_title('Third salience')\n",
    "axes[2].set_xlabel('Area')\n",
    "axes[0].legend(loc='right', bbox_to_anchor=(1.25,0.3))\n",
    "axes[1].get_legend().remove()\n",
    "axes[2].get_legend().remove()\n",
    "n = 4  # Keeps every 7th label\n",
    "for i in range(3):\n",
    "    axes[i].axhline(y=1.96, linestyle='-.', color='darkgrey')\n",
    "    axes[i].axhline(y=-1.96, linestyle='-.', color='darkgrey')\n",
    "plt.savefig('./results_pls/c57_pls_saliences_sig_areas.png')\n",
    "plt.savefig('./results_pls/c57_pls_saliences_sig_areas.svg')"
   ]
  },
  {
   "cell_type": "markdown",
   "metadata": {
    "ExecuteTime": {
     "end_time": "2023-05-10T12:53:56.706219Z",
     "start_time": "2023-05-10T12:53:56.682013Z"
    }
   },
   "source": [
    "## Look at the energy"
   ]
  },
  {
   "cell_type": "code",
   "execution_count": 30,
   "metadata": {
    "ExecuteTime": {
     "end_time": "2023-05-29T14:30:50.742936Z",
     "start_time": "2023-05-29T14:30:50.734004Z"
    }
   },
   "outputs": [],
   "source": [
    "c57_contrasts_filt_energy = pd.read_csv('./results_pls/c57_energy_filt_contrasts.csv')\n",
    "c57_saliences_filt_energy = pd.read_csv('./results_pls/c57_energy_filt_saliences.csv')\n",
    "c57_contrasts_filt_energy = c57_contrasts_filt.rename(columns={\"group_Control\": \"Control\", \n",
    "                                                        \"group_Fam\": \"Fam\", \n",
    "                                                        \"group_Unfam\":\"Unfam\"})"
   ]
  },
  {
   "cell_type": "code",
   "execution_count": 31,
   "metadata": {
    "ExecuteTime": {
     "end_time": "2023-05-29T14:30:51.456325Z",
     "start_time": "2023-05-29T14:30:51.079397Z"
    }
   },
   "outputs": [
    {
     "data": {
      "image/png": "[encoded data removed]",
      "text/plain": [
       "<Figure size 720x360 with 3 Axes>"
      ]
     },
     "metadata": {
      "needs_background": "light"
     },
     "output_type": "display_data"
    }
   ],
   "source": [
    "fig, axes = plt.subplots(1,3, sharey='row', figsize=(10,5))\n",
    "upls.plot_contrasts(df_data=c57_contrasts_filt_energy, index=0, ax=axes[0])\n",
    "upls.plot_contrasts(df_data=c57_contrasts_filt_energy, index=1, ax=axes[1])\n",
    "upls.plot_contrasts(df_data=c57_contrasts_filt_energy, index=2, ax=axes[2])\n",
    "axes[1].set_ylabel('')\n",
    "axes[2].set_ylabel('')\n",
    "axes[0].tick_params(axis='x', labelrotation=90)\n",
    "axes[1].tick_params(axis='x', labelrotation=90)\n",
    "axes[2].tick_params(axis='x', labelrotation=90)\n",
    "axes[0].set_title('First contrast')\n",
    "axes[1].set_title('Second contrast')\n",
    "axes[2].set_title('Third contrast')\n",
    "for i in range(3):\n",
    "    axes[i].set(xlabel=None)\n",
    "plt.tight_layout()\n",
    "plt.savefig('./results_pls/c57_pls_contrasts_sig_areas.png')"
   ]
  },
  {
   "cell_type": "code",
   "execution_count": 32,
   "metadata": {
    "ExecuteTime": {
     "end_time": "2023-05-29T14:30:54.923326Z",
     "start_time": "2023-05-29T14:30:51.761092Z"
    }
   },
   "outputs": [
    {
     "data": {
      "image/png": "[encoded data removed]",
      "text/plain": [
       "<Figure size 936x504 with 3 Axes>"
      ]
     },
     "metadata": {
      "needs_background": "light"
     },
     "output_type": "display_data"
    }
   ],
   "source": [
    "fig, axes = plt.subplots(3,1, sharex='row', figsize=(13,7))\n",
    "plt.subplots_adjust(top=0.9, left=0.03, right=0.8)\n",
    "upls.plot_saliences(df_data=c57_saliences_filt_energy, index=0, ax=axes[0], df_levels=df_levels)\n",
    "upls.plot_saliences(df_data=c57_saliences_filt_energy, index=1, ax=axes[1], df_levels=df_levels)\n",
    "upls.plot_saliences(df_data=c57_saliences_filt_energy, index=2, ax=axes[2], df_levels=df_levels)\n",
    "axes[0].tick_params(axis='x', labelrotation=90)\n",
    "axes[1].tick_params(axis='x', labelrotation=90)\n",
    "axes[2].tick_params(axis='x', labelrotation=90)\n",
    "axes[0].set_xlabel('')\n",
    "axes[0].set(xticklabels=[])\n",
    "axes[0].set_ylim(-20,5)\n",
    "axes[1].set_xlabel('')\n",
    "axes[1].set(xticklabels=[])\n",
    "axes[0].set_title('First salience')\n",
    "axes[1].set_title('Second salience')\n",
    "axes[2].set_title('Third salience')\n",
    "axes[2].set_xlabel('Area')\n",
    "axes[0].legend(loc='right', bbox_to_anchor=(1.25,0.3))\n",
    "axes[1].get_legend().remove()\n",
    "axes[2].get_legend().remove()\n",
    "n = 4  # Keeps every 7th label\n",
    "for i in range(3):\n",
    "    axes[i].axhline(y=1.96, linestyle='-.', color='darkgrey')\n",
    "    axes[i].axhline(y=-1.96, linestyle='-.', color='darkgrey')\n",
    "plt.savefig('./results_pls/c57_pls_saliences_sig_areas_energy.png')\n",
    "plt.savefig('./results_pls/c57_pls_saliences_sig_areas_energy.svg')"
   ]
  },
  {
   "cell_type": "code",
   "execution_count": null,
   "metadata": {},
   "outputs": [],
   "source": []
  },
  {
   "cell_type": "markdown",
   "metadata": {},
   "source": [
    "# Identify areas with significant salience contribution"
   ]
  },
  {
   "cell_type": "code",
   "execution_count": 27,
   "metadata": {
    "ExecuteTime": {
     "end_time": "2023-05-26T14:47:27.128508Z",
     "start_time": "2023-05-26T14:47:27.126699Z"
    }
   },
   "outputs": [],
   "source": [
    "# pls_sig_areas_filt = upls.identify_pls_sig_areas(saliences=c57_saliences_filt, \n",
    "#                                        threshold=1.96, \n",
    "#                                        volumes=volumes)\n",
    "# pls_sig_areas_filt"
   ]
  },
  {
   "cell_type": "code",
   "execution_count": 28,
   "metadata": {
    "ExecuteTime": {
     "end_time": "2023-05-26T14:47:56.930826Z",
     "start_time": "2023-05-26T14:47:56.919041Z"
    }
   },
   "outputs": [
    {
     "data": {
      "text/plain": [
       "array(['Accessory olfactory bulb', 'Agranular insular area',\n",
       "       'Anterior olfactory nucleus', 'Anterolateral visual area',\n",
       "       'Anteromedial visual area',\n",
       "       'Anteroventral periventricular nucleus',\n",
       "       'Arcuate hypothalamic nucleus', 'Basolateral amygdalar nucleus',\n",
       "       'Basomedial amygdalar nucleus',\n",
       "       'Bed nuclei of the stria terminalis',\n",
       "       'Bed nucleus of the accessory olfactory tract',\n",
       "       'Central linear nucleus raphe',\n",
       "       'Central medial nucleus of the thalamus', 'Claustrum',\n",
       "       'Cortical amygdalar area', 'Dorsal peduncular area',\n",
       "       'Dorsal premammillary nucleus',\n",
       "       'Dorsomedial nucleus of the hypothalamus', 'Endopiriform nucleus',\n",
       "       'Entorhinal area', 'Frontal pole cerebral cortex',\n",
       "       'Fundus of striatum', 'Globus pallidus internal segment',\n",
       "       'Infralimbic area', 'Interanteromedial nucleus of the thalamus',\n",
       "       'Intercalated amygdalar nucleus',\n",
       "       'Intermediodorsal nucleus of the thalamus',\n",
       "       'Lateral amygdalar nucleus', 'Lateral hypothalamic area',\n",
       "       'Lateral mammillary nucleus', 'Lateral visual area',\n",
       "       'Main olfactory bulb', 'Medial amygdalar nucleus',\n",
       "       'Medial mammillary nucleus', 'Medial preoptic nucleus',\n",
       "       'Mediodorsal nucleus of thalamus', 'Midbrain reticular nucleus',\n",
       "       'Nucleus accumbens', 'Nucleus of reuniens',\n",
       "       'Nucleus of the brachium of the inferior colliculus',\n",
       "       'Nucleus of the lateral olfactory tract', 'Olfactory tubercle',\n",
       "       'Orbital area', 'Parafascicular nucleus', 'Parastrial nucleus',\n",
       "       'Parasubiculum', 'Parataenial nucleus',\n",
       "       'Paraventricular hypothalamic nucleus',\n",
       "       'Paraventricular nucleus of the thalamus',\n",
       "       'Periventricular hypothalamic nucleus posterior part',\n",
       "       'Piriform area', 'Piriform-amygdalar area',\n",
       "       'Posterior amygdalar nucleus', 'Posterior hypothalamic nucleus',\n",
       "       'Posterior limiting nucleus of the thalamus',\n",
       "       'Posterolateral visual area', 'Postsubiculum', 'Prelimbic area',\n",
       "       'Preparasubthalamic nucleus', 'Pretectal region',\n",
       "       'Primary auditory area', 'Primary motor area',\n",
       "       'Primary somatosensory area', 'Primary visual area',\n",
       "       'Reticular nucleus of the thalamus', 'Retrochiasmatic area',\n",
       "       'Retrosplenial area', 'Rhomboid nucleus',\n",
       "       'Rostrolateral visual area', 'Secondary motor area',\n",
       "       'Subparafascicular nucleus', 'Subparaventricular zone',\n",
       "       'Substantia innominata', 'Superior colliculus sensory related',\n",
       "       'Suprachiasmatic nucleus', 'Supramammillary nucleus',\n",
       "       'Taenia tecta', 'Tuberal nucleus', 'Tuberomammillary nucleus',\n",
       "       'Ventral auditory area',\n",
       "       'Ventral posterior complex of the thalamus',\n",
       "       'Ventral premammillary nucleus', 'Ventral tegmental area'],\n",
       "      dtype='<U51')"
      ]
     },
     "execution_count": 28,
     "metadata": {},
     "output_type": "execute_result"
    }
   ],
   "source": [
    "pls_sig_areas"
   ]
  },
  {
   "cell_type": "code",
   "execution_count": null,
   "metadata": {},
   "outputs": [],
   "source": []
  }
 ],
 "metadata": {
  "kernelspec": {
   "display_name": "ClearMap",
   "language": "python",
   "name": "clearmap"
  },
  "language_info": {
   "codemirror_mode": {
    "name": "ipython",
    "version": 3
   },
   "file_extension": ".py",
   "mimetype": "text/x-python",
   "name": "python",
   "nbconvert_exporter": "python",
   "pygments_lexer": "ipython3",
   "version": "3.8.1"
  },
  "latex_envs": {
   "LaTeX_envs_menu_present": true,
   "autoclose": false,
   "autocomplete": true,
   "bibliofile": "biblio.bib",
   "cite_by": "apalike",
   "current_citInitial": 1,
   "eqLabelWithNumbers": true,
   "eqNumInitial": 1,
   "hotkeys": {
    "equation": "Ctrl-E",
    "itemize": "Ctrl-I"
   },
   "labels_anchors": false,
   "latex_user_defs": false,
   "report_style_numbering": false,
   "user_envs_cfg": false
  },
  "toc": {
   "nav_menu": {},
   "number_sections": true,
   "sideBar": true,
   "skip_h1_title": false,
   "title_cell": "Table of Contents",
   "title_sidebar": "Contents",
   "toc_cell": false,
   "toc_position": {},
   "toc_section_display": true,
   "toc_window_display": false
  },
  "varInspector": {
   "cols": {
    "lenName": 16,
    "lenType": 16,
    "lenVar": 40
   },
   "kernels_config": {
    "python": {
     "delete_cmd_postfix": "",
     "delete_cmd_prefix": "del ",
     "library": "var_list.py",
     "varRefreshCmd": "print(var_dic_list())"
    },
    "r": {
     "delete_cmd_postfix": ") ",
     "delete_cmd_prefix": "rm(",
     "library": "var_list.r",
     "varRefreshCmd": "cat(var_dic_list()) "
    }
   },
   "types_to_exclude": [
    "module",
    "function",
    "builtin_function_or_method",
    "instance",
    "_Feature"
   ],
   "window_display": false
  }
 },
 "nbformat": 4,
 "nbformat_minor": 4
}
