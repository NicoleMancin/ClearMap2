{
 "cells": [
  {
   "cell_type": "code",
   "execution_count": 1,
   "metadata": {
    "ExecuteTime": {
     "end_time": "2023-05-08T14:17:18.499001Z",
     "start_time": "2023-05-08T14:17:17.785050Z"
    }
   },
   "outputs": [],
   "source": [
    "import numpy as np\n",
    "import matplotlib.pyplot as plt\n",
    "import pandas as pd\n",
    "import analyze_cells_energy as ace\n",
    "import re\n",
    "import utils\n",
    "import itertools\n",
    "import seaborn as sns\n",
    "import utils_PLS as upls"
   ]
  },
  {
   "cell_type": "code",
   "execution_count": 2,
   "metadata": {
    "ExecuteTime": {
     "end_time": "2023-05-08T14:17:18.531388Z",
     "start_time": "2023-05-08T14:17:18.500795Z"
    }
   },
   "outputs": [],
   "source": [
    "# load query file where we added volumes for each area\n",
    "volumes = pd.read_csv(\"query_volumes_reordered.csv\")\n",
    "volumes = ace.clean_volumes_database(volumes)"
   ]
  },
  {
   "cell_type": "code",
   "execution_count": 3,
   "metadata": {
    "ExecuteTime": {
     "end_time": "2023-05-08T14:17:18.545861Z",
     "start_time": "2023-05-08T14:17:18.533832Z"
    }
   },
   "outputs": [],
   "source": [
    "root_directory = '/home/stella/Documents/Torino/projects/'\n",
    "experiment = 'SexualImprinting'\n",
    "experimental_group = 'C57_MaleUrine_Exposure_cFos'\n",
    "batch='c57'\n",
    "data_directory = root_directory + experiment + '/' \\\n",
    "                + experimental_group + '/'\n",
    "dict_results_across_mice = np.load('dict_results/dict_results_across_mice_c57.npy', allow_pickle=True).item()"
   ]
  },
  {
   "cell_type": "code",
   "execution_count": 4,
   "metadata": {
    "ExecuteTime": {
     "end_time": "2023-05-08T14:17:20.478523Z",
     "start_time": "2023-05-08T14:17:18.547576Z"
    }
   },
   "outputs": [],
   "source": [
    "dict_results_across_mice = upls.reformat_dict_acronym(dict_results=dict_results_across_mice, volumes=volumes)"
   ]
  },
  {
   "cell_type": "markdown",
   "metadata": {
    "ExecuteTime": {
     "end_time": "2023-04-27T09:40:35.015950Z",
     "start_time": "2023-04-27T09:40:35.009945Z"
    }
   },
   "source": [
    "# Format data for task PLS"
   ]
  },
  {
   "cell_type": "code",
   "execution_count": 5,
   "metadata": {
    "ExecuteTime": {
     "end_time": "2023-05-08T14:17:20.576463Z",
     "start_time": "2023-05-08T14:17:20.479590Z"
    }
   },
   "outputs": [],
   "source": [
    "upls.format_data_pls(dict_results=dict_results_across_mice, batch=batch, table='n_cells')\n",
    "upls.format_data_pls(dict_results=dict_results_across_mice, batch=batch, table='energy')"
   ]
  },
  {
   "cell_type": "code",
   "execution_count": 6,
   "metadata": {
    "ExecuteTime": {
     "end_time": "2023-05-08T14:17:20.606015Z",
     "start_time": "2023-05-08T14:17:20.577486Z"
    }
   },
   "outputs": [],
   "source": [
    "data_ncells = pd.read_csv('./results_pls/'+batch+'_n_cells.csv')\n",
    "data_energy = pd.read_csv('./results_pls/'+batch+'_energy.csv')"
   ]
  },
  {
   "cell_type": "markdown",
   "metadata": {
    "ExecuteTime": {
     "end_time": "2023-04-27T10:25:06.309157Z",
     "start_time": "2023-04-27T10:25:06.272373Z"
    }
   },
   "source": [
    "# Apply task PLS for all areas and energy"
   ]
  },
  {
   "cell_type": "code",
   "execution_count": 7,
   "metadata": {
    "ExecuteTime": {
     "end_time": "2023-05-08T14:17:22.823941Z",
     "start_time": "2023-05-08T14:17:20.607724Z"
    }
   },
   "outputs": [
    {
     "name": "stderr",
     "output_type": "stream",
     "text": [
      "2023-05-08 16:17:22 PC1QFRRQ __main__[23177] INFO reading data...\n",
      "2023-05-08 16:17:22 PC1QFRRQ __main__[23177] INFO computing PLS...\n",
      "2023-05-08 16:17:22 PC1QFRRQ __main__[23177] INFO PLS computed, now performing bootstrap...\n",
      "2023-05-08 16:17:22 PC1QFRRQ __main__[23177] INFO saving output data...\n"
     ]
    }
   ],
   "source": [
    "%%bash\n",
    "python area_pls.py -i results_pls/c57_n_cells.csv -o './results_pls/c57'"
   ]
  },
  {
   "cell_type": "code",
   "execution_count": 33,
   "metadata": {
    "ExecuteTime": {
     "end_time": "2023-05-09T09:04:17.566915Z",
     "start_time": "2023-05-09T09:04:17.560324Z"
    },
    "code_folding": []
   },
   "outputs": [],
   "source": [
    "# %%bash\n",
    "# python area_pls.py -i results_pls/c57_energy.csv -o './results_pls/c57_energy'"
   ]
  },
  {
   "cell_type": "markdown",
   "metadata": {},
   "source": [
    "# Plot results"
   ]
  },
  {
   "cell_type": "code",
   "execution_count": 9,
   "metadata": {
    "ExecuteTime": {
     "end_time": "2023-05-08T14:17:22.852941Z",
     "start_time": "2023-05-08T14:17:22.832380Z"
    }
   },
   "outputs": [],
   "source": [
    "c57_contrasts = pd.read_csv('./results_pls/c57_contrasts.csv')\n",
    "c57_saliences = pd.read_csv('./results_pls/c57_saliences.csv')\n",
    "c57_contrasts = c57_contrasts.rename(columns={\"group_Control\": \"Control\", \"group_Fam\": \"Fam\", \"group_Unfam\":\"Unfam\"})"
   ]
  },
  {
   "cell_type": "code",
   "execution_count": 38,
   "metadata": {
    "ExecuteTime": {
     "end_time": "2023-05-09T09:05:53.415497Z",
     "start_time": "2023-05-09T09:05:53.006453Z"
    }
   },
   "outputs": [
    {
     "data": {
      "image/png": "[encoded data removed]",
      "text/plain": [
       "<Figure size 720x360 with 3 Axes>"
      ]
     },
     "metadata": {
      "needs_background": "light"
     },
     "output_type": "display_data"
    }
   ],
   "source": [
    "fig, axes = plt.subplots(1,3, sharey='row', figsize=(10,5))\n",
    "upls.single_plot(df_data=c57_contrasts, index=0, ax=axes[0])\n",
    "upls.single_plot(df_data=c57_contrasts, index=1, ax=axes[1])\n",
    "upls.single_plot(df_data=c57_contrasts, index=2, ax=axes[2])\n",
    "axes[0].set_ylabel('Contrast')\n",
    "axes[1].set_ylabel('')\n",
    "axes[2].set_ylabel('')\n",
    "axes[0].tick_params(axis='x', labelrotation=90)\n",
    "axes[1].tick_params(axis='x', labelrotation=90)\n",
    "axes[2].tick_params(axis='x', labelrotation=90)\n",
    "axes[0].set_title('First contrast')\n",
    "axes[1].set_title('Second contrast')\n",
    "axes[2].set_title('Third contrast')\n",
    "for i in range(3):\n",
    "    axes[i].set(xlabel=None)\n",
    "fig.suptitle('Mice C57 - contrasts across all areas')\n",
    "plt.tight_layout()\n",
    "plt.savefig('./results_pls/c57_pls_contrasts_all_areas.png')\n",
    "plt.savefig('./results_pls/c57_pls_contrasts_all_areas.svg')"
   ]
  },
  {
   "cell_type": "markdown",
   "metadata": {
    "ExecuteTime": {
     "end_time": "2023-05-08T15:15:35.622570Z",
     "start_time": "2023-05-08T15:15:35.617311Z"
    }
   },
   "source": [
    "# TODO: color code areas at level 5"
   ]
  },
  {
   "cell_type": "code",
   "execution_count": 51,
   "metadata": {
    "ExecuteTime": {
     "end_time": "2023-05-09T09:10:58.364468Z",
     "start_time": "2023-05-09T09:10:52.559323Z"
    },
    "scrolled": false
   },
   "outputs": [
    {
     "data": {
      "image/png": "[encoded data removed]",
      "text/plain": [
       "<Figure size 936x576 with 3 Axes>"
      ]
     },
     "metadata": {
      "needs_background": "light"
     },
     "output_type": "display_data"
    }
   ],
   "source": [
    "fig, axes = plt.subplots(3,1, sharex='row', figsize=(13,8))\n",
    "plt.subplots_adjust(top=0.9, left=0.03, right=0.98)\n",
    "upls.single_plot(df_data=c57_saliences, index=0, ax=axes[0])\n",
    "upls.single_plot(df_data=c57_saliences, index=1, ax=axes[1])\n",
    "upls.single_plot(df_data=c57_saliences, index=2, ax=axes[2])\n",
    "axes[0].tick_params(axis='x', labelrotation=90)\n",
    "axes[1].tick_params(axis='x', labelrotation=90)\n",
    "axes[2].tick_params(axis='x', labelrotation=90)\n",
    "axes[0].set_xlabel('')\n",
    "axes[0].set(xticklabels=[])\n",
    "axes[1].set_xlabel('')\n",
    "axes[1].set(xticklabels=[])\n",
    "axes[0].set_title('First salience')\n",
    "axes[1].set_title('Second salience')\n",
    "axes[2].set_title('Third salience')\n",
    "axes[2].set_xlabel('Area')\n",
    "n = 4  # Keeps every 7th label\n",
    "for i in range(3):\n",
    "    axes[i].axhline(y=1.96, linestyle='-.', color='darkgrey')\n",
    "    axes[i].axhline(y=-1.96, linestyle='-.', color='darkgrey')\n",
    "    [l.set_visible(False) for (i,l) in enumerate(axes[i].xaxis.get_ticklabels()) if i % n != 0]\n",
    "# plt.tight_layout()\n",
    "fig.suptitle('Mice C57 - saliences across all areas', fontsize=14)\n",
    "plt.savefig('./results_pls/c57_pls_saliences_all_areas.png')\n",
    "plt.savefig('./results_pls/c57_pls_saliences_all_areas.svg')"
   ]
  },
  {
   "cell_type": "code",
   "execution_count": 12,
   "metadata": {
    "ExecuteTime": {
     "end_time": "2023-05-08T14:17:29.991319Z",
     "start_time": "2023-05-08T14:17:29.986538Z"
    }
   },
   "outputs": [
    {
     "data": {
      "text/plain": [
       "(29.660732196949333,\n",
       " 0    MOB\n",
       " 1     RT\n",
       " 2    PAR\n",
       " dtype: object)"
      ]
     },
     "execution_count": 12,
     "metadata": {},
     "output_type": "execute_result"
    }
   ],
   "source": [
    "c57_saliences.loc[0].max(), c57_saliences.idxmax(axis=1)"
   ]
  },
  {
   "cell_type": "code",
   "execution_count": 13,
   "metadata": {
    "ExecuteTime": {
     "end_time": "2023-05-08T14:17:29.996077Z",
     "start_time": "2023-05-08T14:17:29.992857Z"
    }
   },
   "outputs": [
    {
     "data": {
      "text/plain": [
       "29.660732196949333"
      ]
     },
     "execution_count": 13,
     "metadata": {},
     "output_type": "execute_result"
    }
   ],
   "source": [
    "c57_saliences['MOB'].loc[0]"
   ]
  },
  {
   "cell_type": "code",
   "execution_count": 14,
   "metadata": {
    "ExecuteTime": {
     "end_time": "2023-05-08T14:17:30.001926Z",
     "start_time": "2023-05-08T14:17:29.997473Z"
    }
   },
   "outputs": [
    {
     "data": {
      "text/plain": [
       "'Main olfactory bulb'"
      ]
     },
     "execution_count": 14,
     "metadata": {},
     "output_type": "execute_result"
    }
   ],
   "source": [
    "volumes.loc[volumes['acronym'] == 'MOB']['safe_name'].values[0]"
   ]
  },
  {
   "cell_type": "markdown",
   "metadata": {
    "ExecuteTime": {
     "end_time": "2023-04-28T07:45:14.437413Z",
     "start_time": "2023-04-28T07:45:14.413768Z"
    }
   },
   "source": [
    "# Identify areas with significant salience contribution"
   ]
  },
  {
   "cell_type": "code",
   "execution_count": 15,
   "metadata": {
    "ExecuteTime": {
     "end_time": "2023-05-08T14:17:30.068401Z",
     "start_time": "2023-05-08T14:17:30.003535Z"
    }
   },
   "outputs": [],
   "source": [
    "pls_sig_areas = upls.identify_pls_sig_areas(saliences=c57_saliences, \n",
    "                                       threshold=1.96, \n",
    "                                       volumes=volumes)"
   ]
  },
  {
   "cell_type": "code",
   "execution_count": 49,
   "metadata": {
    "ExecuteTime": {
     "end_time": "2023-05-09T09:10:32.018930Z",
     "start_time": "2023-05-09T09:10:32.016179Z"
    }
   },
   "outputs": [],
   "source": [
    "\n",
    "# saliences = c57_saliences\n",
    "# threshold=1.96\n",
    "# # print areas over the saliences threshold\n",
    "# threshold1 = threshold\n",
    "# out1 = saliences.gt(threshold1).apply(lambda x: x.index[x].tolist(), axis=1).to_list()\n",
    "# threshold2 = -threshold\n",
    "# out2 = saliences.lt(threshold2).apply(lambda x: x.index[x].tolist(), axis=1).to_list()\n",
    "\n",
    "# out1[1]"
   ]
  },
  {
   "cell_type": "code",
   "execution_count": 48,
   "metadata": {
    "ExecuteTime": {
     "end_time": "2023-05-09T09:10:12.972678Z",
     "start_time": "2023-05-09T09:10:12.970703Z"
    }
   },
   "outputs": [],
   "source": [
    "# for area in out1[0]:\n",
    "#     print(volumes.loc[volumes['acronym'] == area]['safe_name'].values[0])"
   ]
  },
  {
   "cell_type": "markdown",
   "metadata": {},
   "source": [
    "# Apply PLS for all significant areas in ncells and energy"
   ]
  },
  {
   "cell_type": "code",
   "execution_count": 19,
   "metadata": {
    "ExecuteTime": {
     "end_time": "2023-05-08T14:17:48.404286Z",
     "start_time": "2023-05-08T14:17:46.829925Z"
    }
   },
   "outputs": [],
   "source": [
    "# select significant areas\n",
    "experimental_groups = utils.divide_in_exp_groups(list_subjects=list(dict_results_across_mice.keys()))\n",
    "df_control_cell_count, df_fam_cell_count, df_unfam_cell_count = \\\n",
    "ace.calculate_value_across_groups(experimental_groups=experimental_groups, \n",
    "                              dict_results_across_mice=dict_results_across_mice, \n",
    "                              value='n_cells')\n",
    "df_ttest_ncells = ace.test_across_groups(df_control=df_control_cell_count, \n",
    "                               df_fam=df_fam_cell_count, \n",
    "                               df_unfam=df_unfam_cell_count)\n",
    "df_ttest_not_null_ncells = df_ttest_ncells.dropna(axis=0,\n",
    "                                   how='all',\n",
    "                                   subset=['pval_Control_vs_Fam',\n",
    "                                          'pval_Control_vs_Unfam',\n",
    "                                          'pval_Fam_vs_Unfam'])\n",
    "sig_areas_ncells_ttest = upls.select_significant_areas(df=df_ttest_not_null_ncells, threshold=0.05)\n",
    "# get corresponding acronyms of these areas\n",
    "sig_acronyms = [volumes.loc[volumes['safe_name'] == area]['acronym'].values[0] for area in sig_areas_ncells_ttest]\n",
    "# remove columns from database\n",
    "keep_columns = ['subject', 'sex', 'group'] + sig_acronyms\n",
    "# make database filtered\n",
    "data_ncells_filt = data_ncells.drop(columns=[col for col in data_ncells if col not in keep_columns])\n",
    "data_energy_filt = data_energy.drop(columns=[col for col in data_energy if col not in keep_columns])\n",
    "data_ncells_filt.to_csv('./results_pls/'+batch+'_n_cells_filt.csv')\n",
    "data_energy_filt.to_csv('./results_pls/'+batch+'_energy_filt.csv')"
   ]
  },
  {
   "cell_type": "code",
   "execution_count": 20,
   "metadata": {
    "ExecuteTime": {
     "end_time": "2023-05-08T14:17:55.942796Z",
     "start_time": "2023-05-08T14:17:54.207366Z"
    }
   },
   "outputs": [
    {
     "name": "stderr",
     "output_type": "stream",
     "text": [
      "2023-05-08 16:17:55 PC1QFRRQ __main__[23209] INFO reading data...\n",
      "2023-05-08 16:17:55 PC1QFRRQ __main__[23209] INFO computing PLS...\n",
      "2023-05-08 16:17:55 PC1QFRRQ __main__[23209] INFO PLS computed, now performing bootstrap...\n",
      "2023-05-08 16:17:55 PC1QFRRQ __main__[23209] INFO saving output data...\n"
     ]
    }
   ],
   "source": [
    "%%bash\n",
    "python area_pls.py -i results_pls/c57_n_cells_filt.csv -o './results_pls/c57_filt'"
   ]
  },
  {
   "cell_type": "code",
   "execution_count": 21,
   "metadata": {
    "ExecuteTime": {
     "end_time": "2023-05-08T14:17:58.172461Z",
     "start_time": "2023-05-08T14:17:56.475698Z"
    }
   },
   "outputs": [
    {
     "name": "stderr",
     "output_type": "stream",
     "text": [
      "2023-05-08 16:17:57 PC1QFRRQ __main__[23214] INFO reading data...\n",
      "2023-05-08 16:17:57 PC1QFRRQ __main__[23214] INFO computing PLS...\n",
      "2023-05-08 16:17:57 PC1QFRRQ __main__[23214] INFO PLS computed, now performing bootstrap...\n",
      "2023-05-08 16:17:58 PC1QFRRQ __main__[23214] INFO saving output data...\n"
     ]
    }
   ],
   "source": [
    "%%bash\n",
    "python area_pls.py -i results_pls/c57_energy_filt.csv -o './results_pls/c57__energy_filt'"
   ]
  },
  {
   "cell_type": "code",
   "execution_count": 22,
   "metadata": {
    "ExecuteTime": {
     "end_time": "2023-05-08T14:18:00.881849Z",
     "start_time": "2023-05-08T14:18:00.872683Z"
    }
   },
   "outputs": [],
   "source": [
    "c57_contrasts_filt = pd.read_csv('./results_pls/c57_filt_contrasts.csv')\n",
    "c57_saliences_filt = pd.read_csv('./results_pls/c57_filt_saliences.csv')\n",
    "c57_contrasts_filt = c57_contrasts_filt.rename(columns={\"group_Control\": \"Control\", \"group_Fam\": \"Fam\", \"group_Unfam\":\"Unfam\"})"
   ]
  },
  {
   "cell_type": "code",
   "execution_count": 32,
   "metadata": {
    "ExecuteTime": {
     "end_time": "2023-05-09T09:04:00.108772Z",
     "start_time": "2023-05-09T09:03:59.719693Z"
    }
   },
   "outputs": [
    {
     "data": {
      "image/png": "[encoded data removed]",
      "text/plain": [
       "<Figure size 720x360 with 3 Axes>"
      ]
     },
     "metadata": {
      "needs_background": "light"
     },
     "output_type": "display_data"
    }
   ],
   "source": [
    "fig, axes = plt.subplots(1,3, sharey='row', figsize=(10,5))\n",
    "upls.single_plot(df_data=c57_contrasts_filt, index=0, ax=axes[0])\n",
    "upls.single_plot(df_data=c57_contrasts_filt, index=1, ax=axes[1])\n",
    "upls.single_plot(df_data=c57_contrasts_filt, index=2, ax=axes[2])\n",
    "axes[1].set_ylabel('')\n",
    "axes[2].set_ylabel('')\n",
    "axes[0].tick_params(axis='x', labelrotation=90)\n",
    "axes[1].tick_params(axis='x', labelrotation=90)\n",
    "axes[2].tick_params(axis='x', labelrotation=90)\n",
    "axes[0].set_title('First contrast')\n",
    "axes[1].set_title('Second contrast')\n",
    "axes[2].set_title('Third contrast')\n",
    "for i in range(3):\n",
    "    axes[i].set(xlabel=None)\n",
    "fig.suptitle('C57 significant areas')\n",
    "plt.tight_layout()\n",
    "plt.savefig('./results_pls/c57_pls_contrasts_sig_areas.png')"
   ]
  },
  {
   "cell_type": "code",
   "execution_count": 24,
   "metadata": {
    "ExecuteTime": {
     "end_time": "2023-05-08T14:18:03.510753Z",
     "start_time": "2023-05-08T14:18:02.583883Z"
    }
   },
   "outputs": [
    {
     "data": {
      "image/png": "[encoded data removed]",
      "text/plain": [
       "<Figure size 936x576 with 3 Axes>"
      ]
     },
     "metadata": {
      "needs_background": "light"
     },
     "output_type": "display_data"
    }
   ],
   "source": [
    "fig, axes = plt.subplots(3,1, sharex='row', figsize=(13,8))\n",
    "plt.subplots_adjust(top=0.9, left=0.03, right=0.98)\n",
    "upls.single_plot(df_data=c57_saliences_filt, index=0, ax=axes[0])\n",
    "upls.single_plot(df_data=c57_saliences_filt, index=1, ax=axes[1])\n",
    "upls.single_plot(df_data=c57_saliences_filt, index=2, ax=axes[2])\n",
    "axes[0].set_xlabel('')\n",
    "axes[0].set(xticklabels=[])\n",
    "axes[1].set_xlabel('')\n",
    "axes[1].set(xticklabels=[])\n",
    "axes[0].set_title('First salience')\n",
    "axes[1].set_title('Second salience')\n",
    "axes[2].set_title('Third salience')\n",
    "axes[2].set_xlabel('Area')\n",
    "fig.suptitle('C57 - saliences for significant areas', fontsize=16)\n",
    "for i in range(3):\n",
    "    axes[i].set_ylabel('salience')\n",
    "    axes[i].tick_params(axis='x', labelrotation=90)\n",
    "    axes[i].axhline(y=1.96, linestyle='-.', color='darkgrey')\n",
    "    axes[i].axhline(y=-1.96, linestyle='-.', color='darkgrey')\n",
    "plt.tight_layout()\n",
    "plt.savefig('./results_pls/c57_pls_saliences_sig_areas.png')"
   ]
  },
  {
   "cell_type": "markdown",
   "metadata": {},
   "source": [
    "# Identify areas with significant salience contribution"
   ]
  },
  {
   "cell_type": "code",
   "execution_count": null,
   "metadata": {
    "ExecuteTime": {
     "end_time": "2023-05-08T14:17:30.232682Z",
     "start_time": "2023-05-08T14:17:17.955Z"
    }
   },
   "outputs": [],
   "source": [
    "pls_sig_areas_filt = upls.identify_pls_sig_areas(saliences=c57_saliences_filt, \n",
    "                                       threshold=1.96, \n",
    "                                       volumes=volumes)\n",
    "pls_sig_areas_filt"
   ]
  },
  {
   "cell_type": "code",
   "execution_count": null,
   "metadata": {},
   "outputs": [],
   "source": []
  }
 ],
 "metadata": {
  "kernelspec": {
   "display_name": "ClearMap",
   "language": "python",
   "name": "clearmap"
  },
  "language_info": {
   "codemirror_mode": {
    "name": "ipython",
    "version": 3
   },
   "file_extension": ".py",
   "mimetype": "text/x-python",
   "name": "python",
   "nbconvert_exporter": "python",
   "pygments_lexer": "ipython3",
   "version": "3.8.1"
  },
  "latex_envs": {
   "LaTeX_envs_menu_present": true,
   "autoclose": false,
   "autocomplete": true,
   "bibliofile": "biblio.bib",
   "cite_by": "apalike",
   "current_citInitial": 1,
   "eqLabelWithNumbers": true,
   "eqNumInitial": 1,
   "hotkeys": {
    "equation": "Ctrl-E",
    "itemize": "Ctrl-I"
   },
   "labels_anchors": false,
   "latex_user_defs": false,
   "report_style_numbering": false,
   "user_envs_cfg": false
  },
  "toc": {
   "nav_menu": {},
   "number_sections": true,
   "sideBar": true,
   "skip_h1_title": false,
   "title_cell": "Table of Contents",
   "title_sidebar": "Contents",
   "toc_cell": false,
   "toc_position": {},
   "toc_section_display": true,
   "toc_window_display": false
  },
  "varInspector": {
   "cols": {
    "lenName": 16,
    "lenType": 16,
    "lenVar": 40
   },
   "kernels_config": {
    "python": {
     "delete_cmd_postfix": "",
     "delete_cmd_prefix": "del ",
     "library": "var_list.py",
     "varRefreshCmd": "print(var_dic_list())"
    },
    "r": {
     "delete_cmd_postfix": ") ",
     "delete_cmd_prefix": "rm(",
     "library": "var_list.r",
     "varRefreshCmd": "cat(var_dic_list()) "
    }
   },
   "types_to_exclude": [
    "module",
    "function",
    "builtin_function_or_method",
    "instance",
    "_Feature"
   ],
   "window_display": false
  }
 },
 "nbformat": 4,
 "nbformat_minor": 4
}
