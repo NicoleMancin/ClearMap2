{
 "cells": [
  {
   "cell_type": "code",
   "execution_count": null,
   "metadata": {
    "ExecuteTime": {
     "end_time": "2023-05-18T14:28:25.610233Z",
     "start_time": "2023-05-18T14:28:24.823337Z"
    }
   },
   "outputs": [],
   "source": [
    "# !pip install odfpy\n",
    "# !pip install seaborn\n",
    "import os\n",
    "import pandas as pd\n",
    "import seaborn as sns\n",
    "import matplotlib.pyplot as plt\n",
    "import yaml\n",
    "from yaml import Loader\n",
    "import numpy as np\n",
    "import analyze_cells_energy as ace\n",
    "import utils\n",
    "from scipy.stats import ttest_ind, mannwhitneyu"
   ]
  },
  {
   "cell_type": "code",
   "execution_count": null,
   "metadata": {
    "ExecuteTime": {
     "end_time": "2023-05-18T14:28:25.620032Z",
     "start_time": "2023-05-18T14:28:25.611696Z"
    }
   },
   "outputs": [],
   "source": [
    "root_directory = '/home/stella/Documents/Torino/projects/'\n",
    "experiment = 'SexualImprinting'\n",
    "experimental_group = 'SWISS_MaleUrine_Exposure'\n",
    "subjects = ace.list_subjects(root_directory)\n",
    "data_directory = root_directory + experiment + '/' \\\n",
    "                + experimental_group + '/'"
   ]
  },
  {
   "cell_type": "code",
   "execution_count": null,
   "metadata": {
    "ExecuteTime": {
     "end_time": "2023-05-18T14:28:25.624503Z",
     "start_time": "2023-05-18T14:28:25.621740Z"
    }
   },
   "outputs": [],
   "source": [
    "# Take the SW > 19\n",
    "subjects = [sub for sub in subjects if sub[0:2]=='SW' and int(sub[2:].split('_')[0]) in set(range(19,36))]"
   ]
  },
  {
   "cell_type": "code",
   "execution_count": null,
   "metadata": {
    "ExecuteTime": {
     "end_time": "2023-05-18T14:28:25.656585Z",
     "start_time": "2023-05-18T14:28:25.626255Z"
    }
   },
   "outputs": [],
   "source": [
    "# load query file where we added volumes for each area\n",
    "volumes = pd.read_csv(\"query_volumes_reordered.csv\")\n",
    "volumes = ace.clean_volumes_database(volumes)"
   ]
  },
  {
   "cell_type": "code",
   "execution_count": null,
   "metadata": {
    "ExecuteTime": {
     "end_time": "2023-05-18T14:28:25.660458Z",
     "start_time": "2023-05-18T14:28:25.658123Z"
    }
   },
   "outputs": [],
   "source": [
    "def load_subject(subject):\n",
    "    df_mouse = pd.read_csv(data_directory + subject + '/cells150_7-7.csv')\n",
    "    df_mouse = ace.reformat_df_mouse(df=df_mouse)\n",
    "    return df_mouse"
   ]
  },
  {
   "cell_type": "markdown",
   "metadata": {
    "ExecuteTime": {
     "end_time": "2023-04-03T11:25:09.047637Z",
     "start_time": "2023-04-03T11:25:09.031624Z"
    }
   },
   "source": [
    "# Analysis on SWISS 19-35 with father : threshold 300"
   ]
  },
  {
   "cell_type": "code",
   "execution_count": null,
   "metadata": {
    "ExecuteTime": {
     "end_time": "2023-05-18T14:30:53.395810Z",
     "start_time": "2023-05-18T14:28:43.068656Z"
    }
   },
   "outputs": [],
   "source": [
    "# NB: Run only if file does not exist or needs to be regenerated\n",
    "dict_results_across_mice = {subject: ace.calculate_cells_energy_per_level(df_mouse=load_subject(subject), \n",
    "                                                                          vol=volumes, \n",
    "                                                                          level=8) for subject in subjects}\n",
    "np.save('dict_results/dict_results_across_mice_SW19-35-150_7-7.npy', dict_results_across_mice)"
   ]
  },
  {
   "cell_type": "code",
   "execution_count": null,
   "metadata": {
    "ExecuteTime": {
     "end_time": "2023-05-18T14:32:26.717856Z",
     "start_time": "2023-05-18T14:32:26.704383Z"
    }
   },
   "outputs": [],
   "source": [
    "dict_results_across_mice = np.load('dict_results/dict_results_across_mice_SW19-35-150_7-7.npy', allow_pickle=True).item()"
   ]
  },
  {
   "cell_type": "code",
   "execution_count": null,
   "metadata": {
    "ExecuteTime": {
     "end_time": "2023-05-18T14:32:39.565622Z",
     "start_time": "2023-05-18T14:32:39.563465Z"
    }
   },
   "outputs": [],
   "source": [
    "# removed key corresponding to SW21_Fam\n",
    "dict_results_across_mice.pop('SW21_Fam')\n",
    "subjects.remove('SW21_Fam')"
   ]
  },
  {
   "cell_type": "markdown",
   "metadata": {},
   "source": [
    "# List areas with null cell count"
   ]
  },
  {
   "cell_type": "code",
   "execution_count": null,
   "metadata": {
    "ExecuteTime": {
     "end_time": "2023-05-18T14:32:41.643068Z",
     "start_time": "2023-05-18T14:32:41.634372Z"
    }
   },
   "outputs": [],
   "source": [
    "db_null_count = {subject: dict_results_across_mice[subject][\n",
    "    dict_results_across_mice[subject].n_cells == 0] for subject in subjects}"
   ]
  },
  {
   "cell_type": "markdown",
   "metadata": {},
   "source": [
    "# List areas with no volume"
   ]
  },
  {
   "cell_type": "code",
   "execution_count": null,
   "metadata": {
    "ExecuteTime": {
     "end_time": "2023-05-18T14:32:42.083855Z",
     "start_time": "2023-05-18T14:32:42.073574Z"
    }
   },
   "outputs": [],
   "source": [
    "db_null_volume = {subject: dict_results_across_mice[subject][\n",
    "    dict_results_across_mice[subject]['energy'].isnull()] for subject in subjects}"
   ]
  },
  {
   "cell_type": "markdown",
   "metadata": {},
   "source": [
    "# Divide mice into experimental groups: FAM/UNFAM/CONTROL"
   ]
  },
  {
   "cell_type": "code",
   "execution_count": null,
   "metadata": {
    "ExecuteTime": {
     "end_time": "2023-05-18T14:32:42.614418Z",
     "start_time": "2023-05-18T14:32:42.609923Z"
    }
   },
   "outputs": [],
   "source": [
    "experimental_groups = utils.divide_in_exp_groups(list_subjects=subjects)\n",
    "experimental_groups"
   ]
  },
  {
   "cell_type": "markdown",
   "metadata": {},
   "source": [
    "# Calculate cell count across experimental groups"
   ]
  },
  {
   "cell_type": "code",
   "execution_count": null,
   "metadata": {
    "ExecuteTime": {
     "end_time": "2023-05-18T14:32:43.124098Z",
     "start_time": "2023-05-18T14:32:43.111368Z"
    }
   },
   "outputs": [],
   "source": [
    "df_control_cell_count, df_fam_cell_count, df_unfam_cell_count = \\\n",
    "ace.calculate_value_across_groups(experimental_groups=experimental_groups, \n",
    "                              dict_results_across_mice=dict_results_across_mice, \n",
    "                              value='n_cells')"
   ]
  },
  {
   "cell_type": "markdown",
   "metadata": {},
   "source": [
    "## Calculate t-tests across groups per area"
   ]
  },
  {
   "cell_type": "code",
   "execution_count": null,
   "metadata": {
    "ExecuteTime": {
     "end_time": "2023-05-18T14:32:45.342151Z",
     "start_time": "2023-05-18T14:32:43.712159Z"
    }
   },
   "outputs": [],
   "source": [
    "df_ttest_ncells = ace.test_across_groups(df_control=df_control_cell_count, \n",
    "                               df_fam=df_fam_cell_count, \n",
    "                               df_unfam=df_unfam_cell_count)\n",
    "df_ttest_ncells"
   ]
  },
  {
   "cell_type": "code",
   "execution_count": null,
   "metadata": {
    "ExecuteTime": {
     "end_time": "2023-05-18T14:32:45.893729Z",
     "start_time": "2023-05-18T14:32:45.889851Z"
    }
   },
   "outputs": [],
   "source": [
    "# remove rows corresponding to area that have zero cell count across all experimental groups\n",
    "df_ttest_not_null_ncells = df_ttest_ncells.dropna(axis=0,\n",
    "                                   how='all',\n",
    "                                   subset=['pval_Control_vs_Fam',\n",
    "                                          'pval_Control_vs_Unfam',\n",
    "                                          'pval_Fam_vs_Unfam'])"
   ]
  },
  {
   "cell_type": "code",
   "execution_count": null,
   "metadata": {
    "ExecuteTime": {
     "end_time": "2023-05-18T14:32:46.437225Z",
     "start_time": "2023-05-18T14:32:46.429911Z"
    }
   },
   "outputs": [],
   "source": [
    "# sort dataframe pvalues of control vs fam and pick the first 20\n",
    "df_ttest_not_null_ncells.sort_values(by='pval_Control_vs_Fam')[['area', 'pval_Control_vs_Fam']][0:20].set_index('area')"
   ]
  },
  {
   "cell_type": "code",
   "execution_count": null,
   "metadata": {
    "ExecuteTime": {
     "end_time": "2023-05-18T14:32:46.990195Z",
     "start_time": "2023-05-18T14:32:46.982568Z"
    }
   },
   "outputs": [],
   "source": [
    "# sort dataframe pvalues of control vs unfam and pick the first 20\n",
    "df_ttest_not_null_ncells.sort_values(by='pval_Control_vs_Unfam')[['area', 'pval_Control_vs_Unfam']][0:20].set_index('area')"
   ]
  },
  {
   "cell_type": "code",
   "execution_count": null,
   "metadata": {
    "ExecuteTime": {
     "end_time": "2023-05-18T14:32:47.556706Z",
     "start_time": "2023-05-18T14:32:47.547321Z"
    }
   },
   "outputs": [],
   "source": [
    "# sort dataframe pvalues of fam vs unfam and pick the first 20\n",
    "df_ttest_not_null_ncells.sort_values(by='pval_Fam_vs_Unfam')[['area', 'pval_Fam_vs_Unfam']][0:20].set_index('area')"
   ]
  },
  {
   "cell_type": "markdown",
   "metadata": {
    "ExecuteTime": {
     "end_time": "2023-04-07T12:56:43.722000Z",
     "start_time": "2023-04-07T12:56:43.719360Z"
    }
   },
   "source": [
    "## Mann Whitney Test for comparison across groups"
   ]
  },
  {
   "cell_type": "code",
   "execution_count": null,
   "metadata": {
    "ExecuteTime": {
     "end_time": "2023-05-18T14:32:49.662184Z",
     "start_time": "2023-05-18T14:32:48.097474Z"
    }
   },
   "outputs": [],
   "source": [
    "df_mannwhitneyu_ncells = ace.test_across_groups(df_control=df_control_cell_count, \n",
    "                               df_fam=df_fam_cell_count, \n",
    "                               df_unfam=df_unfam_cell_count,\n",
    "                                           test='mannwhitneyu')\n",
    "df_mannwhitneyu_ncells"
   ]
  },
  {
   "cell_type": "code",
   "execution_count": null,
   "metadata": {
    "ExecuteTime": {
     "end_time": "2023-05-18T14:32:50.224088Z",
     "start_time": "2023-05-18T14:32:50.220134Z"
    }
   },
   "outputs": [],
   "source": [
    "# remove rows corresponding to area that have zero cell count across all experimental groups\n",
    "df_mannwhitneyu_not_null_ncells = df_mannwhitneyu_ncells.dropna(axis=0,\n",
    "                                   how='all',\n",
    "                                   subset=['pval_Control_vs_Fam',\n",
    "                                          'pval_Control_vs_Unfam',\n",
    "                                          'pval_Fam_vs_Unfam'])"
   ]
  },
  {
   "cell_type": "code",
   "execution_count": null,
   "metadata": {
    "ExecuteTime": {
     "end_time": "2023-05-18T14:32:50.788943Z",
     "start_time": "2023-05-18T14:32:50.779018Z"
    }
   },
   "outputs": [],
   "source": [
    "# sort dataframe pvalues of control vs fam and pick the first 20\n",
    "df_mannwhitneyu_not_null_ncells.sort_values(by='pval_Control_vs_Fam')[['area', 'pval_Control_vs_Fam']][0:20].set_index('area')"
   ]
  },
  {
   "cell_type": "code",
   "execution_count": null,
   "metadata": {
    "ExecuteTime": {
     "end_time": "2023-05-18T14:32:51.337815Z",
     "start_time": "2023-05-18T14:32:51.331014Z"
    }
   },
   "outputs": [],
   "source": [
    "# sort dataframe pvalues of control vs unfam and pick the first 20\n",
    "df_mannwhitneyu_not_null_ncells.sort_values(by='pval_Control_vs_Unfam')[['area', 'pval_Control_vs_Unfam']][0:20].set_index('area')"
   ]
  },
  {
   "cell_type": "code",
   "execution_count": null,
   "metadata": {
    "ExecuteTime": {
     "end_time": "2023-05-18T14:32:51.905064Z",
     "start_time": "2023-05-18T14:32:51.897163Z"
    }
   },
   "outputs": [],
   "source": [
    "# sort dataframe pvalues of control vs fam and pick the first 20\n",
    "df_mannwhitneyu_not_null_ncells.sort_values(by='pval_Fam_vs_Unfam')[['area', 'pval_Fam_vs_Unfam']][0:35].set_index('area')"
   ]
  },
  {
   "cell_type": "markdown",
   "metadata": {},
   "source": [
    "## Calculate cross corr across groups per area on cell count"
   ]
  },
  {
   "cell_type": "code",
   "execution_count": null,
   "metadata": {
    "ExecuteTime": {
     "end_time": "2023-05-18T14:32:52.480739Z",
     "start_time": "2023-05-18T14:32:52.465556Z"
    }
   },
   "outputs": [],
   "source": [
    "corr_matrix_control_ncells = ace.cross_corr(df_control_cell_count)\n",
    "corr_matrix_fam_ncells = ace.cross_corr(df_fam_cell_count)\n",
    "corr_matrix_unfam_ncells = ace.cross_corr(df_unfam_cell_count)"
   ]
  },
  {
   "cell_type": "markdown",
   "metadata": {},
   "source": [
    "## Plot cross corr matrix across groups per area on cell count"
   ]
  },
  {
   "cell_type": "code",
   "execution_count": null,
   "metadata": {
    "ExecuteTime": {
     "end_time": "2023-05-18T14:32:54.161998Z",
     "start_time": "2023-05-18T14:32:53.186391Z"
    }
   },
   "outputs": [],
   "source": [
    "f, ax = plt.subplots(figsize=(10, 8))\n",
    "sns.heatmap(corr_matrix_control_ncells,\n",
    "    cmap=sns.diverging_palette(220, 10, as_cmap=True),\n",
    "    vmin=-1.0, vmax=1.0,\n",
    "    square=True, ax=ax)\n",
    "ax.set_title('CONTROL')"
   ]
  },
  {
   "cell_type": "code",
   "execution_count": null,
   "metadata": {
    "ExecuteTime": {
     "end_time": "2023-05-18T14:32:55.837956Z",
     "start_time": "2023-05-18T14:32:54.808066Z"
    }
   },
   "outputs": [],
   "source": [
    "f, ax = plt.subplots(figsize=(10, 8))\n",
    "sns.heatmap(corr_matrix_fam_ncells,\n",
    "    cmap=sns.diverging_palette(220, 10, as_cmap=True),\n",
    "    vmin=-1.0, vmax=1.0,\n",
    "    square=True, ax=ax)\n",
    "ax.set_title('FAM')"
   ]
  },
  {
   "cell_type": "code",
   "execution_count": null,
   "metadata": {
    "ExecuteTime": {
     "end_time": "2023-05-18T14:32:57.397004Z",
     "start_time": "2023-05-18T14:32:56.505677Z"
    }
   },
   "outputs": [],
   "source": [
    "f, ax = plt.subplots(figsize=(10, 8))\n",
    "sns.heatmap(corr_matrix_unfam_ncells,\n",
    "    cmap=sns.diverging_palette(220, 10, as_cmap=True),\n",
    "    vmin=-1.0, vmax=1.0,\n",
    "    square=True, ax=ax)\n",
    "ax.set_title('UNFAM')"
   ]
  },
  {
   "cell_type": "markdown",
   "metadata": {},
   "source": [
    "# Calculate energy across experimental groups"
   ]
  },
  {
   "cell_type": "code",
   "execution_count": null,
   "metadata": {
    "ExecuteTime": {
     "end_time": "2023-05-18T14:32:58.060538Z",
     "start_time": "2023-05-18T14:32:58.049672Z"
    }
   },
   "outputs": [],
   "source": [
    "df_control_energy, df_fam_energy, df_unfam_energy = \\\n",
    "ace.calculate_value_across_groups(experimental_groups, dict_results_across_mice, value='energy')"
   ]
  },
  {
   "cell_type": "markdown",
   "metadata": {},
   "source": [
    "## T-test on energy across groups"
   ]
  },
  {
   "cell_type": "code",
   "execution_count": null,
   "metadata": {
    "ExecuteTime": {
     "end_time": "2023-05-18T14:33:00.258124Z",
     "start_time": "2023-05-18T14:32:58.802496Z"
    }
   },
   "outputs": [],
   "source": [
    "df_ttest_energy = ace.test_across_groups(df_control=df_control_energy,\n",
    "                                      df_fam=df_fam_energy,\n",
    "                                      df_unfam=df_unfam_energy)"
   ]
  },
  {
   "cell_type": "code",
   "execution_count": null,
   "metadata": {
    "ExecuteTime": {
     "end_time": "2023-05-18T14:33:00.949964Z",
     "start_time": "2023-05-18T14:33:00.946673Z"
    }
   },
   "outputs": [],
   "source": [
    "# remove rows corresponding to area that have zero cell count across all experimental groups\n",
    "df_ttest_not_null_energy = df_ttest_energy.dropna(axis=0,\n",
    "                                   how='all',\n",
    "                                   subset=['pval_Control_vs_Fam',\n",
    "                                          'pval_Control_vs_Unfam',\n",
    "                                          'pval_Fam_vs_Unfam'])"
   ]
  },
  {
   "cell_type": "code",
   "execution_count": null,
   "metadata": {
    "ExecuteTime": {
     "end_time": "2023-05-18T14:33:01.658255Z",
     "start_time": "2023-05-18T14:33:01.651066Z"
    },
    "scrolled": false
   },
   "outputs": [],
   "source": [
    "# sort dataframe pvalues of control vs fam and pick the first 20\n",
    "df_ttest_not_null_energy.sort_values(by='pval_Control_vs_Fam')[['area', 'pval_Control_vs_Fam']][0:20].set_index('area')"
   ]
  },
  {
   "cell_type": "code",
   "execution_count": null,
   "metadata": {
    "ExecuteTime": {
     "end_time": "2023-05-18T14:33:02.357259Z",
     "start_time": "2023-05-18T14:33:02.350577Z"
    }
   },
   "outputs": [],
   "source": [
    "# sort dataframe pvalues of control vs fam and pick the first 20\n",
    "df_ttest_not_null_energy.sort_values(by='pval_Control_vs_Unfam')[['area', 'pval_Control_vs_Unfam']][0:20].set_index('area')"
   ]
  },
  {
   "cell_type": "code",
   "execution_count": null,
   "metadata": {
    "ExecuteTime": {
     "end_time": "2023-05-18T14:33:03.077689Z",
     "start_time": "2023-05-18T14:33:03.070447Z"
    }
   },
   "outputs": [],
   "source": [
    "# sort dataframe pvalues of control vs fam and pick the first 20\n",
    "df_ttest_not_null_energy.sort_values(by='pval_Fam_vs_Unfam')[['area', 'pval_Fam_vs_Unfam']][0:20].set_index('area')"
   ]
  },
  {
   "cell_type": "markdown",
   "metadata": {},
   "source": [
    "## Mann-Whitney Test across groups"
   ]
  },
  {
   "cell_type": "code",
   "execution_count": null,
   "metadata": {
    "ExecuteTime": {
     "end_time": "2023-05-18T14:33:05.316641Z",
     "start_time": "2023-05-18T14:33:03.782580Z"
    }
   },
   "outputs": [],
   "source": [
    "df_mannwhitneyu_energy = ace.test_across_groups(df_control=df_control_energy,\n",
    "                                      df_fam=df_fam_energy,\n",
    "                                      df_unfam=df_unfam_energy,\n",
    "                                    test='mannwhitneyu')"
   ]
  },
  {
   "cell_type": "code",
   "execution_count": null,
   "metadata": {
    "ExecuteTime": {
     "end_time": "2023-05-18T14:33:06.032190Z",
     "start_time": "2023-05-18T14:33:06.028588Z"
    }
   },
   "outputs": [],
   "source": [
    "# remove rows corresponding to area that have zero cell count across all experimental groups\n",
    "df_mannwhitneyu_not_null_energy = df_mannwhitneyu_energy.dropna(axis=0,\n",
    "                                   how='all',\n",
    "                                   subset=['pval_Control_vs_Fam',\n",
    "                                          'pval_Control_vs_Unfam',\n",
    "                                          'pval_Fam_vs_Unfam'])"
   ]
  },
  {
   "cell_type": "code",
   "execution_count": null,
   "metadata": {
    "ExecuteTime": {
     "end_time": "2023-05-18T14:33:06.744704Z",
     "start_time": "2023-05-18T14:33:06.736855Z"
    }
   },
   "outputs": [],
   "source": [
    "# sort dataframe pvalues of control vs fam and pick the first 20\n",
    "df_mannwhitneyu_not_null_energy.sort_values(by='pval_Control_vs_Fam')[['area', 'pval_Control_vs_Fam']][0:40].set_index('area')"
   ]
  },
  {
   "cell_type": "code",
   "execution_count": null,
   "metadata": {
    "ExecuteTime": {
     "end_time": "2023-05-18T14:33:07.478084Z",
     "start_time": "2023-05-18T14:33:07.468861Z"
    }
   },
   "outputs": [],
   "source": [
    "# sort dataframe pvalues of control vs fam and pick the first 20\n",
    "df_mannwhitneyu_not_null_energy.sort_values(by='pval_Control_vs_Unfam')[['area', 'pval_Control_vs_Unfam']][0:50].set_index('area')"
   ]
  },
  {
   "cell_type": "code",
   "execution_count": null,
   "metadata": {
    "ExecuteTime": {
     "end_time": "2023-05-18T14:33:08.218910Z",
     "start_time": "2023-05-18T14:33:08.210499Z"
    }
   },
   "outputs": [],
   "source": [
    "# sort dataframe pvalues of control vs fam and pick the first 20\n",
    "df_mannwhitneyu_not_null_energy.sort_values(by='pval_Fam_vs_Unfam')[['area', 'pval_Control_vs_Fam']][0:50].set_index('area')"
   ]
  },
  {
   "cell_type": "markdown",
   "metadata": {
    "ExecuteTime": {
     "end_time": "2023-04-05T15:11:36.529234Z",
     "start_time": "2023-04-05T15:11:36.525705Z"
    }
   },
   "source": [
    "\n"
   ]
  },
  {
   "cell_type": "markdown",
   "metadata": {
    "ExecuteTime": {
     "end_time": "2023-04-06T10:24:14.656694Z",
     "start_time": "2023-04-06T10:24:14.635523Z"
    }
   },
   "source": [
    "## Calculate cross corr matrix across experimental groups on energy"
   ]
  },
  {
   "cell_type": "code",
   "execution_count": null,
   "metadata": {
    "ExecuteTime": {
     "end_time": "2023-05-18T14:33:08.958071Z",
     "start_time": "2023-05-18T14:33:08.946648Z"
    }
   },
   "outputs": [],
   "source": [
    "corr_matrix_control_energy = ace.cross_corr(df_control_energy)\n",
    "corr_matrix_fam_energy = ace.cross_corr(df_fam_energy)\n",
    "corr_matrix_unfam_energy = ace.cross_corr(df_unfam_energy)"
   ]
  },
  {
   "cell_type": "markdown",
   "metadata": {
    "ExecuteTime": {
     "end_time": "2023-04-06T10:58:02.369256Z",
     "start_time": "2023-04-06T10:58:01.314282Z"
    }
   },
   "source": [
    "## Plot cross corr matrix across groups per area on energy"
   ]
  },
  {
   "cell_type": "code",
   "execution_count": null,
   "metadata": {
    "ExecuteTime": {
     "end_time": "2023-05-18T14:33:10.818018Z",
     "start_time": "2023-05-18T14:33:09.874093Z"
    }
   },
   "outputs": [],
   "source": [
    "f, ax = plt.subplots(figsize=(10, 8))\n",
    "sns.heatmap(corr_matrix_control_energy,\n",
    "    cmap=sns.diverging_palette(220, 10, as_cmap=True),\n",
    "    vmin=-1.0, vmax=1.0,\n",
    "    square=True, ax=ax)\n",
    "ax.set_title('CONTROL')"
   ]
  },
  {
   "cell_type": "code",
   "execution_count": null,
   "metadata": {
    "ExecuteTime": {
     "end_time": "2023-05-18T14:33:12.836815Z",
     "start_time": "2023-05-18T14:33:11.680750Z"
    }
   },
   "outputs": [],
   "source": [
    "f, ax = plt.subplots(figsize=(10, 8))\n",
    "sns.heatmap(corr_matrix_fam_energy,\n",
    "    cmap=sns.diverging_palette(220, 10, as_cmap=True),\n",
    "    vmin=-1.0, vmax=1.0,\n",
    "    square=True, ax=ax)\n",
    "ax.set_title('FAM')"
   ]
  },
  {
   "cell_type": "code",
   "execution_count": null,
   "metadata": {
    "ExecuteTime": {
     "end_time": "2023-05-18T14:33:14.646646Z",
     "start_time": "2023-05-18T14:33:13.660831Z"
    }
   },
   "outputs": [],
   "source": [
    "f, ax = plt.subplots(figsize=(10, 8))\n",
    "sns.heatmap(corr_matrix_unfam_energy,\n",
    "    cmap=sns.diverging_palette(220, 10, as_cmap=True),\n",
    "    vmin=-1.0, vmax=1.0,\n",
    "    square=True, ax=ax)\n",
    "ax.set_title('UNFAM')"
   ]
  },
  {
   "cell_type": "code",
   "execution_count": null,
   "metadata": {
    "ExecuteTime": {
     "end_time": "2023-04-06T10:24:15.006564Z",
     "start_time": "2023-04-06T10:22:36.107Z"
    }
   },
   "outputs": [],
   "source": []
  },
  {
   "cell_type": "code",
   "execution_count": null,
   "metadata": {},
   "outputs": [],
   "source": []
  },
  {
   "cell_type": "code",
   "execution_count": null,
   "metadata": {},
   "outputs": [],
   "source": []
  },
  {
   "cell_type": "code",
   "execution_count": null,
   "metadata": {},
   "outputs": [],
   "source": []
  }
 ],
 "metadata": {
  "kernelspec": {
   "display_name": "ClearMap",
   "language": "python",
   "name": "clearmap"
  },
  "language_info": {
   "codemirror_mode": {
    "name": "ipython",
    "version": 3
   },
   "file_extension": ".py",
   "mimetype": "text/x-python",
   "name": "python",
   "nbconvert_exporter": "python",
   "pygments_lexer": "ipython3",
   "version": "3.8.1"
  },
  "latex_envs": {
   "LaTeX_envs_menu_present": true,
   "autoclose": false,
   "autocomplete": true,
   "bibliofile": "biblio.bib",
   "cite_by": "apalike",
   "current_citInitial": 1,
   "eqLabelWithNumbers": true,
   "eqNumInitial": 1,
   "hotkeys": {
    "equation": "Ctrl-E",
    "itemize": "Ctrl-I"
   },
   "labels_anchors": false,
   "latex_user_defs": false,
   "report_style_numbering": false,
   "user_envs_cfg": false
  },
  "toc": {
   "nav_menu": {},
   "number_sections": true,
   "sideBar": true,
   "skip_h1_title": false,
   "title_cell": "Table of Contents",
   "title_sidebar": "Contents",
   "toc_cell": false,
   "toc_position": {},
   "toc_section_display": true,
   "toc_window_display": false
  },
  "varInspector": {
   "cols": {
    "lenName": 16,
    "lenType": 16,
    "lenVar": 40
   },
   "kernels_config": {
    "python": {
     "delete_cmd_postfix": "",
     "delete_cmd_prefix": "del ",
     "library": "var_list.py",
     "varRefreshCmd": "print(var_dic_list())"
    },
    "r": {
     "delete_cmd_postfix": ") ",
     "delete_cmd_prefix": "rm(",
     "library": "var_list.r",
     "varRefreshCmd": "cat(var_dic_list()) "
    }
   },
   "types_to_exclude": [
    "module",
    "function",
    "builtin_function_or_method",
    "instance",
    "_Feature"
   ],
   "window_display": false
  }
 },
 "nbformat": 4,
 "nbformat_minor": 4
}
