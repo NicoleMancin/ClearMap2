{
 "cells": [
  {
   "cell_type": "code",
   "execution_count": 1,
   "metadata": {
    "ExecuteTime": {
     "end_time": "2023-05-18T15:00:33.862877Z",
     "start_time": "2023-05-18T15:00:32.960156Z"
    }
   },
   "outputs": [],
   "source": [
    "import numpy as np\n",
    "import matplotlib.pyplot as plt\n",
    "import pandas as pd\n",
    "import analyze_cells_energy as ace\n",
    "import re\n",
    "import utils\n",
    "import itertools\n",
    "import seaborn as sns\n",
    "import utils_PLS as upls"
   ]
  },
  {
   "cell_type": "code",
   "execution_count": 2,
   "metadata": {
    "ExecuteTime": {
     "end_time": "2023-05-18T15:00:33.893331Z",
     "start_time": "2023-05-18T15:00:33.864546Z"
    }
   },
   "outputs": [],
   "source": [
    "# load query file where we added volumes for each area\n",
    "volumes = pd.read_csv(\"query_volumes_reordered.csv\")\n",
    "volumes = ace.clean_volumes_database(volumes)"
   ]
  },
  {
   "cell_type": "code",
   "execution_count": 3,
   "metadata": {
    "ExecuteTime": {
     "end_time": "2023-05-18T15:00:33.905508Z",
     "start_time": "2023-05-18T15:00:33.894664Z"
    }
   },
   "outputs": [],
   "source": [
    "root_directory = '/home/stella/Documents/Torino/projects/'\n",
    "experiment = 'SexualImprinting'\n",
    "experimental_group = 'SWISS_MaleUrine_Exposure'\n",
    "batch='SWISS_19-35'\n",
    "data_directory = root_directory + experiment + '/' \\\n",
    "                + experimental_group + '/'\n",
    "dict_results_across_mice = np.load('dict_results/dict_results_across_mice_SW19-35-150_10-10.npy', allow_pickle=True).item()"
   ]
  },
  {
   "cell_type": "code",
   "execution_count": 4,
   "metadata": {
    "ExecuteTime": {
     "end_time": "2023-05-18T15:00:33.917371Z",
     "start_time": "2023-05-18T15:00:33.906513Z"
    }
   },
   "outputs": [
    {
     "data": {
      "text/html": [
       "<div>\n",
       "<style scoped>\n",
       "    .dataframe tbody tr th:only-of-type {\n",
       "        vertical-align: middle;\n",
       "    }\n",
       "\n",
       "    .dataframe tbody tr th {\n",
       "        vertical-align: top;\n",
       "    }\n",
       "\n",
       "    .dataframe thead th {\n",
       "        text-align: right;\n",
       "    }\n",
       "</style>\n",
       "<table border=\"1\" class=\"dataframe\">\n",
       "  <thead>\n",
       "    <tr style=\"text-align: right;\">\n",
       "      <th></th>\n",
       "      <th>area</th>\n",
       "      <th>n_cells</th>\n",
       "      <th>energy</th>\n",
       "    </tr>\n",
       "  </thead>\n",
       "  <tbody>\n",
       "    <tr>\n",
       "      <th>0</th>\n",
       "      <td>Frontal pole cerebral cortex</td>\n",
       "      <td>1</td>\n",
       "      <td>2046.343191</td>\n",
       "    </tr>\n",
       "    <tr>\n",
       "      <th>1</th>\n",
       "      <td>Primary motor area</td>\n",
       "      <td>13</td>\n",
       "      <td>2960.748475</td>\n",
       "    </tr>\n",
       "    <tr>\n",
       "      <th>2</th>\n",
       "      <td>Secondary motor area</td>\n",
       "      <td>56</td>\n",
       "      <td>11919.272323</td>\n",
       "    </tr>\n",
       "    <tr>\n",
       "      <th>3</th>\n",
       "      <td>Primary somatosensory area</td>\n",
       "      <td>39</td>\n",
       "      <td>4692.212991</td>\n",
       "    </tr>\n",
       "    <tr>\n",
       "      <th>4</th>\n",
       "      <td>Supplemental somatosensory area</td>\n",
       "      <td>0</td>\n",
       "      <td>0.000000</td>\n",
       "    </tr>\n",
       "    <tr>\n",
       "      <th>...</th>\n",
       "      <td>...</td>\n",
       "      <td>...</td>\n",
       "      <td>...</td>\n",
       "    </tr>\n",
       "    <tr>\n",
       "      <th>293</th>\n",
       "      <td>Flocculus</td>\n",
       "      <td>0</td>\n",
       "      <td>0.000000</td>\n",
       "    </tr>\n",
       "    <tr>\n",
       "      <th>294</th>\n",
       "      <td>Fastigial nucleus</td>\n",
       "      <td>1</td>\n",
       "      <td>4851.227957</td>\n",
       "    </tr>\n",
       "    <tr>\n",
       "      <th>295</th>\n",
       "      <td>Interposed nucleus</td>\n",
       "      <td>27</td>\n",
       "      <td>74158.872116</td>\n",
       "    </tr>\n",
       "    <tr>\n",
       "      <th>296</th>\n",
       "      <td>Dentate nucleus</td>\n",
       "      <td>0</td>\n",
       "      <td>0.000000</td>\n",
       "    </tr>\n",
       "    <tr>\n",
       "      <th>297</th>\n",
       "      <td>Vestibulocerebellar nucleus</td>\n",
       "      <td>0</td>\n",
       "      <td>0.000000</td>\n",
       "    </tr>\n",
       "  </tbody>\n",
       "</table>\n",
       "<p>297 rows × 3 columns</p>\n",
       "</div>"
      ],
      "text/plain": [
       "                                area  n_cells        energy\n",
       "0       Frontal pole cerebral cortex        1   2046.343191\n",
       "1                 Primary motor area       13   2960.748475\n",
       "2               Secondary motor area       56  11919.272323\n",
       "3         Primary somatosensory area       39   4692.212991\n",
       "4    Supplemental somatosensory area        0      0.000000\n",
       "..                               ...      ...           ...\n",
       "293                        Flocculus        0      0.000000\n",
       "294                Fastigial nucleus        1   4851.227957\n",
       "295               Interposed nucleus       27  74158.872116\n",
       "296                  Dentate nucleus        0      0.000000\n",
       "297      Vestibulocerebellar nucleus        0      0.000000\n",
       "\n",
       "[297 rows x 3 columns]"
      ]
     },
     "execution_count": 4,
     "metadata": {},
     "output_type": "execute_result"
    }
   ],
   "source": [
    "# removed key corresponding to SW21_Fam\n",
    "dict_results_across_mice.pop('SW21_Fam')"
   ]
  },
  {
   "cell_type": "code",
   "execution_count": 5,
   "metadata": {
    "ExecuteTime": {
     "end_time": "2023-05-18T15:00:35.965158Z",
     "start_time": "2023-05-18T15:00:33.918512Z"
    }
   },
   "outputs": [],
   "source": [
    "dict_results_across_mice = upls.reformat_dict_acronym(dict_results=dict_results_across_mice, volumes=volumes)"
   ]
  },
  {
   "cell_type": "markdown",
   "metadata": {
    "ExecuteTime": {
     "end_time": "2023-04-27T09:40:35.015950Z",
     "start_time": "2023-04-27T09:40:35.009945Z"
    }
   },
   "source": [
    "# Format data for task PLS"
   ]
  },
  {
   "cell_type": "code",
   "execution_count": 6,
   "metadata": {
    "ExecuteTime": {
     "end_time": "2023-05-18T15:00:36.067961Z",
     "start_time": "2023-05-18T15:00:35.966756Z"
    }
   },
   "outputs": [],
   "source": [
    "upls.format_data_pls(dict_results=dict_results_across_mice, batch=batch+'-150_10-10', table='n_cells')\n",
    "upls.format_data_pls(dict_results=dict_results_across_mice, batch=batch+'-150_10-10', table='energy')"
   ]
  },
  {
   "cell_type": "code",
   "execution_count": 7,
   "metadata": {
    "ExecuteTime": {
     "end_time": "2023-05-18T15:00:36.097454Z",
     "start_time": "2023-05-18T15:00:36.069466Z"
    }
   },
   "outputs": [],
   "source": [
    "data_ncells = pd.read_csv('./results_pls/'+batch+'-150_10-10_n_cells.csv')\n",
    "data_energy = pd.read_csv('./results_pls/'+batch+'-150_10-10_energy.csv')"
   ]
  },
  {
   "cell_type": "code",
   "execution_count": 8,
   "metadata": {
    "ExecuteTime": {
     "end_time": "2023-05-18T15:00:39.169555Z",
     "start_time": "2023-05-18T15:00:36.098691Z"
    }
   },
   "outputs": [],
   "source": [
    "df_levels = upls.create_df_levels(volumes)"
   ]
  },
  {
   "cell_type": "markdown",
   "metadata": {
    "ExecuteTime": {
     "end_time": "2023-04-27T10:25:06.309157Z",
     "start_time": "2023-04-27T10:25:06.272373Z"
    }
   },
   "source": [
    "# Apply task PLS for all areas and energy"
   ]
  },
  {
   "cell_type": "code",
   "execution_count": 9,
   "metadata": {
    "ExecuteTime": {
     "end_time": "2023-05-18T15:00:41.052246Z",
     "start_time": "2023-05-18T15:00:39.170604Z"
    }
   },
   "outputs": [
    {
     "name": "stderr",
     "output_type": "stream",
     "text": [
      "2023-05-18 17:00:40 PC1QFRRQ __main__[75625] INFO reading data...\n",
      "2023-05-18 17:00:40 PC1QFRRQ __main__[75625] INFO computing PLS...\n",
      "2023-05-18 17:00:40 PC1QFRRQ __main__[75625] INFO PLS computed, now performing bootstrap...\n",
      "2023-05-18 17:00:40 PC1QFRRQ __main__[75625] INFO saving output data...\n"
     ]
    }
   ],
   "source": [
    "%%bash\n",
    "python area_pls.py -i results_pls/SWISS_19-35-150_10-10_n_cells.csv -o './results_pls/SWISS_19-35-150_10-10'"
   ]
  },
  {
   "cell_type": "code",
   "execution_count": 10,
   "metadata": {
    "ExecuteTime": {
     "end_time": "2023-05-18T15:00:41.055619Z",
     "start_time": "2023-05-18T15:00:41.053709Z"
    },
    "code_folding": []
   },
   "outputs": [],
   "source": [
    "# %%bash\n",
    "# python area_pls.py -i results_pls/SWISS_19-35_energy.csv -o './'"
   ]
  },
  {
   "cell_type": "markdown",
   "metadata": {},
   "source": [
    "# Plot results"
   ]
  },
  {
   "cell_type": "code",
   "execution_count": 11,
   "metadata": {
    "ExecuteTime": {
     "end_time": "2023-05-18T15:00:41.079210Z",
     "start_time": "2023-05-18T15:00:41.056987Z"
    }
   },
   "outputs": [],
   "source": [
    "swiss_contrasts = pd.read_csv('./results_pls/SWISS_19-35-150_10-10_contrasts.csv')\n",
    "swiss_saliences = pd.read_csv('./results_pls/SWISS_19-35-150_10-10_saliences.csv')\n",
    "swiss_contrasts.columns = ['Control', 'Fam', 'Unfam']\n",
    "# swiss_contrasts = swiss_contrasts.rename(columns={\"group_Control\": \"Control\", \"group_Fam\": \"Fam\", \"group_Unfam\":\"Unfam\"})"
   ]
  },
  {
   "cell_type": "code",
   "execution_count": 12,
   "metadata": {
    "ExecuteTime": {
     "end_time": "2023-05-18T15:00:41.634999Z",
     "start_time": "2023-05-18T15:00:41.080863Z"
    }
   },
   "outputs": [
    {
     "data": {
      "image/png": "[encoded data removed]",
      "text/plain": [
       "<Figure size 720x360 with 3 Axes>"
      ]
     },
     "metadata": {
      "needs_background": "light"
     },
     "output_type": "display_data"
    }
   ],
   "source": [
    "fig, axes = plt.subplots(1,3, sharey='row', figsize=(10,5))\n",
    "upls.plot_contrasts(df_data=swiss_contrasts, index=0, ax=axes[0])\n",
    "upls.plot_contrasts(df_data=swiss_contrasts, index=1, ax=axes[1])\n",
    "upls.plot_contrasts(df_data=swiss_contrasts, index=2, ax=axes[2])\n",
    "axes[0].set_ylabel('Contrast')\n",
    "axes[1].set_ylabel('')\n",
    "axes[2].set_ylabel('')\n",
    "axes[0].tick_params(axis='x', labelrotation=90)\n",
    "axes[1].tick_params(axis='x', labelrotation=90)\n",
    "axes[2].tick_params(axis='x', labelrotation=90)\n",
    "axes[0].set_title('First contrast')\n",
    "axes[1].set_title('Second contrast')\n",
    "axes[2].set_title('Third contrast')\n",
    "for i in range(3):\n",
    "    axes[i].set(xlabel=None)\n",
    "plt.tight_layout()\n",
    "plt.savefig('./results_pls/swiss_19-35-150_10-10_pls_contrasts_all_areas.png')\n",
    "plt.savefig('./results_pls/swiss_19-35-150_10-10_pls_contrasts_all_areas.png')"
   ]
  },
  {
   "cell_type": "code",
   "execution_count": 13,
   "metadata": {
    "ExecuteTime": {
     "end_time": "2023-05-18T15:01:15.019856Z",
     "start_time": "2023-05-18T15:00:41.636309Z"
    },
    "scrolled": false
   },
   "outputs": [
    {
     "data": {
      "image/png": "[encoded data removed]",
      "text/plain": [
       "<Figure size 936x504 with 3 Axes>"
      ]
     },
     "metadata": {
      "needs_background": "light"
     },
     "output_type": "display_data"
    }
   ],
   "source": [
    "fig, axes = plt.subplots(3,1, sharex='row', figsize=(13,7))\n",
    "plt.subplots_adjust(top=0.9, left=0.03, right=0.8)\n",
    "upls.plot_saliences(df_data=swiss_saliences, index=0, ax=axes[0], df_levels=df_levels)\n",
    "upls.plot_saliences(df_data=swiss_saliences, index=1, ax=axes[1], df_levels=df_levels)\n",
    "upls.plot_saliences(df_data=swiss_saliences, index=2, ax=axes[2], df_levels=df_levels)\n",
    "axes[0].tick_params(axis='x', labelrotation=90)\n",
    "axes[1].tick_params(axis='x', labelrotation=90)\n",
    "axes[2].tick_params(axis='x', labelrotation=90)\n",
    "axes[0].set_xlabel('')\n",
    "axes[0].set(xticklabels=[])\n",
    "axes[0].set_ylim(0,10)\n",
    "axes[1].set_xlabel('')\n",
    "axes[1].set(xticklabels=[])\n",
    "axes[0].set_title('First salience')\n",
    "axes[1].set_title('Second salience')\n",
    "axes[2].set_title('Third salience')\n",
    "axes[2].set_xlabel('Area')\n",
    "axes[0].legend(loc='right', bbox_to_anchor=(1.25,0.3))\n",
    "axes[1].get_legend().remove()\n",
    "axes[2].get_legend().remove()\n",
    "n = 4  # Keeps every 7th label\n",
    "for i in range(3):\n",
    "    axes[i].axhline(y=1.96, linestyle='-.', color='darkgrey')\n",
    "    axes[i].axhline(y=-1.96, linestyle='-.', color='darkgrey')\n",
    "    [l.set_visible(False) for (i,l) in enumerate(axes[i].xaxis.get_ticklabels()) if i % n != 0]\n",
    "plt.savefig('./results_pls/swiss_19-35-150_10-10_pls_saliences_all_areas.png')\n",
    "plt.savefig('./results_pls/swiss_19-35-150_10-10_pls_saliences_all_areas.svg')"
   ]
  },
  {
   "cell_type": "markdown",
   "metadata": {},
   "source": [
    "# Identify areas with significant salience contribution"
   ]
  },
  {
   "cell_type": "code",
   "execution_count": 14,
   "metadata": {
    "ExecuteTime": {
     "end_time": "2023-05-18T15:01:15.081894Z",
     "start_time": "2023-05-18T15:01:15.022006Z"
    }
   },
   "outputs": [],
   "source": [
    "pls_sig_areas = upls.identify_pls_sig_areas(saliences=swiss_saliences, \n",
    "                                       threshold=1.96, \n",
    "                                       volumes=volumes)"
   ]
  },
  {
   "cell_type": "code",
   "execution_count": 15,
   "metadata": {
    "ExecuteTime": {
     "end_time": "2023-05-18T15:01:15.095176Z",
     "start_time": "2023-05-18T15:01:15.087659Z"
    }
   },
   "outputs": [
    {
     "data": {
      "text/plain": [
       "array(['Abducens nucleus', 'Accessory olfactory bulb',\n",
       "       'Anterior amygdalar area', 'Anterior cingulate area',\n",
       "       'Anterior hypothalamic nucleus', 'Anteromedial visual area',\n",
       "       'Bed nuclei of the stria terminalis',\n",
       "       'Bed nucleus of the accessory olfactory tract',\n",
       "       'Central amygdalar nucleus',\n",
       "       'Central lateral nucleus of the thalamus', 'Declive (VI)',\n",
       "       'Dorsal premammillary nucleus', 'Facial motor nucleus',\n",
       "       'Fastigial nucleus', 'Fundus of striatum',\n",
       "       'Gigantocellular reticular nucleus',\n",
       "       'Globus pallidus internal segment', 'Inferior salivatory nucleus',\n",
       "       'Infracerebellar nucleus', 'Interfascicular nucleus raphe',\n",
       "       'Intermediate reticular nucleus', 'Interposed nucleus',\n",
       "       'Lateral vestibular nucleus', 'Linear nucleus of the medulla',\n",
       "       'Lingula (I)', 'Magnocellular nucleus', 'Medial amygdalar nucleus',\n",
       "       'Medial preoptic area', 'Medial vestibular nucleus',\n",
       "       'Median preoptic nucleus', 'Nodulus (X)', 'Nucleus incertus',\n",
       "       'Nucleus of Roller', 'Nucleus of the lateral olfactory tract',\n",
       "       'Nucleus of the solitary tract', 'Nucleus prepositus',\n",
       "       'Nucleus sagulum', 'Parabrachial nucleus', 'Paramedian lobule',\n",
       "       'Parasolitary nucleus', 'Parasubthalamic nucleus',\n",
       "       'Parataenial nucleus', 'Parvicellular reticular nucleus',\n",
       "       'Peripeduncular nucleus', 'Pontine central gray', 'Pontine gray',\n",
       "       'Pontine reticular nucleus caudal part',\n",
       "       'Posterior hypothalamic nucleus', 'Pretectal region',\n",
       "       'Red nucleus', 'Simple lobule', 'Spinal vestibular nucleus',\n",
       "       'Subparaventricular zone', 'Superior central nucleus raphe',\n",
       "       'Superior vestibular nucleus', 'Supragenual nucleus',\n",
       "       'Tuberomammillary nucleus', 'Ventral tegmental nucleus'],\n",
       "      dtype='<U44')"
      ]
     },
     "execution_count": 15,
     "metadata": {},
     "output_type": "execute_result"
    }
   ],
   "source": [
    "pls_sig_areas"
   ]
  },
  {
   "cell_type": "markdown",
   "metadata": {},
   "source": [
    "# Apply PLS for all significant areas in ncells and energy"
   ]
  },
  {
   "cell_type": "code",
   "execution_count": 16,
   "metadata": {
    "ExecuteTime": {
     "end_time": "2023-05-18T15:01:16.759967Z",
     "start_time": "2023-05-18T15:01:15.097063Z"
    }
   },
   "outputs": [],
   "source": [
    "# select significant areas\n",
    "experimental_groups = utils.divide_in_exp_groups(list_subjects=list(dict_results_across_mice.keys()))\n",
    "df_control_cell_count, df_fam_cell_count, df_unfam_cell_count = \\\n",
    "ace.calculate_value_across_groups(experimental_groups=experimental_groups, \n",
    "                              dict_results_across_mice=dict_results_across_mice, \n",
    "                              value='n_cells')\n",
    "df_ttest_ncells = ace.test_across_groups(df_control=df_control_cell_count, \n",
    "                               df_fam=df_fam_cell_count, \n",
    "                               df_unfam=df_unfam_cell_count)\n",
    "df_ttest_not_null_ncells = df_ttest_ncells.dropna(axis=0,\n",
    "                                   how='all',\n",
    "                                   subset=['pval_Control_vs_Fam',\n",
    "                                          'pval_Control_vs_Unfam',\n",
    "                                          'pval_Fam_vs_Unfam'])\n",
    "sig_areas_ncells_ttest = upls.select_significant_areas(df=df_ttest_not_null_ncells, threshold=0.05)\n",
    "# get corresponding acronyms of these areas\n",
    "sig_acronyms = [volumes.loc[volumes['safe_name'] == area]['acronym'].values[0] for area in sig_areas_ncells_ttest]\n",
    "# remove columns from database\n",
    "keep_columns = ['subject', 'sex', 'group'] + sig_acronyms\n",
    "# make database filtered\n",
    "data_ncells_filt = data_ncells.drop(columns=[col for col in data_ncells if col not in keep_columns])\n",
    "data_energy_filt = data_energy.drop(columns=[col for col in data_energy if col not in keep_columns])\n",
    "data_ncells_filt.to_csv('./results_pls/'+batch+'-150_10-10_n_cells_filt.csv')\n",
    "data_energy_filt.to_csv('./results_pls/'+batch+'-150_10-10_energy_filt.csv')"
   ]
  },
  {
   "cell_type": "code",
   "execution_count": 17,
   "metadata": {
    "ExecuteTime": {
     "end_time": "2023-05-18T15:01:18.692425Z",
     "start_time": "2023-05-18T15:01:16.761079Z"
    }
   },
   "outputs": [
    {
     "name": "stderr",
     "output_type": "stream",
     "text": [
      "2023-05-18 17:01:18 PC1QFRRQ __main__[75685] INFO reading data...\n",
      "2023-05-18 17:01:18 PC1QFRRQ __main__[75685] INFO computing PLS...\n",
      "2023-05-18 17:01:18 PC1QFRRQ __main__[75685] INFO PLS computed, now performing bootstrap...\n",
      "2023-05-18 17:01:18 PC1QFRRQ __main__[75685] INFO saving output data...\n"
     ]
    }
   ],
   "source": [
    "%%bash\n",
    "python area_pls.py -i results_pls/SWISS_19-35-150_10-10_n_cells_filt.csv -o './results_pls/SWISS_19-35-150_10-10_filt'"
   ]
  },
  {
   "cell_type": "code",
   "execution_count": 18,
   "metadata": {
    "ExecuteTime": {
     "end_time": "2023-05-18T15:01:20.658135Z",
     "start_time": "2023-05-18T15:01:18.696665Z"
    }
   },
   "outputs": [
    {
     "name": "stderr",
     "output_type": "stream",
     "text": [
      "2023-05-18 17:01:20 PC1QFRRQ __main__[75691] INFO reading data...\n",
      "2023-05-18 17:01:20 PC1QFRRQ __main__[75691] INFO computing PLS...\n",
      "2023-05-18 17:01:20 PC1QFRRQ __main__[75691] INFO PLS computed, now performing bootstrap...\n",
      "2023-05-18 17:01:20 PC1QFRRQ __main__[75691] INFO saving output data...\n"
     ]
    }
   ],
   "source": [
    "%%bash\n",
    "python area_pls.py -i results_pls/SWISS_19-35-150_10-10_energy_filt.csv -o './results_pls/SWISS_19-35-150_10-10_filt'"
   ]
  },
  {
   "cell_type": "code",
   "execution_count": 19,
   "metadata": {
    "ExecuteTime": {
     "end_time": "2023-05-18T15:01:20.670243Z",
     "start_time": "2023-05-18T15:01:20.661595Z"
    }
   },
   "outputs": [],
   "source": [
    "swiss_contrasts_filt = pd.read_csv('./results_pls/SWISS_19-35-150_10-10_filt_contrasts.csv')\n",
    "swiss_saliences_filt = pd.read_csv('./results_pls/SWISS_19-35-150_10-10_filt_saliences.csv')\n",
    "swiss_contrasts_filt.columns = ['Control', 'Fam', 'Unfam']"
   ]
  },
  {
   "cell_type": "code",
   "execution_count": 20,
   "metadata": {
    "ExecuteTime": {
     "end_time": "2023-05-18T15:01:21.139139Z",
     "start_time": "2023-05-18T15:01:20.671814Z"
    }
   },
   "outputs": [
    {
     "data": {
      "image/png": "[encoded data removed]",
      "text/plain": [
       "<Figure size 720x360 with 3 Axes>"
      ]
     },
     "metadata": {
      "needs_background": "light"
     },
     "output_type": "display_data"
    }
   ],
   "source": [
    "fig, axes = plt.subplots(1,3, sharey='row', figsize=(10,5))\n",
    "upls.plot_contrasts(df_data=swiss_contrasts_filt, index=0, ax=axes[0])\n",
    "upls.plot_contrasts(df_data=swiss_contrasts_filt, index=1, ax=axes[1])\n",
    "upls.plot_contrasts(df_data=swiss_contrasts_filt, index=2, ax=axes[2])\n",
    "axes[1].set_ylabel('')\n",
    "axes[2].set_ylabel('')\n",
    "axes[0].tick_params(axis='x', labelrotation=90)\n",
    "axes[1].tick_params(axis='x', labelrotation=90)\n",
    "axes[2].tick_params(axis='x', labelrotation=90)\n",
    "axes[0].set_title('First contrast')\n",
    "axes[1].set_title('Second contrast')\n",
    "axes[2].set_title('Third contrast')\n",
    "for i in range(3):\n",
    "    axes[i].set(xlabel=None)\n",
    "plt.tight_layout()\n",
    "plt.savefig('./results_pls/swiss_19-35-150_10-10_pls_contrasts_sig_areas.png')"
   ]
  },
  {
   "cell_type": "code",
   "execution_count": 21,
   "metadata": {
    "ExecuteTime": {
     "end_time": "2023-05-18T15:01:26.321587Z",
     "start_time": "2023-05-18T15:01:21.140588Z"
    }
   },
   "outputs": [
    {
     "data": {
      "image/png": "[encoded data removed]",
      "text/plain": [
       "<Figure size 936x504 with 3 Axes>"
      ]
     },
     "metadata": {
      "needs_background": "light"
     },
     "output_type": "display_data"
    }
   ],
   "source": [
    "fig, axes = plt.subplots(3,1, sharex='row', figsize=(13,7))\n",
    "plt.subplots_adjust(top=0.9, left=0.03, right=0.8)\n",
    "upls.plot_saliences(df_data=swiss_saliences_filt, index=0, ax=axes[0], df_levels=df_levels)\n",
    "upls.plot_saliences(df_data=swiss_saliences_filt, index=1, ax=axes[1], df_levels=df_levels)\n",
    "upls.plot_saliences(df_data=swiss_saliences_filt, index=2, ax=axes[2], df_levels=df_levels)\n",
    "axes[0].tick_params(axis='x', labelrotation=90)\n",
    "axes[1].tick_params(axis='x', labelrotation=90)\n",
    "axes[2].tick_params(axis='x', labelrotation=90)\n",
    "axes[0].set_xlabel('')\n",
    "axes[0].set(xticklabels=[])\n",
    "axes[0].set_ylim(-20,5)\n",
    "axes[1].set_xlabel('')\n",
    "axes[1].set(xticklabels=[])\n",
    "axes[0].set_title('First salience')\n",
    "axes[1].set_title('Second salience')\n",
    "axes[2].set_title('Third salience')\n",
    "axes[2].set_xlabel('Area')\n",
    "axes[0].legend(loc='right', bbox_to_anchor=(1.25,0.3))\n",
    "axes[1].get_legend().remove()\n",
    "axes[2].get_legend().remove()\n",
    "n = 4  # Keeps every 7th label\n",
    "for i in range(3):\n",
    "    axes[i].axhline(y=1.96, linestyle='-.', color='darkgrey')\n",
    "    axes[i].axhline(y=-1.96, linestyle='-.', color='darkgrey')\n",
    "plt.savefig('./results_pls/swiss_pls_150_10-10_saliences_sig_areas.png')\n",
    "plt.savefig('./results_pls/swiss_pls_150_10-10_saliences_sig_areas.svg')"
   ]
  },
  {
   "cell_type": "markdown",
   "metadata": {},
   "source": [
    "# Identify areas with significant salience contribution"
   ]
  },
  {
   "cell_type": "code",
   "execution_count": 22,
   "metadata": {
    "ExecuteTime": {
     "end_time": "2023-05-18T15:01:26.340957Z",
     "start_time": "2023-05-18T15:01:26.322801Z"
    }
   },
   "outputs": [
    {
     "data": {
      "text/plain": [
       "array(['Abducens nucleus', 'Anterior amygdalar area',\n",
       "       'Bed nuclei of the stria terminalis',\n",
       "       'Bed nucleus of the accessory olfactory tract',\n",
       "       'Central amygdalar nucleus', 'Fundus of striatum',\n",
       "       'Interposed nucleus', 'Lateral vestibular nucleus', 'Lingula (I)',\n",
       "       'Magnocellular nucleus', 'Medial amygdalar nucleus',\n",
       "       'Medial preoptic area', 'Medial preoptic nucleus',\n",
       "       'Midbrain reticular nucleus retrorubral area', 'Nucleus incertus',\n",
       "       'Nucleus of the lateral olfactory tract',\n",
       "       'Paraventricular nucleus of the thalamus',\n",
       "       'Pontine reticular nucleus caudal part',\n",
       "       'Posterior limiting nucleus of the thalamus',\n",
       "       'Substantia nigra reticular part',\n",
       "       'Superior central nucleus raphe'], dtype='<U44')"
      ]
     },
     "execution_count": 22,
     "metadata": {},
     "output_type": "execute_result"
    }
   ],
   "source": [
    "pls_sig_areas_filt = upls.identify_pls_sig_areas(saliences=swiss_saliences_filt, \n",
    "                                       threshold=1.96, \n",
    "                                       volumes=volumes)\n",
    "pls_sig_areas_filt"
   ]
  },
  {
   "cell_type": "code",
   "execution_count": null,
   "metadata": {},
   "outputs": [],
   "source": []
  },
  {
   "cell_type": "code",
   "execution_count": null,
   "metadata": {},
   "outputs": [],
   "source": []
  },
  {
   "cell_type": "code",
   "execution_count": null,
   "metadata": {},
   "outputs": [],
   "source": []
  },
  {
   "cell_type": "code",
   "execution_count": null,
   "metadata": {},
   "outputs": [],
   "source": []
  }
 ],
 "metadata": {
  "kernelspec": {
   "display_name": "ClearMap",
   "language": "python",
   "name": "clearmap"
  },
  "language_info": {
   "codemirror_mode": {
    "name": "ipython",
    "version": 3
   },
   "file_extension": ".py",
   "mimetype": "text/x-python",
   "name": "python",
   "nbconvert_exporter": "python",
   "pygments_lexer": "ipython3",
   "version": "3.8.1"
  },
  "latex_envs": {
   "LaTeX_envs_menu_present": true,
   "autoclose": false,
   "autocomplete": true,
   "bibliofile": "biblio.bib",
   "cite_by": "apalike",
   "current_citInitial": 1,
   "eqLabelWithNumbers": true,
   "eqNumInitial": 1,
   "hotkeys": {
    "equation": "Ctrl-E",
    "itemize": "Ctrl-I"
   },
   "labels_anchors": false,
   "latex_user_defs": false,
   "report_style_numbering": false,
   "user_envs_cfg": false
  },
  "toc": {
   "nav_menu": {},
   "number_sections": true,
   "sideBar": true,
   "skip_h1_title": false,
   "title_cell": "Table of Contents",
   "title_sidebar": "Contents",
   "toc_cell": false,
   "toc_position": {},
   "toc_section_display": true,
   "toc_window_display": false
  },
  "varInspector": {
   "cols": {
    "lenName": 16,
    "lenType": 16,
    "lenVar": 40
   },
   "kernels_config": {
    "python": {
     "delete_cmd_postfix": "",
     "delete_cmd_prefix": "del ",
     "library": "var_list.py",
     "varRefreshCmd": "print(var_dic_list())"
    },
    "r": {
     "delete_cmd_postfix": ") ",
     "delete_cmd_prefix": "rm(",
     "library": "var_list.r",
     "varRefreshCmd": "cat(var_dic_list()) "
    }
   },
   "types_to_exclude": [
    "module",
    "function",
    "builtin_function_or_method",
    "instance",
    "_Feature"
   ],
   "window_display": false
  }
 },
 "nbformat": 4,
 "nbformat_minor": 4
}
