{
 "cells": [
  {
   "cell_type": "code",
   "execution_count": 1,
   "metadata": {
    "ExecuteTime": {
     "end_time": "2023-05-29T12:50:05.310151Z",
     "start_time": "2023-05-29T12:50:04.619821Z"
    }
   },
   "outputs": [],
   "source": [
    "import numpy as np\n",
    "import matplotlib.pyplot as plt\n",
    "import pandas as pd\n",
    "import analyze_cells_energy as ace\n",
    "import re\n",
    "import utils\n",
    "import itertools\n",
    "import seaborn as sns\n",
    "import utils_PLS as upls"
   ]
  },
  {
   "cell_type": "code",
   "execution_count": 2,
   "metadata": {
    "ExecuteTime": {
     "end_time": "2023-05-29T12:50:05.341460Z",
     "start_time": "2023-05-29T12:50:05.311904Z"
    }
   },
   "outputs": [],
   "source": [
    "# load query file where we added volumes for each area\n",
    "volumes = pd.read_csv(\"query_volumes_reordered.csv\")\n",
    "volumes = ace.clean_volumes_database(volumes)"
   ]
  },
  {
   "cell_type": "code",
   "execution_count": 3,
   "metadata": {
    "ExecuteTime": {
     "end_time": "2023-05-29T12:50:05.355107Z",
     "start_time": "2023-05-29T12:50:05.342835Z"
    }
   },
   "outputs": [],
   "source": [
    "root_directory = '/home/stella/Documents/Torino/projects/'\n",
    "experiment = 'SexualImprinting'\n",
    "experimental_group = 'SWISS_MaleUrine_Exposure'\n",
    "batch='SWISS_19-35'\n",
    "data_directory = root_directory + experiment + '/' \\\n",
    "                + experimental_group + '/'\n",
    "dict_results_across_mice = np.load('dict_results/dict_results_across_mice_SW19-35-150_10-10.npy', allow_pickle=True).item()"
   ]
  },
  {
   "cell_type": "code",
   "execution_count": 4,
   "metadata": {
    "ExecuteTime": {
     "end_time": "2023-05-29T12:50:05.369955Z",
     "start_time": "2023-05-29T12:50:05.356389Z"
    }
   },
   "outputs": [
    {
     "data": {
      "text/html": [
       "<div>\n",
       "<style scoped>\n",
       "    .dataframe tbody tr th:only-of-type {\n",
       "        vertical-align: middle;\n",
       "    }\n",
       "\n",
       "    .dataframe tbody tr th {\n",
       "        vertical-align: top;\n",
       "    }\n",
       "\n",
       "    .dataframe thead th {\n",
       "        text-align: right;\n",
       "    }\n",
       "</style>\n",
       "<table border=\"1\" class=\"dataframe\">\n",
       "  <thead>\n",
       "    <tr style=\"text-align: right;\">\n",
       "      <th></th>\n",
       "      <th>area</th>\n",
       "      <th>n_cells</th>\n",
       "      <th>energy</th>\n",
       "    </tr>\n",
       "  </thead>\n",
       "  <tbody>\n",
       "    <tr>\n",
       "      <th>0</th>\n",
       "      <td>Frontal pole cerebral cortex</td>\n",
       "      <td>318</td>\n",
       "      <td>365810.876286</td>\n",
       "    </tr>\n",
       "    <tr>\n",
       "      <th>1</th>\n",
       "      <td>Primary motor area</td>\n",
       "      <td>1127</td>\n",
       "      <td>128468.748360</td>\n",
       "    </tr>\n",
       "    <tr>\n",
       "      <th>2</th>\n",
       "      <td>Secondary motor area</td>\n",
       "      <td>1917</td>\n",
       "      <td>186030.709711</td>\n",
       "    </tr>\n",
       "    <tr>\n",
       "      <th>3</th>\n",
       "      <td>Primary somatosensory area</td>\n",
       "      <td>1928</td>\n",
       "      <td>102481.558580</td>\n",
       "    </tr>\n",
       "    <tr>\n",
       "      <th>4</th>\n",
       "      <td>Supplemental somatosensory area</td>\n",
       "      <td>357</td>\n",
       "      <td>52892.112970</td>\n",
       "    </tr>\n",
       "    <tr>\n",
       "      <th>...</th>\n",
       "      <td>...</td>\n",
       "      <td>...</td>\n",
       "      <td>...</td>\n",
       "    </tr>\n",
       "    <tr>\n",
       "      <th>194</th>\n",
       "      <td>Interfascicular nucleus raphe</td>\n",
       "      <td>91</td>\n",
       "      <td>771227.455342</td>\n",
       "    </tr>\n",
       "    <tr>\n",
       "      <th>195</th>\n",
       "      <td>Interpeduncular nucleus</td>\n",
       "      <td>128</td>\n",
       "      <td>280178.459934</td>\n",
       "    </tr>\n",
       "    <tr>\n",
       "      <th>196</th>\n",
       "      <td>Rostral linear nucleus raphe</td>\n",
       "      <td>15</td>\n",
       "      <td>182749.088863</td>\n",
       "    </tr>\n",
       "    <tr>\n",
       "      <th>197</th>\n",
       "      <td>Central linear nucleus raphe</td>\n",
       "      <td>16</td>\n",
       "      <td>111310.871594</td>\n",
       "    </tr>\n",
       "    <tr>\n",
       "      <th>198</th>\n",
       "      <td>Dorsal nucleus raphe</td>\n",
       "      <td>46</td>\n",
       "      <td>208138.825364</td>\n",
       "    </tr>\n",
       "  </tbody>\n",
       "</table>\n",
       "<p>198 rows × 3 columns</p>\n",
       "</div>"
      ],
      "text/plain": [
       "                                area  n_cells         energy\n",
       "0       Frontal pole cerebral cortex      318  365810.876286\n",
       "1                 Primary motor area     1127  128468.748360\n",
       "2               Secondary motor area     1917  186030.709711\n",
       "3         Primary somatosensory area     1928  102481.558580\n",
       "4    Supplemental somatosensory area      357   52892.112970\n",
       "..                               ...      ...            ...\n",
       "194    Interfascicular nucleus raphe       91  771227.455342\n",
       "195          Interpeduncular nucleus      128  280178.459934\n",
       "196     Rostral linear nucleus raphe       15  182749.088863\n",
       "197     Central linear nucleus raphe       16  111310.871594\n",
       "198             Dorsal nucleus raphe       46  208138.825364\n",
       "\n",
       "[198 rows x 3 columns]"
      ]
     },
     "execution_count": 4,
     "metadata": {},
     "output_type": "execute_result"
    }
   ],
   "source": [
    "# removed key corresponding to SW21_Fam\n",
    "dict_results_across_mice.pop('SW21_Fam')"
   ]
  },
  {
   "cell_type": "code",
   "execution_count": 5,
   "metadata": {
    "ExecuteTime": {
     "end_time": "2023-05-29T12:50:06.788990Z",
     "start_time": "2023-05-29T12:50:05.371067Z"
    }
   },
   "outputs": [],
   "source": [
    "dict_results_across_mice = upls.reformat_dict_acronym(dict_results=dict_results_across_mice, volumes=volumes)"
   ]
  },
  {
   "cell_type": "markdown",
   "metadata": {
    "ExecuteTime": {
     "end_time": "2023-04-27T09:40:35.015950Z",
     "start_time": "2023-04-27T09:40:35.009945Z"
    }
   },
   "source": [
    "# Format data for task PLS"
   ]
  },
  {
   "cell_type": "code",
   "execution_count": 6,
   "metadata": {
    "ExecuteTime": {
     "end_time": "2023-05-29T12:50:06.897919Z",
     "start_time": "2023-05-29T12:50:06.790876Z"
    }
   },
   "outputs": [],
   "source": [
    "upls.format_data_pls(dict_results=dict_results_across_mice, batch=batch+'-150_10-10', table='n_cells')\n",
    "upls.format_data_pls(dict_results=dict_results_across_mice, batch=batch+'-150_10-10', table='energy')"
   ]
  },
  {
   "cell_type": "code",
   "execution_count": 7,
   "metadata": {
    "ExecuteTime": {
     "end_time": "2023-05-29T12:50:06.926735Z",
     "start_time": "2023-05-29T12:50:06.899367Z"
    }
   },
   "outputs": [],
   "source": [
    "data_ncells = pd.read_csv('./results_pls/'+batch+'-150_10-10_n_cells.csv')\n",
    "data_energy = pd.read_csv('./results_pls/'+batch+'-150_10-10_energy.csv')"
   ]
  },
  {
   "cell_type": "code",
   "execution_count": 8,
   "metadata": {
    "ExecuteTime": {
     "end_time": "2023-05-29T12:50:10.072474Z",
     "start_time": "2023-05-29T12:50:06.928186Z"
    }
   },
   "outputs": [],
   "source": [
    "df_levels = upls.create_df_levels(volumes)"
   ]
  },
  {
   "cell_type": "markdown",
   "metadata": {
    "ExecuteTime": {
     "end_time": "2023-04-27T10:25:06.309157Z",
     "start_time": "2023-04-27T10:25:06.272373Z"
    }
   },
   "source": [
    "# Apply task PLS for all areas and energy"
   ]
  },
  {
   "cell_type": "code",
   "execution_count": 9,
   "metadata": {
    "ExecuteTime": {
     "end_time": "2023-05-29T12:50:11.927724Z",
     "start_time": "2023-05-29T12:50:10.073615Z"
    }
   },
   "outputs": [
    {
     "name": "stderr",
     "output_type": "stream",
     "text": [
      "2023-05-29 14:50:11 PC1QFRRQ __main__[28792] INFO reading data...\n",
      "2023-05-29 14:50:11 PC1QFRRQ __main__[28792] INFO computing PLS...\n",
      "2023-05-29 14:50:11 PC1QFRRQ __main__[28792] INFO PLS computed, now performing bootstrap...\n",
      "2023-05-29 14:50:11 PC1QFRRQ __main__[28792] INFO saving output data...\n"
     ]
    }
   ],
   "source": [
    "%%bash\n",
    "python area_pls.py -i results_pls/SWISS_19-35-150_10-10_n_cells.csv -o './results_pls/SWISS_19-35-150_10-10'"
   ]
  },
  {
   "cell_type": "code",
   "execution_count": 10,
   "metadata": {
    "ExecuteTime": {
     "end_time": "2023-05-29T12:50:11.931646Z",
     "start_time": "2023-05-29T12:50:11.929459Z"
    },
    "code_folding": []
   },
   "outputs": [],
   "source": [
    "# %%bash\n",
    "# python area_pls.py -i results_pls/SWISS_19-35_energy.csv -o './'"
   ]
  },
  {
   "cell_type": "markdown",
   "metadata": {},
   "source": [
    "# Plot results"
   ]
  },
  {
   "cell_type": "code",
   "execution_count": 11,
   "metadata": {
    "ExecuteTime": {
     "end_time": "2023-05-29T12:50:11.951004Z",
     "start_time": "2023-05-29T12:50:11.933618Z"
    }
   },
   "outputs": [],
   "source": [
    "swiss_contrasts = pd.read_csv('./results_pls/SWISS_19-35-150_10-10_contrasts.csv')\n",
    "swiss_saliences = pd.read_csv('./results_pls/SWISS_19-35-150_10-10_saliences.csv')\n",
    "swiss_contrasts.columns = ['Control', 'Fam', 'Unfam']\n",
    "# swiss_contrasts = swiss_contrasts.rename(columns={\"group_Control\": \"Control\", \"group_Fam\": \"Fam\", \"group_Unfam\":\"Unfam\"})"
   ]
  },
  {
   "cell_type": "code",
   "execution_count": 12,
   "metadata": {
    "ExecuteTime": {
     "end_time": "2023-05-29T12:50:12.454897Z",
     "start_time": "2023-05-29T12:50:11.953103Z"
    }
   },
   "outputs": [
    {
     "data": {
      "image/png": "[encoded data removed]",
      "text/plain": [
       "<Figure size 720x360 with 3 Axes>"
      ]
     },
     "metadata": {
      "needs_background": "light"
     },
     "output_type": "display_data"
    }
   ],
   "source": [
    "fig, axes = plt.subplots(1,3, sharey='row', figsize=(10,5))\n",
    "upls.plot_contrasts(df_data=swiss_contrasts, index=0, ax=axes[0])\n",
    "upls.plot_contrasts(df_data=swiss_contrasts, index=1, ax=axes[1])\n",
    "upls.plot_contrasts(df_data=swiss_contrasts, index=2, ax=axes[2])\n",
    "axes[0].set_ylabel('Contrast')\n",
    "axes[1].set_ylabel('')\n",
    "axes[2].set_ylabel('')\n",
    "axes[0].tick_params(axis='x', labelrotation=90)\n",
    "axes[1].tick_params(axis='x', labelrotation=90)\n",
    "axes[2].tick_params(axis='x', labelrotation=90)\n",
    "axes[0].set_title('First contrast')\n",
    "axes[1].set_title('Second contrast')\n",
    "axes[2].set_title('Third contrast')\n",
    "for i in range(3):\n",
    "    axes[i].set(xlabel=None)\n",
    "plt.tight_layout()\n",
    "plt.savefig('./results_pls/swiss_19-35-150_10-10_pls_contrasts_all_areas.png')\n",
    "plt.savefig('./results_pls/swiss_19-35-150_10-10_pls_contrasts_all_areas.png')"
   ]
  },
  {
   "cell_type": "code",
   "execution_count": 13,
   "metadata": {
    "ExecuteTime": {
     "end_time": "2023-05-29T12:50:29.197007Z",
     "start_time": "2023-05-29T12:50:12.456003Z"
    },
    "scrolled": false
   },
   "outputs": [
    {
     "data": {
      "image/png": "[encoded data removed]",
      "text/plain": [
       "<Figure size 936x504 with 3 Axes>"
      ]
     },
     "metadata": {
      "needs_background": "light"
     },
     "output_type": "display_data"
    }
   ],
   "source": [
    "fig, axes = plt.subplots(3,1, sharex='row', figsize=(13,7))\n",
    "plt.subplots_adjust(top=0.9, left=0.03, right=0.8)\n",
    "upls.plot_saliences(df_data=swiss_saliences, index=0, ax=axes[0], df_levels=df_levels)\n",
    "upls.plot_saliences(df_data=swiss_saliences, index=1, ax=axes[1], df_levels=df_levels)\n",
    "upls.plot_saliences(df_data=swiss_saliences, index=2, ax=axes[2], df_levels=df_levels)\n",
    "axes[0].tick_params(axis='x', labelrotation=90)\n",
    "axes[1].tick_params(axis='x', labelrotation=90)\n",
    "axes[2].tick_params(axis='x', labelrotation=90)\n",
    "axes[0].set_xlabel('')\n",
    "axes[0].set(xticklabels=[])\n",
    "axes[0].set_ylim(0,10)\n",
    "axes[1].set_xlabel('')\n",
    "axes[1].set(xticklabels=[])\n",
    "axes[0].set_title('First salience')\n",
    "axes[1].set_title('Second salience')\n",
    "axes[2].set_title('Third salience')\n",
    "axes[2].set_xlabel('Area')\n",
    "axes[0].legend(loc='right', bbox_to_anchor=(1.25,0.3))\n",
    "axes[1].get_legend().remove()\n",
    "axes[2].get_legend().remove()\n",
    "n = 4  # Keeps every 7th label\n",
    "for i in range(3):\n",
    "    axes[i].axhline(y=1.96, linestyle='-.', color='darkgrey')\n",
    "    axes[i].axhline(y=-1.96, linestyle='-.', color='darkgrey')\n",
    "    [l.set_visible(False) for (i,l) in enumerate(axes[i].xaxis.get_ticklabels()) if i % n != 0]\n",
    "plt.savefig('./results_pls/swiss_19-35-150_10-10_pls_saliences_all_areas.png')\n",
    "plt.savefig('./results_pls/swiss_19-35-150_10-10_pls_saliences_all_areas.svg')"
   ]
  },
  {
   "cell_type": "markdown",
   "metadata": {},
   "source": [
    "# Identify areas with significant salience contribution"
   ]
  },
  {
   "cell_type": "code",
   "execution_count": 14,
   "metadata": {
    "ExecuteTime": {
     "end_time": "2023-05-29T12:50:29.219437Z",
     "start_time": "2023-05-29T12:50:29.199147Z"
    }
   },
   "outputs": [],
   "source": [
    "pls_sig_areas = upls.identify_pls_sig_areas(saliences=swiss_saliences, \n",
    "                                       threshold=1.96, \n",
    "                                       volumes=volumes)"
   ]
  },
  {
   "cell_type": "code",
   "execution_count": 15,
   "metadata": {
    "ExecuteTime": {
     "end_time": "2023-05-29T12:50:29.233908Z",
     "start_time": "2023-05-29T12:50:29.221600Z"
    }
   },
   "outputs": [
    {
     "data": {
      "text/plain": [
       "array(['Accessory olfactory bulb', 'Agranular insular area',\n",
       "       'Bed nuclei of the stria terminalis', 'Infralimbic area',\n",
       "       'Interfascicular nucleus raphe', 'Lateral hypothalamic area',\n",
       "       'Main olfactory bulb', 'Medial amygdalar nucleus',\n",
       "       'Periventricular hypothalamic nucleus posterior part',\n",
       "       'Piriform area', 'Posterior amygdalar nucleus',\n",
       "       'Submedial nucleus of the thalamus',\n",
       "       'Superior colliculus sensory related',\n",
       "       'Ventral premammillary nucleus'], dtype='<U51')"
      ]
     },
     "execution_count": 15,
     "metadata": {},
     "output_type": "execute_result"
    }
   ],
   "source": [
    "pls_sig_areas"
   ]
  },
  {
   "cell_type": "markdown",
   "metadata": {},
   "source": [
    "# Apply PLS for all significant areas in ncells and energy"
   ]
  },
  {
   "cell_type": "code",
   "execution_count": 16,
   "metadata": {
    "ExecuteTime": {
     "end_time": "2023-05-29T12:50:30.342311Z",
     "start_time": "2023-05-29T12:50:29.235945Z"
    }
   },
   "outputs": [],
   "source": [
    "# select significant areas\n",
    "experimental_groups = utils.divide_in_exp_groups(list_subjects=list(dict_results_across_mice.keys()))\n",
    "df_control_cell_count, df_fam_cell_count, df_unfam_cell_count = \\\n",
    "ace.calculate_value_across_groups(experimental_groups=experimental_groups, \n",
    "                              dict_results_across_mice=dict_results_across_mice, \n",
    "                              value='n_cells')\n",
    "df_ttest_ncells = ace.test_across_groups(df_control=df_control_cell_count, \n",
    "                               df_fam=df_fam_cell_count, \n",
    "                               df_unfam=df_unfam_cell_count)\n",
    "df_ttest_not_null_ncells = df_ttest_ncells.dropna(axis=0,\n",
    "                                   how='all',\n",
    "                                   subset=['pval_Control_vs_Fam',\n",
    "                                          'pval_Control_vs_Unfam',\n",
    "                                          'pval_Fam_vs_Unfam'])\n",
    "sig_areas_ncells_ttest = upls.select_significant_areas(df=df_ttest_not_null_ncells, threshold=0.05)\n",
    "# get corresponding acronyms of these areas\n",
    "sig_acronyms = [volumes.loc[volumes['safe_name'] == area]['acronym'].values[0] for area in sig_areas_ncells_ttest]\n",
    "# remove columns from database\n",
    "keep_columns = ['subject', 'sex', 'group'] + sig_acronyms\n",
    "# make database filtered\n",
    "data_ncells_filt = data_ncells.drop(columns=[col for col in data_ncells if col not in keep_columns])\n",
    "data_energy_filt = data_energy.drop(columns=[col for col in data_energy if col not in keep_columns])\n",
    "data_ncells_filt.to_csv('./results_pls/'+batch+'-150_10-10_n_cells_filt.csv')\n",
    "data_energy_filt.to_csv('./results_pls/'+batch+'-150_10-10_energy_filt.csv')"
   ]
  },
  {
   "cell_type": "code",
   "execution_count": 17,
   "metadata": {
    "ExecuteTime": {
     "end_time": "2023-05-29T12:50:32.035810Z",
     "start_time": "2023-05-29T12:50:30.343456Z"
    }
   },
   "outputs": [
    {
     "name": "stderr",
     "output_type": "stream",
     "text": [
      "2023-05-29 14:50:31 PC1QFRRQ __main__[28812] INFO reading data...\n",
      "2023-05-29 14:50:31 PC1QFRRQ __main__[28812] INFO computing PLS...\n",
      "2023-05-29 14:50:31 PC1QFRRQ __main__[28812] INFO PLS computed, now performing bootstrap...\n",
      "2023-05-29 14:50:31 PC1QFRRQ __main__[28812] INFO saving output data...\n"
     ]
    }
   ],
   "source": [
    "%%bash\n",
    "python area_pls.py -i results_pls/SWISS_19-35-150_10-10_n_cells_filt.csv -o './results_pls/SWISS_19-35-150_10-10_filt_ncells'"
   ]
  },
  {
   "cell_type": "code",
   "execution_count": 18,
   "metadata": {
    "ExecuteTime": {
     "end_time": "2023-05-29T12:50:33.786937Z",
     "start_time": "2023-05-29T12:50:32.039717Z"
    }
   },
   "outputs": [
    {
     "name": "stderr",
     "output_type": "stream",
     "text": [
      "2023-05-29 14:50:33 PC1QFRRQ __main__[28817] INFO reading data...\n",
      "2023-05-29 14:50:33 PC1QFRRQ __main__[28817] INFO computing PLS...\n",
      "2023-05-29 14:50:33 PC1QFRRQ __main__[28817] INFO PLS computed, now performing bootstrap...\n",
      "2023-05-29 14:50:33 PC1QFRRQ __main__[28817] INFO saving output data...\n"
     ]
    }
   ],
   "source": [
    "%%bash\n",
    "python area_pls.py -i results_pls/SWISS_19-35-150_10-10_energy_filt.csv -o './results_pls/SWISS_19-35-150_10-10_filt_energy'"
   ]
  },
  {
   "cell_type": "markdown",
   "metadata": {},
   "source": [
    "# PLS on ncells"
   ]
  },
  {
   "cell_type": "code",
   "execution_count": 19,
   "metadata": {
    "ExecuteTime": {
     "end_time": "2023-05-29T12:50:33.798476Z",
     "start_time": "2023-05-29T12:50:33.790137Z"
    }
   },
   "outputs": [],
   "source": [
    "swiss_contrasts_filt = pd.read_csv('./results_pls/SWISS_19-35-150_10-10_filt_ncells_contrasts.csv')\n",
    "swiss_saliences_filt = pd.read_csv('./results_pls/SWISS_19-35-150_10-10_filt_ncells_saliences.csv')\n",
    "swiss_contrasts_filt.columns = ['Control', 'Fam', 'Unfam']"
   ]
  },
  {
   "cell_type": "code",
   "execution_count": 20,
   "metadata": {
    "ExecuteTime": {
     "end_time": "2023-05-29T12:50:34.228927Z",
     "start_time": "2023-05-29T12:50:33.799851Z"
    }
   },
   "outputs": [
    {
     "data": {
      "image/png": "[encoded data removed]",
      "text/plain": [
       "<Figure size 720x360 with 3 Axes>"
      ]
     },
     "metadata": {
      "needs_background": "light"
     },
     "output_type": "display_data"
    }
   ],
   "source": [
    "fig, axes = plt.subplots(1,3, sharey='row', figsize=(10,5))\n",
    "upls.plot_contrasts(df_data=swiss_contrasts_filt, index=0, ax=axes[0])\n",
    "upls.plot_contrasts(df_data=swiss_contrasts_filt, index=1, ax=axes[1])\n",
    "upls.plot_contrasts(df_data=swiss_contrasts_filt, index=2, ax=axes[2])\n",
    "axes[1].set_ylabel('')\n",
    "axes[2].set_ylabel('')\n",
    "axes[0].tick_params(axis='x', labelrotation=90)\n",
    "axes[1].tick_params(axis='x', labelrotation=90)\n",
    "axes[2].tick_params(axis='x', labelrotation=90)\n",
    "axes[0].set_title('First contrast')\n",
    "axes[1].set_title('Second contrast')\n",
    "axes[2].set_title('Third contrast')\n",
    "for i in range(3):\n",
    "    axes[i].set(xlabel=None)\n",
    "plt.tight_layout()\n",
    "plt.savefig('./results_pls/swiss_19-35-150_10-10_pls_contrasts_sig_areas_ncells.png')"
   ]
  },
  {
   "cell_type": "code",
   "execution_count": 21,
   "metadata": {
    "ExecuteTime": {
     "end_time": "2023-05-29T12:50:36.104053Z",
     "start_time": "2023-05-29T12:50:34.230150Z"
    }
   },
   "outputs": [
    {
     "data": {
      "image/png": "[encoded data removed]",
      "text/plain": [
       "<Figure size 936x504 with 3 Axes>"
      ]
     },
     "metadata": {
      "needs_background": "light"
     },
     "output_type": "display_data"
    }
   ],
   "source": [
    "fig, axes = plt.subplots(3,1, sharex='row', figsize=(13,7))\n",
    "plt.subplots_adjust(top=0.9, left=0.03, right=0.8)\n",
    "upls.plot_saliences(df_data=swiss_saliences_filt, index=0, ax=axes[0], df_levels=df_levels)\n",
    "upls.plot_saliences(df_data=swiss_saliences_filt, index=1, ax=axes[1], df_levels=df_levels)\n",
    "upls.plot_saliences(df_data=swiss_saliences_filt, index=2, ax=axes[2], df_levels=df_levels)\n",
    "axes[0].tick_params(axis='x', labelrotation=90)\n",
    "axes[1].tick_params(axis='x', labelrotation=90)\n",
    "axes[2].tick_params(axis='x', labelrotation=90)\n",
    "axes[0].set_xlabel('')\n",
    "axes[0].set(xticklabels=[])\n",
    "axes[0].set_ylim(-20,5)\n",
    "axes[1].set_xlabel('')\n",
    "axes[1].set(xticklabels=[])\n",
    "axes[0].set_title('First salience')\n",
    "axes[1].set_title('Second salience')\n",
    "axes[2].set_title('Third salience')\n",
    "axes[2].set_xlabel('Area')\n",
    "axes[0].legend(loc='right', bbox_to_anchor=(1.25,0.3))\n",
    "axes[1].get_legend().remove()\n",
    "axes[2].get_legend().remove()\n",
    "n = 4  # Keeps every 7th label\n",
    "for i in range(3):\n",
    "    axes[i].axhline(y=1.96, linestyle='-.', color='darkgrey')\n",
    "    axes[i].axhline(y=-1.96, linestyle='-.', color='darkgrey')\n",
    "plt.savefig('./results_pls/swiss_pls_150_10-10_saliences_sig_areas_ncells.png')\n",
    "plt.savefig('./results_pls/swiss_pls_150_10-10_saliences_sig_areas_ncells.svg')"
   ]
  },
  {
   "cell_type": "markdown",
   "metadata": {},
   "source": [
    "# PLS on energy"
   ]
  },
  {
   "cell_type": "code",
   "execution_count": 22,
   "metadata": {
    "ExecuteTime": {
     "end_time": "2023-05-29T12:50:36.110543Z",
     "start_time": "2023-05-29T12:50:36.105231Z"
    }
   },
   "outputs": [],
   "source": [
    "swiss_contrasts_filt = pd.read_csv('./results_pls/SWISS_19-35-150_10-10_filt_energy_contrasts.csv')\n",
    "swiss_saliences_filt = pd.read_csv('./results_pls/SWISS_19-35-150_10-10_filt_energy_saliences.csv')\n",
    "swiss_contrasts_filt.columns = ['Control', 'Fam', 'Unfam']"
   ]
  },
  {
   "cell_type": "code",
   "execution_count": 23,
   "metadata": {
    "ExecuteTime": {
     "end_time": "2023-05-29T12:50:36.496917Z",
     "start_time": "2023-05-29T12:50:36.111609Z"
    }
   },
   "outputs": [
    {
     "data": {
      "image/png": "[encoded data removed]",
      "text/plain": [
       "<Figure size 720x360 with 3 Axes>"
      ]
     },
     "metadata": {
      "needs_background": "light"
     },
     "output_type": "display_data"
    }
   ],
   "source": [
    "fig, axes = plt.subplots(1,3, sharey='row', figsize=(10,5))\n",
    "upls.plot_contrasts(df_data=swiss_contrasts_filt, index=0, ax=axes[0])\n",
    "upls.plot_contrasts(df_data=swiss_contrasts_filt, index=1, ax=axes[1])\n",
    "upls.plot_contrasts(df_data=swiss_contrasts_filt, index=2, ax=axes[2])\n",
    "axes[1].set_ylabel('')\n",
    "axes[2].set_ylabel('')\n",
    "axes[0].tick_params(axis='x', labelrotation=90)\n",
    "axes[1].tick_params(axis='x', labelrotation=90)\n",
    "axes[2].tick_params(axis='x', labelrotation=90)\n",
    "axes[0].set_title('First contrast')\n",
    "axes[1].set_title('Second contrast')\n",
    "axes[2].set_title('Third contrast')\n",
    "for i in range(3):\n",
    "    axes[i].set(xlabel=None)\n",
    "plt.tight_layout()\n",
    "plt.savefig('./results_pls/swiss_19-35-150_10-10_pls_contrasts_sig_areas_energy.png')"
   ]
  },
  {
   "cell_type": "code",
   "execution_count": 24,
   "metadata": {
    "ExecuteTime": {
     "end_time": "2023-05-29T12:50:37.942279Z",
     "start_time": "2023-05-29T12:50:36.498232Z"
    }
   },
   "outputs": [
    {
     "data": {
      "image/png": "[encoded data removed]",
      "text/plain": [
       "<Figure size 936x504 with 3 Axes>"
      ]
     },
     "metadata": {
      "needs_background": "light"
     },
     "output_type": "display_data"
    }
   ],
   "source": [
    "fig, axes = plt.subplots(3,1, sharex='row', figsize=(13,7))\n",
    "plt.subplots_adjust(top=0.9, left=0.03, right=0.8)\n",
    "upls.plot_saliences(df_data=swiss_saliences_filt, index=0, ax=axes[0], df_levels=df_levels)\n",
    "upls.plot_saliences(df_data=swiss_saliences_filt, index=1, ax=axes[1], df_levels=df_levels)\n",
    "upls.plot_saliences(df_data=swiss_saliences_filt, index=2, ax=axes[2], df_levels=df_levels)\n",
    "axes[0].tick_params(axis='x', labelrotation=90)\n",
    "axes[1].tick_params(axis='x', labelrotation=90)\n",
    "axes[2].tick_params(axis='x', labelrotation=90)\n",
    "axes[0].set_xlabel('')\n",
    "axes[0].set(xticklabels=[])\n",
    "axes[0].set_ylim(-20,5)\n",
    "axes[1].set_xlabel('')\n",
    "axes[1].set(xticklabels=[])\n",
    "axes[0].set_title('First salience')\n",
    "axes[1].set_title('Second salience')\n",
    "axes[2].set_title('Third salience')\n",
    "axes[2].set_xlabel('Area')\n",
    "axes[0].legend(loc='right', bbox_to_anchor=(1.25,0.3))\n",
    "axes[1].get_legend().remove()\n",
    "axes[2].get_legend().remove()\n",
    "n = 4  # Keeps every 7th label\n",
    "for i in range(3):\n",
    "    axes[i].axhline(y=1.96, linestyle='-.', color='darkgrey')\n",
    "    axes[i].axhline(y=-1.96, linestyle='-.', color='darkgrey')\n",
    "plt.savefig('./results_pls/swiss_pls_150_10-10_saliences_sig_areas_energy.png')\n",
    "plt.savefig('./results_pls/swiss_pls_150_10-10_saliences_sig_areas_energy.svg')"
   ]
  },
  {
   "cell_type": "markdown",
   "metadata": {},
   "source": [
    "# Identify areas with significant salience contribution"
   ]
  },
  {
   "cell_type": "code",
   "execution_count": 25,
   "metadata": {
    "ExecuteTime": {
     "end_time": "2023-05-29T12:50:37.952580Z",
     "start_time": "2023-05-29T12:50:37.943642Z"
    }
   },
   "outputs": [
    {
     "data": {
      "text/plain": [
       "array(['Medial amygdalar nucleus', 'Parastrial nucleus',\n",
       "       'Posterior amygdalar nucleus', 'Submedial nucleus of the thalamus',\n",
       "       'Ventral premammillary nucleus'], dtype='<U33')"
      ]
     },
     "execution_count": 25,
     "metadata": {},
     "output_type": "execute_result"
    }
   ],
   "source": [
    "pls_sig_areas_filt = upls.identify_pls_sig_areas(saliences=swiss_saliences_filt, \n",
    "                                       threshold=1.96, \n",
    "                                       volumes=volumes)\n",
    "pls_sig_areas_filt"
   ]
  },
  {
   "cell_type": "code",
   "execution_count": null,
   "metadata": {},
   "outputs": [],
   "source": []
  },
  {
   "cell_type": "code",
   "execution_count": null,
   "metadata": {},
   "outputs": [],
   "source": []
  },
  {
   "cell_type": "code",
   "execution_count": null,
   "metadata": {},
   "outputs": [],
   "source": []
  },
  {
   "cell_type": "code",
   "execution_count": null,
   "metadata": {},
   "outputs": [],
   "source": []
  }
 ],
 "metadata": {
  "kernelspec": {
   "display_name": "ClearMap",
   "language": "python",
   "name": "clearmap"
  },
  "language_info": {
   "codemirror_mode": {
    "name": "ipython",
    "version": 3
   },
   "file_extension": ".py",
   "mimetype": "text/x-python",
   "name": "python",
   "nbconvert_exporter": "python",
   "pygments_lexer": "ipython3",
   "version": "3.8.1"
  },
  "latex_envs": {
   "LaTeX_envs_menu_present": true,
   "autoclose": false,
   "autocomplete": true,
   "bibliofile": "biblio.bib",
   "cite_by": "apalike",
   "current_citInitial": 1,
   "eqLabelWithNumbers": true,
   "eqNumInitial": 1,
   "hotkeys": {
    "equation": "Ctrl-E",
    "itemize": "Ctrl-I"
   },
   "labels_anchors": false,
   "latex_user_defs": false,
   "report_style_numbering": false,
   "user_envs_cfg": false
  },
  "toc": {
   "nav_menu": {},
   "number_sections": true,
   "sideBar": true,
   "skip_h1_title": false,
   "title_cell": "Table of Contents",
   "title_sidebar": "Contents",
   "toc_cell": false,
   "toc_position": {},
   "toc_section_display": true,
   "toc_window_display": false
  },
  "varInspector": {
   "cols": {
    "lenName": 16,
    "lenType": 16,
    "lenVar": 40
   },
   "kernels_config": {
    "python": {
     "delete_cmd_postfix": "",
     "delete_cmd_prefix": "del ",
     "library": "var_list.py",
     "varRefreshCmd": "print(var_dic_list())"
    },
    "r": {
     "delete_cmd_postfix": ") ",
     "delete_cmd_prefix": "rm(",
     "library": "var_list.r",
     "varRefreshCmd": "cat(var_dic_list()) "
    }
   },
   "types_to_exclude": [
    "module",
    "function",
    "builtin_function_or_method",
    "instance",
    "_Feature"
   ],
   "window_display": false
  }
 },
 "nbformat": 4,
 "nbformat_minor": 4
}
