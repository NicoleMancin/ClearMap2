{
 "cells": [
  {
   "cell_type": "code",
   "execution_count": 6,
   "metadata": {
    "ExecuteTime": {
     "end_time": "2023-08-29T13:57:16.084877Z",
     "start_time": "2023-08-29T13:57:16.081529Z"
    }
   },
   "outputs": [],
   "source": [
    "import numpy as np\n",
    "import matplotlib.pyplot as plt\n",
    "import pandas as pd\n",
    "import analyze_cells_energy as ace\n",
    "import re\n",
    "import utils\n",
    "import itertools\n",
    "import seaborn as sns\n",
    "import utils_PLS as upls"
   ]
  },
  {
   "cell_type": "code",
   "execution_count": 7,
   "metadata": {
    "ExecuteTime": {
     "end_time": "2023-08-29T13:57:16.473620Z",
     "start_time": "2023-08-29T13:57:16.438012Z"
    }
   },
   "outputs": [],
   "source": [
    "# load query file where we added volumes for each area\n",
    "volumes = pd.read_csv(\"query_volumes_reordered.csv\")\n",
    "volumes = ace.clean_volumes_database(volumes)"
   ]
  },
  {
   "cell_type": "code",
   "execution_count": 8,
   "metadata": {
    "ExecuteTime": {
     "end_time": "2023-08-29T13:57:16.718275Z",
     "start_time": "2023-08-29T13:57:16.702151Z"
    }
   },
   "outputs": [],
   "source": [
    "root_directory = '/home/stella/Documents/Torino/projects/'\n",
    "experiment = 'SexualImprinting'\n",
    "experimental_group = 'WILD_without_father'\n",
    "batch='WILD_without_father'\n",
    "data_directory = root_directory + experiment + '/' \\\n",
    "                + experimental_group + '/'\n",
    "dict_results_across_mice = np.load('dict_results/dict_results_across_mice_WILD_without_father.npy', \n",
    "                                   allow_pickle=True).item()"
   ]
  },
  {
   "cell_type": "code",
   "execution_count": 9,
   "metadata": {
    "ExecuteTime": {
     "end_time": "2023-08-29T13:57:18.819483Z",
     "start_time": "2023-08-29T13:57:16.919711Z"
    }
   },
   "outputs": [],
   "source": [
    "dict_results_across_mice = upls.reformat_dict_acronym(dict_results=dict_results_across_mice, volumes=volumes)"
   ]
  },
  {
   "cell_type": "code",
   "execution_count": 10,
   "metadata": {
    "ExecuteTime": {
     "end_time": "2023-08-29T13:57:19.032359Z",
     "start_time": "2023-08-29T13:57:19.017604Z"
    }
   },
   "outputs": [
    {
     "data": {
      "text/html": [
       "<div>\n",
       "<style scoped>\n",
       "    .dataframe tbody tr th:only-of-type {\n",
       "        vertical-align: middle;\n",
       "    }\n",
       "\n",
       "    .dataframe tbody tr th {\n",
       "        vertical-align: top;\n",
       "    }\n",
       "\n",
       "    .dataframe thead th {\n",
       "        text-align: right;\n",
       "    }\n",
       "</style>\n",
       "<table border=\"1\" class=\"dataframe\">\n",
       "  <thead>\n",
       "    <tr style=\"text-align: right;\">\n",
       "      <th></th>\n",
       "      <th>area</th>\n",
       "      <th>n_cells</th>\n",
       "      <th>energy</th>\n",
       "      <th>acronym</th>\n",
       "    </tr>\n",
       "  </thead>\n",
       "  <tbody>\n",
       "    <tr>\n",
       "      <th>0</th>\n",
       "      <td>Frontal pole cerebral cortex</td>\n",
       "      <td>1331</td>\n",
       "      <td>9.834693e+06</td>\n",
       "      <td>FRP</td>\n",
       "    </tr>\n",
       "    <tr>\n",
       "      <th>1</th>\n",
       "      <td>Primary motor area</td>\n",
       "      <td>20516</td>\n",
       "      <td>2.297828e+07</td>\n",
       "      <td>MOp</td>\n",
       "    </tr>\n",
       "    <tr>\n",
       "      <th>2</th>\n",
       "      <td>Secondary motor area</td>\n",
       "      <td>19756</td>\n",
       "      <td>1.621197e+07</td>\n",
       "      <td>MOs</td>\n",
       "    </tr>\n",
       "    <tr>\n",
       "      <th>3</th>\n",
       "      <td>Primary somatosensory area</td>\n",
       "      <td>38794</td>\n",
       "      <td>2.225734e+07</td>\n",
       "      <td>SSp</td>\n",
       "    </tr>\n",
       "    <tr>\n",
       "      <th>4</th>\n",
       "      <td>Supplemental somatosensory area</td>\n",
       "      <td>10447</td>\n",
       "      <td>1.546999e+07</td>\n",
       "      <td>SSs</td>\n",
       "    </tr>\n",
       "    <tr>\n",
       "      <th>...</th>\n",
       "      <td>...</td>\n",
       "      <td>...</td>\n",
       "      <td>...</td>\n",
       "      <td>...</td>\n",
       "    </tr>\n",
       "    <tr>\n",
       "      <th>194</th>\n",
       "      <td>Interfascicular nucleus raphe</td>\n",
       "      <td>31</td>\n",
       "      <td>1.550317e+06</td>\n",
       "      <td>IF</td>\n",
       "    </tr>\n",
       "    <tr>\n",
       "      <th>195</th>\n",
       "      <td>Interpeduncular nucleus</td>\n",
       "      <td>292</td>\n",
       "      <td>3.518704e+06</td>\n",
       "      <td>IPN</td>\n",
       "    </tr>\n",
       "    <tr>\n",
       "      <th>196</th>\n",
       "      <td>Rostral linear nucleus raphe</td>\n",
       "      <td>0</td>\n",
       "      <td>0.000000e+00</td>\n",
       "      <td>RL</td>\n",
       "    </tr>\n",
       "    <tr>\n",
       "      <th>197</th>\n",
       "      <td>Central linear nucleus raphe</td>\n",
       "      <td>34</td>\n",
       "      <td>1.607109e+06</td>\n",
       "      <td>CLI</td>\n",
       "    </tr>\n",
       "    <tr>\n",
       "      <th>198</th>\n",
       "      <td>Dorsal nucleus raphe</td>\n",
       "      <td>19</td>\n",
       "      <td>3.679626e+05</td>\n",
       "      <td>DR</td>\n",
       "    </tr>\n",
       "  </tbody>\n",
       "</table>\n",
       "<p>198 rows × 4 columns</p>\n",
       "</div>"
      ],
      "text/plain": [
       "                                area  n_cells        energy acronym\n",
       "0       Frontal pole cerebral cortex     1331  9.834693e+06     FRP\n",
       "1                 Primary motor area    20516  2.297828e+07     MOp\n",
       "2               Secondary motor area    19756  1.621197e+07     MOs\n",
       "3         Primary somatosensory area    38794  2.225734e+07     SSp\n",
       "4    Supplemental somatosensory area    10447  1.546999e+07     SSs\n",
       "..                               ...      ...           ...     ...\n",
       "194    Interfascicular nucleus raphe       31  1.550317e+06      IF\n",
       "195          Interpeduncular nucleus      292  3.518704e+06     IPN\n",
       "196     Rostral linear nucleus raphe        0  0.000000e+00      RL\n",
       "197     Central linear nucleus raphe       34  1.607109e+06     CLI\n",
       "198             Dorsal nucleus raphe       19  3.679626e+05      DR\n",
       "\n",
       "[198 rows x 4 columns]"
      ]
     },
     "execution_count": 10,
     "metadata": {},
     "output_type": "execute_result"
    }
   ],
   "source": [
    "# remove unclean data\n",
    "dict_results_across_mice.pop('W35Unfam')"
   ]
  },
  {
   "cell_type": "markdown",
   "metadata": {
    "ExecuteTime": {
     "end_time": "2023-04-27T09:40:35.015950Z",
     "start_time": "2023-04-27T09:40:35.009945Z"
    }
   },
   "source": [
    "# Format data for task PLS"
   ]
  },
  {
   "cell_type": "code",
   "execution_count": 11,
   "metadata": {
    "ExecuteTime": {
     "end_time": "2023-08-29T13:57:23.538013Z",
     "start_time": "2023-08-29T13:57:23.394750Z"
    }
   },
   "outputs": [],
   "source": [
    "upls.format_data_pls(dict_results=dict_results_across_mice, batch=batch, table='n_cells')\n",
    "upls.format_data_pls(dict_results=dict_results_across_mice, batch=batch, table='energy')"
   ]
  },
  {
   "cell_type": "code",
   "execution_count": 12,
   "metadata": {
    "ExecuteTime": {
     "end_time": "2023-08-29T13:57:23.734289Z",
     "start_time": "2023-08-29T13:57:23.710041Z"
    }
   },
   "outputs": [],
   "source": [
    "data_ncells = pd.read_csv('./results_pls/'+batch+'_n_cells.csv')\n",
    "data_energy = pd.read_csv('./results_pls/'+batch+'_energy.csv')"
   ]
  },
  {
   "cell_type": "markdown",
   "metadata": {},
   "source": [
    "# Format data for hierarchy plotting"
   ]
  },
  {
   "cell_type": "code",
   "execution_count": 13,
   "metadata": {
    "ExecuteTime": {
     "end_time": "2023-08-29T13:57:27.809448Z",
     "start_time": "2023-08-29T13:57:24.689012Z"
    }
   },
   "outputs": [],
   "source": [
    "df_levels = upls.create_df_levels(volumes)"
   ]
  },
  {
   "cell_type": "markdown",
   "metadata": {
    "ExecuteTime": {
     "end_time": "2023-04-27T10:25:06.309157Z",
     "start_time": "2023-04-27T10:25:06.272373Z"
    }
   },
   "source": [
    "# Apply task PLS for all areas and energy"
   ]
  },
  {
   "cell_type": "code",
   "execution_count": 14,
   "metadata": {
    "ExecuteTime": {
     "end_time": "2023-08-29T13:57:29.835136Z",
     "start_time": "2023-08-29T13:57:28.032221Z"
    }
   },
   "outputs": [
    {
     "name": "stderr",
     "output_type": "stream",
     "text": [
      "2023-08-29 15:57:29 PC1QFRRQ __main__[41750] INFO reading data...\n",
      "2023-08-29 15:57:29 PC1QFRRQ __main__[41750] INFO computing PLS...\n",
      "2023-08-29 15:57:29 PC1QFRRQ __main__[41750] INFO PLS computed, now performing bootstrap...\n",
      "2023-08-29 15:57:29 PC1QFRRQ __main__[41750] INFO saving output data...\n"
     ]
    }
   ],
   "source": [
    "%%bash\n",
    "python area_pls.py -i results_pls/WILD_without_father_n_cells.csv -o './results_pls/WILD_without_father'"
   ]
  },
  {
   "cell_type": "code",
   "execution_count": 10,
   "metadata": {
    "ExecuteTime": {
     "end_time": "2023-08-15T16:32:35.949898Z",
     "start_time": "2023-08-15T16:32:35.947766Z"
    },
    "code_folding": []
   },
   "outputs": [],
   "source": [
    "# %%bash\n",
    "# python area_pls.py -i results_pls/WILD_without_father_energy.csv -o './results_pls/WILD_without_father_energy'"
   ]
  },
  {
   "cell_type": "markdown",
   "metadata": {},
   "source": [
    "# Plot results"
   ]
  },
  {
   "cell_type": "code",
   "execution_count": 15,
   "metadata": {
    "ExecuteTime": {
     "end_time": "2023-08-29T13:57:37.140885Z",
     "start_time": "2023-08-29T13:57:37.127796Z"
    }
   },
   "outputs": [],
   "source": [
    "contrasts = pd.read_csv('./results_pls/WILD_without_father_contrasts.csv')\n",
    "saliences = pd.read_csv('./results_pls/WILD_without_father_saliences.csv')\n",
    "contrasts = contrasts.rename(columns={\"group_Control\": \"Control\", \"group_Fam\": \"Fam\", \"group_Unfam\":\"Unfam\"})"
   ]
  },
  {
   "cell_type": "code",
   "execution_count": 16,
   "metadata": {
    "ExecuteTime": {
     "end_time": "2023-08-29T13:57:39.112915Z",
     "start_time": "2023-08-29T13:57:38.651328Z"
    }
   },
   "outputs": [
    {
     "data": {
      "image/png": "[encoded data removed]",
      "text/plain": [
       "<Figure size 720x360 with 3 Axes>"
      ]
     },
     "metadata": {
      "needs_background": "light"
     },
     "output_type": "display_data"
    }
   ],
   "source": [
    "fig, axes = plt.subplots(1,3, sharey='row', figsize=(10,5))\n",
    "upls.plot_contrasts(df_data=contrasts, index=0, ax=axes[0])\n",
    "upls.plot_contrasts(df_data=contrasts, index=1, ax=axes[1])\n",
    "upls.plot_contrasts(df_data=contrasts, index=2, ax=axes[2])\n",
    "axes[0].set_ylabel('Contrast')\n",
    "axes[1].set_ylabel('')\n",
    "axes[2].set_ylabel('')\n",
    "axes[0].tick_params(axis='x', labelrotation=90)\n",
    "axes[1].tick_params(axis='x', labelrotation=90)\n",
    "axes[2].tick_params(axis='x', labelrotation=90)\n",
    "axes[0].set_title('First contrast')\n",
    "axes[1].set_title('Second contrast')\n",
    "axes[2].set_title('Third contrast')\n",
    "for i in range(3):\n",
    "    axes[i].set(xlabel=None)\n",
    "plt.tight_layout()\n",
    "plt.savefig('./results_pls/WILD_without_father_pls_contrasts_all_areas.png')\n",
    "plt.savefig('./results_pls/WILD_without_father_pls_contrasts_all_areas.svg')"
   ]
  },
  {
   "cell_type": "code",
   "execution_count": 30,
   "metadata": {
    "ExecuteTime": {
     "end_time": "2023-08-29T14:02:23.999715Z",
     "start_time": "2023-08-29T14:02:06.669390Z"
    },
    "scrolled": false
   },
   "outputs": [
    {
     "data": {
      "image/png": "[encoded data removed]",
      "text/plain": [
       "<Figure size 936x504 with 3 Axes>"
      ]
     },
     "metadata": {
      "needs_background": "light"
     },
     "output_type": "display_data"
    }
   ],
   "source": [
    "fig, axes = plt.subplots(3,1, sharex='row', figsize=(13,7))\n",
    "plt.subplots_adjust(top=0.9, left=0.03, right=0.8)\n",
    "upls.plot_saliences(df_data=saliences, index=0, ax=axes[0], df_levels=df_levels)\n",
    "upls.plot_saliences(df_data=saliences, index=1, ax=axes[1], df_levels=df_levels)\n",
    "upls.plot_saliences(df_data=saliences, index=2, ax=axes[2], df_levels=df_levels)\n",
    "axes[0].tick_params(axis='x', labelrotation=90)\n",
    "axes[1].tick_params(axis='x', labelrotation=90)\n",
    "axes[2].tick_params(axis='x', labelrotation=90)\n",
    "axes[0].set_xlabel('')\n",
    "axes[0].set(xticklabels=[])\n",
    "axes[0].set_ylim(-3,3)\n",
    "axes[1].set_xlabel('')\n",
    "axes[1].set(xticklabels=[])\n",
    "axes[0].set_title('First salience')\n",
    "axes[1].set_title('Second salience')\n",
    "axes[2].set_title('Third salience')\n",
    "axes[2].set_xlabel('Area')\n",
    "axes[0].legend(loc='right', bbox_to_anchor=(1.25,0.3))\n",
    "axes[1].get_legend().remove()\n",
    "axes[2].get_legend().remove()\n",
    "n = 4  # Keeps every 7th label\n",
    "for i in range(3):\n",
    "    axes[i].axhline(y=1.96, linestyle='-.', color='darkgrey')\n",
    "    axes[i].axhline(y=-1.96, linestyle='-.', color='darkgrey')\n",
    "    [l.set_visible(False) for (i,l) in enumerate(axes[i].xaxis.get_ticklabels()) if i % n != 0]\n",
    "plt.savefig('./results_pls/WILD_without_father_pls_saliences_all_areas.png')\n",
    "plt.savefig('./results_pls/WILD_without_father_pls_saliences_all_areas.svg')"
   ]
  },
  {
   "cell_type": "markdown",
   "metadata": {
    "ExecuteTime": {
     "end_time": "2023-04-28T07:45:14.437413Z",
     "start_time": "2023-04-28T07:45:14.413768Z"
    }
   },
   "source": [
    "# Identify areas with significant salience contribution"
   ]
  },
  {
   "cell_type": "code",
   "execution_count": 19,
   "metadata": {
    "ExecuteTime": {
     "end_time": "2023-08-29T13:58:34.167031Z",
     "start_time": "2023-08-29T13:58:34.153650Z"
    }
   },
   "outputs": [],
   "source": [
    "pls_sig_areas = upls.identify_pls_sig_areas(saliences=saliences, \n",
    "                                       threshold=1.96, \n",
    "                                       volumes=volumes)\n",
    "np.save('results_pls/pls_sig_areas_WILD_without_father.npy', pls_sig_areas)"
   ]
  },
  {
   "cell_type": "code",
   "execution_count": 20,
   "metadata": {
    "ExecuteTime": {
     "end_time": "2023-08-29T13:58:34.419367Z",
     "start_time": "2023-08-29T13:58:34.414944Z"
    }
   },
   "outputs": [
    {
     "data": {
      "text/plain": [
       "array(['Agranular insular area', \"Ammon's horn\",\n",
       "       'Anterior olfactory nucleus', 'Basomedial amygdalar nucleus',\n",
       "       'Bed nucleus of the accessory olfactory tract', 'Dentate gyrus',\n",
       "       'Dorsal nucleus raphe', 'Globus pallidus internal segment',\n",
       "       'Interfascicular nucleus raphe', 'Midbrain reticular nucleus',\n",
       "       'Posterior limiting nucleus of the thalamus',\n",
       "       'Subgeniculate nucleus',\n",
       "       'Ventral anterior-lateral complex of the thalamus'], dtype='<U48')"
      ]
     },
     "execution_count": 20,
     "metadata": {},
     "output_type": "execute_result"
    }
   ],
   "source": [
    "pls_sig_areas = np.load('results_pls/pls_sig_areas_WILD_without_father.npy', allow_pickle=True)\n",
    "pls_sig_areas"
   ]
  },
  {
   "cell_type": "markdown",
   "metadata": {},
   "source": [
    "# Identify areas with significant salience contribution"
   ]
  },
  {
   "cell_type": "code",
   "execution_count": 25,
   "metadata": {
    "ExecuteTime": {
     "end_time": "2023-08-15T16:33:05.940891Z",
     "start_time": "2023-08-15T16:33:05.938866Z"
    }
   },
   "outputs": [],
   "source": [
    "# pls_sig_areas_filt = upls.identify_pls_sig_areas(saliences=c57_saliences_filt, \n",
    "#                                        threshold=1.96, \n",
    "#                                        volumes=volumes)\n",
    "# pls_sig_areas_filt"
   ]
  },
  {
   "cell_type": "code",
   "execution_count": 26,
   "metadata": {
    "ExecuteTime": {
     "end_time": "2023-08-15T16:33:05.953962Z",
     "start_time": "2023-08-15T16:33:05.942304Z"
    }
   },
   "outputs": [
    {
     "data": {
      "text/plain": [
       "array(['Accessory olfactory bulb', 'Agranular insular area',\n",
       "       'Lateral terminal nucleus of the accessory optic tract',\n",
       "       'Postpiriform transition area',\n",
       "       'Ventral part of the lateral geniculate complex'], dtype='<U53')"
      ]
     },
     "execution_count": 26,
     "metadata": {},
     "output_type": "execute_result"
    }
   ],
   "source": [
    "pls_sig_areas"
   ]
  },
  {
   "cell_type": "code",
   "execution_count": null,
   "metadata": {},
   "outputs": [],
   "source": []
  },
  {
   "cell_type": "code",
   "execution_count": null,
   "metadata": {},
   "outputs": [],
   "source": []
  },
  {
   "cell_type": "code",
   "execution_count": null,
   "metadata": {},
   "outputs": [],
   "source": []
  },
  {
   "cell_type": "code",
   "execution_count": null,
   "metadata": {},
   "outputs": [],
   "source": []
  }
 ],
 "metadata": {
  "kernelspec": {
   "display_name": "ClearMap",
   "language": "python",
   "name": "clearmap"
  },
  "language_info": {
   "codemirror_mode": {
    "name": "ipython",
    "version": 3
   },
   "file_extension": ".py",
   "mimetype": "text/x-python",
   "name": "python",
   "nbconvert_exporter": "python",
   "pygments_lexer": "ipython3",
   "version": "3.8.1"
  },
  "latex_envs": {
   "LaTeX_envs_menu_present": true,
   "autoclose": false,
   "autocomplete": true,
   "bibliofile": "biblio.bib",
   "cite_by": "apalike",
   "current_citInitial": 1,
   "eqLabelWithNumbers": true,
   "eqNumInitial": 1,
   "hotkeys": {
    "equation": "Ctrl-E",
    "itemize": "Ctrl-I"
   },
   "labels_anchors": false,
   "latex_user_defs": false,
   "report_style_numbering": false,
   "user_envs_cfg": false
  },
  "toc": {
   "nav_menu": {},
   "number_sections": true,
   "sideBar": true,
   "skip_h1_title": false,
   "title_cell": "Table of Contents",
   "title_sidebar": "Contents",
   "toc_cell": false,
   "toc_position": {},
   "toc_section_display": true,
   "toc_window_display": false
  },
  "varInspector": {
   "cols": {
    "lenName": 16,
    "lenType": 16,
    "lenVar": 40
   },
   "kernels_config": {
    "python": {
     "delete_cmd_postfix": "",
     "delete_cmd_prefix": "del ",
     "library": "var_list.py",
     "varRefreshCmd": "print(var_dic_list())"
    },
    "r": {
     "delete_cmd_postfix": ") ",
     "delete_cmd_prefix": "rm(",
     "library": "var_list.r",
     "varRefreshCmd": "cat(var_dic_list()) "
    }
   },
   "types_to_exclude": [
    "module",
    "function",
    "builtin_function_or_method",
    "instance",
    "_Feature"
   ],
   "window_display": false
  }
 },
 "nbformat": 4,
 "nbformat_minor": 4
}
